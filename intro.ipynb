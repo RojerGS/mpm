{
 "cells": [
  {
   "cell_type": "markdown",
   "metadata": {},
   "source": [
    "# Introdução\n",
    "\n",
    "Este capítulo pretende introduzir o leitor à programação em Mathematica. Vamos assumir que o leitor está vagamente familiarizado com os conceitos de programação.\n",
    "\n",
    "O Mathematica é extremamente poderoso por causa do seu sistema de programação simbólica, que vamos explorar mais tarde. Para além disso, o Mathematica tem, no momento em que este parágrafo foi escrito, [quase 6000 funções pré-definidas](https://reference.wolfram.com/language/guide/AlphabeticalListing).\n",
    "\n",
    "No entanto, vamos começar por introduzir o Mathematica como uma linguagem de programação \"clássica\".\n",
    "\n",
    "## Objetivos\n",
    "\n",
    "Os objetivos deste capítulo são\n",
    "\n",
    " - apresentar a sintaxe básica para chamar funções no Mathematica;\n",
    " - mostrar como encadear várias instruções consecutivas;\n",
    " - mostrar que tudo no Mathematica são funções;\n",
    " - usar as funções `If`, `For` e `While` para execução condicional e/ou repetida de código;\n",
    " - usar conectores lógicos e funções lógicas para escrever condições;\n",
    " - aprender a usar `Module` para impedir que a sessão fique cheia de variáveis inúteis;\n",
    " - aprender a definir as tuas próprias funções;\n",
    " - sugerir boas práticas para escrever código legível."
   ]
  },
  {
   "cell_type": "markdown",
   "metadata": {},
   "source": [
    "## Uma calculadora potente\n",
    "\n",
    "O Mathematica pode ser usado como uma calculadora muito potente. As quatro operações básicas são acessíveis através dos quatro símbolos usuais das linguagens de programação:"
   ]
  },
  {
   "cell_type": "code",
   "execution_count": 1,
   "metadata": {},
   "outputs": [
    {
     "data": {
      "text/html": [
       "<div><pre style=\"&#102;&#111;&#110;&#116;&#45;&#102;&#97;&#109;&#105;&#108;&#121;&#58;&#32;&#34;&#67;&#111;&#117;&#114;&#105;&#101;&#114;&#32;&#78;&#101;&#119;&#34;&#44;&#67;&#111;&#117;&#114;&#105;&#101;&#114;&#44;&#109;&#111;&#110;&#111;&#115;&#112;&#97;&#99;&#101;&#59;\">&#51;</pre></div>"
      ],
      "text/plain": [
       "3"
      ]
     },
     "execution_count": 1,
     "metadata": {
      "text/html": [],
      "text/plain": []
     },
     "output_type": "execute_result"
    }
   ],
   "source": [
    "1 + 2"
   ]
  },
  {
   "cell_type": "code",
   "execution_count": 2,
   "metadata": {},
   "outputs": [
    {
     "data": {
      "text/html": [
       "<div><pre style=\"&#102;&#111;&#110;&#116;&#45;&#102;&#97;&#109;&#105;&#108;&#121;&#58;&#32;&#34;&#67;&#111;&#117;&#114;&#105;&#101;&#114;&#32;&#78;&#101;&#119;&#34;&#44;&#67;&#111;&#117;&#114;&#105;&#101;&#114;&#44;&#109;&#111;&#110;&#111;&#115;&#112;&#97;&#99;&#101;&#59;\">&#45;&#49;</pre></div>"
      ],
      "text/plain": [
       "-1"
      ]
     },
     "execution_count": 2,
     "metadata": {
      "text/html": [],
      "text/plain": []
     },
     "output_type": "execute_result"
    }
   ],
   "source": [
    "3 - 4"
   ]
  },
  {
   "cell_type": "code",
   "execution_count": 3,
   "metadata": {},
   "outputs": [
    {
     "data": {
      "text/html": [
       "<div><pre style=\"&#102;&#111;&#110;&#116;&#45;&#102;&#97;&#109;&#105;&#108;&#121;&#58;&#32;&#34;&#67;&#111;&#117;&#114;&#105;&#101;&#114;&#32;&#78;&#101;&#119;&#34;&#44;&#67;&#111;&#117;&#114;&#105;&#101;&#114;&#44;&#109;&#111;&#110;&#111;&#115;&#112;&#97;&#99;&#101;&#59;\">&#51;&#48;</pre></div>"
      ],
      "text/plain": [
       "30"
      ]
     },
     "execution_count": 3,
     "metadata": {
      "text/html": [],
      "text/plain": []
     },
     "output_type": "execute_result"
    }
   ],
   "source": [
    "5 * 6"
   ]
  },
  {
   "cell_type": "code",
   "execution_count": 4,
   "metadata": {},
   "outputs": [
    {
     "data": {
      "text/html": [
       "<div><img alt=\"Output\" src=\"data:image/png;base64,iVBORw0KGgoAAAANSUhEUgAAAAwAAAAgCAIAAACpeQ79AAAAqXpUWHRSYXcgcHJvZmlsZSB0eXBlIGV4aWYAAHjaVU7BDQIxDPt3CkZI08RuxzkdPYkNGB8HEBJ+JK5lx237+bjardD7bJGcWIAJsWL5ITLtg242uqabZX6lw/4Qg45EbwytcCOxxKeYJtItiQsnIGPH3S1O7Q1SMbAcAC66nIPRJNepzeBwcwXSkHQOndmKnFJSLwWjlJPLbRxVXfDNd2H7NW5U9F7fbS+9qDdb5gLobwAAAAlwSFlzAAALEwAACxMBAJqcGAAAAF10RVh0U29mdHdhcmUAQ3JlYXRlZCB3aXRoIHRoZSBXb2xmcmFtIExhbmd1YWdlIGZvciBTdHVkZW50cyAtIFBlcnNvbmFsIFVzZSBPbmx5IDogd3d3LndvbGZyYW0uY29tSN96kwAAACF0RVh0Q3JlYXRpb24gVGltZQAyMDIwOjExOjA4IDEyOjM3OjA1x3n10wAAALJJREFUOI3dk7ENwyAQRY8oA7BEmoyAN/AguGUERsDL4EVcGXb5KZAQcGe7i6L8BgSPr+P0j1AULfWyEVUEQdGSCekSSsF0PhI02ggQt2FQCobZjFC0xG166MQGgAJAd3rcEj8KPcvivR8unHNa67L/7xY00LaoqmXrqCZLNUqng9CkiaWcJZOEcNaa8jqpmSKASLOa1izU1E3JmPW2BftRnudjJ/N+Cb9DCqYeDlV9OQUfORCgAvcoungAAAAASUVORK5CYII=\"></div>"
      ],
      "text/plain": [
       "7\n",
       "-\n",
       "8"
      ]
     },
     "execution_count": 4,
     "metadata": {
      "text/html": [],
      "text/plain": []
     },
     "output_type": "execute_result"
    }
   ],
   "source": [
    "7 / 8"
   ]
  },
  {
   "cell_type": "markdown",
   "metadata": {},
   "source": [
    "O Mathematica é um software com muitas funcionalidades simbólicas e, por esse motivo, o Mathematica dá-nos respostas exatas sempre que consegue. Por isso é que `7 / 8` deu $\\frac{7}{8}$. Se quisermos obrigar o Mathematica a dar-nos um número, podemos usar a função `N`:"
   ]
  },
  {
   "cell_type": "code",
   "execution_count": 5,
   "metadata": {},
   "outputs": [
    {
     "data": {
      "text/html": [
       "<div><pre style=\"&#102;&#111;&#110;&#116;&#45;&#102;&#97;&#109;&#105;&#108;&#121;&#58;&#32;&#34;&#67;&#111;&#117;&#114;&#105;&#101;&#114;&#32;&#78;&#101;&#119;&#34;&#44;&#67;&#111;&#117;&#114;&#105;&#101;&#114;&#44;&#109;&#111;&#110;&#111;&#115;&#112;&#97;&#99;&#101;&#59;\">&#48;&#46;&#56;&#55;&#53;</pre></div>"
      ],
      "text/plain": [
       "0.875"
      ]
     },
     "execution_count": 5,
     "metadata": {
      "text/html": [],
      "text/plain": []
     },
     "output_type": "execute_result"
    }
   ],
   "source": [
    "N[7 / 8]"
   ]
  },
  {
   "cell_type": "markdown",
   "metadata": {},
   "source": [
    "Por ser uma ferramenta de cálculo simbólico, o Mathematica não tem limitações muito grandes no quão grandes ou pequenos os números podem ficar. Por exemplo, podemos usar `N` para pedir o resultado de uma operação com tantas casas decimais quantas quisermos:"
   ]
  },
  {
   "cell_type": "code",
   "execution_count": 18,
   "metadata": {},
   "outputs": [
    {
     "data": {
      "text/html": [
       "<div><pre style=\"&#102;&#111;&#110;&#116;&#45;&#102;&#97;&#109;&#105;&#108;&#121;&#58;&#32;&#34;&#67;&#111;&#117;&#114;&#105;&#101;&#114;&#32;&#78;&#101;&#119;&#34;&#44;&#67;&#111;&#117;&#114;&#105;&#101;&#114;&#44;&#109;&#111;&#110;&#111;&#115;&#112;&#97;&#99;&#101;&#59;\">&#48;&#46;&#49;&#52;&#50;&#56;&#53;&#55;</pre></div>"
      ],
      "text/plain": [
       "0.142857"
      ]
     },
     "execution_count": 18,
     "metadata": {
      "text/html": [],
      "text/plain": []
     },
     "output_type": "execute_result"
    }
   ],
   "source": [
    "N[1/7]"
   ]
  },
  {
   "cell_type": "code",
   "execution_count": 19,
   "metadata": {},
   "outputs": [
    {
     "data": {
      "text/html": [
       "<div><pre style=\"&#102;&#111;&#110;&#116;&#45;&#102;&#97;&#109;&#105;&#108;&#121;&#58;&#32;&#34;&#67;&#111;&#117;&#114;&#105;&#101;&#114;&#32;&#78;&#101;&#119;&#34;&#44;&#67;&#111;&#117;&#114;&#105;&#101;&#114;&#44;&#109;&#111;&#110;&#111;&#115;&#112;&#97;&#99;&#101;&#59;\">&#48;&#46;&#49;&#52;&#50;&#56;&#53;&#55;&#49;&#52;&#50;&#56;&#53;&#55;&#49;&#52;&#50;&#56;&#53;&#55;&#49;&#52;&#50;&#56;&#53;&#55;&#49;&#52;&#50;&#56;&#53;&#55;&#49;&#52;&#50;&#56;&#53;&#55;&#49;&#52;&#50;&#56;&#53;&#55;&#49;&#52;&#50;&#56;&#53;&#55;&#49;&#52;</pre></div>"
      ],
      "text/plain": [
       "0.14285714285714285714285714285714285714285714285714"
      ]
     },
     "execution_count": 19,
     "metadata": {
      "text/html": [],
      "text/plain": []
     },
     "output_type": "execute_result"
    }
   ],
   "source": [
    "N[1/7, 50]"
   ]
  },
  {
   "cell_type": "code",
   "execution_count": 20,
   "metadata": {},
   "outputs": [
    {
     "data": {
      "text/html": [
       "<div><pre style=\"&#102;&#111;&#110;&#116;&#45;&#102;&#97;&#109;&#105;&#108;&#121;&#58;&#32;&#34;&#67;&#111;&#117;&#114;&#105;&#101;&#114;&#32;&#78;&#101;&#119;&#34;&#44;&#67;&#111;&#117;&#114;&#105;&#101;&#114;&#44;&#109;&#111;&#110;&#111;&#115;&#112;&#97;&#99;&#101;&#59;\">&#51;&#46;&#49;&#52;&#49;&#53;&#57;&#50;&#54;&#53;&#51;&#53;&#56;&#57;&#55;&#57;&#51;&#50;&#51;&#56;&#52;&#54;&#50;&#54;&#52;&#51;&#51;&#56;&#51;&#50;&#55;&#57;&#53;&#48;&#50;&#56;&#56;&#52;&#49;&#57;&#55;&#49;&#54;&#57;&#51;&#57;&#57;&#51;&#55;&#53;&#49;&#48;&#53;&#56;&#50;&#48;&#57;&#55;&#52;&#57;&#52;&#52;&#53;&#57;&#50;&#51;&#48;&#55;&#56;&#49;&#54;&#52;&#48;&#54;&#50;&#56;&#54;&#50;&#48;&#56;&#57;&#57;&#56;&#54;&#50;&#56;&#48;&#51;&#92;&#10;&#32;&#10;&#62;&#32;&#32;&#32;&#52;&#56;&#50;&#53;&#51;&#52;&#50;&#49;&#49;&#55;&#48;&#54;&#55;&#57;&#56;&#50;&#49;&#52;&#56;&#48;&#56;&#54;&#53;&#49;&#51;&#50;&#56;&#50;&#51;&#48;&#54;&#54;&#52;&#55;&#48;&#57;&#51;&#56;&#52;&#52;&#54;&#48;&#57;&#53;&#53;&#48;&#53;&#56;&#50;&#50;&#51;&#49;&#55;&#50;&#53;&#51;&#53;&#57;&#52;&#48;&#56;&#49;&#50;&#56;&#52;&#56;&#49;&#49;&#49;&#55;&#52;&#53;&#48;&#50;&#56;&#52;&#49;&#48;&#50;&#55;&#48;&#49;&#57;&#51;&#92;&#10;&#32;&#10;&#62;&#32;&#32;&#32;&#56;&#53;&#50;&#49;&#49;&#48;&#53;&#53;&#53;&#57;&#54;&#52;&#52;&#54;&#50;&#50;&#57;&#52;&#56;&#57;&#53;&#52;&#57;&#51;&#48;&#51;&#56;&#49;&#57;&#54;&#52;&#52;&#50;&#56;&#56;&#49;&#48;&#57;&#55;&#53;&#54;&#54;&#53;&#57;&#51;&#51;&#52;&#52;&#54;&#49;&#50;&#56;&#52;&#55;&#53;&#54;&#52;&#56;&#50;&#51;&#51;&#55;&#56;&#54;&#55;&#56;&#51;&#49;&#54;&#53;&#50;&#55;&#49;&#50;&#48;&#49;&#57;&#48;&#57;&#49;&#52;&#53;&#54;&#52;&#92;&#10;&#32;&#10;&#62;&#32;&#32;&#32;&#56;&#53;&#54;&#54;&#57;&#50;&#51;&#52;&#54;&#48;&#51;&#52;&#56;&#54;&#49;&#48;&#52;&#53;&#52;&#51;&#50;&#54;&#54;&#52;&#56;&#50;&#49;&#51;&#51;&#57;&#51;&#54;&#48;&#55;&#50;&#54;&#48;&#50;&#52;&#57;&#49;&#52;&#49;&#50;&#55;</pre></div>"
      ],
      "text/plain": [
       "3.14159265358979323846264338327950288419716939937510582097494459230781640628620899862803\\\n",
       " \n",
       ">   482534211706798214808651328230664709384460955058223172535940812848111745028410270193\\\n",
       " \n",
       ">   852110555964462294895493038196442881097566593344612847564823378678316527120190914564\\\n",
       " \n",
       ">   856692346034861045432664821339360726024914127"
      ]
     },
     "execution_count": 20,
     "metadata": {
      "text/html": [],
      "text/plain": []
     },
     "output_type": "execute_result"
    }
   ],
   "source": [
    "N[Pi, 300]"
   ]
  },
  {
   "cell_type": "markdown",
   "metadata": {},
   "source": [
    "É importante notar que, para o Mathematica, todas as operações são funções. Assim, apesar de ser possível dividir dois números com `1/7`, também é possível fazê-lo com"
   ]
  },
  {
   "cell_type": "code",
   "execution_count": 21,
   "metadata": {},
   "outputs": [
    {
     "data": {
      "text/html": [
       "<div><img alt=\"Output\" src=\"data:image/png;base64,iVBORw0KGgoAAAANSUhEUgAAAAwAAAAgCAIAAACpeQ79AAAAqXpUWHRSYXcgcHJvZmlsZSB0eXBlIGV4aWYAAHjaVU7BDQIxDPt3CkZI08RuxzkdPYkNGB8HEBJ+JK5lx237+bjardD7bJGcWIAJsWL5ITLtg242uqabZX6lw/4Qg45EbwytcCOxxKeYJtItiQsnIGPH3S1O7Q1SMbAcAC66nIPRJNepzeBwcwXSkHQOndmKnFJSLwWjlJPLbRxVXfDNd2H7NW5U9F7fbS+9qDdb5gLobwAAAAlwSFlzAAALEwAACxMBAJqcGAAAAF10RVh0U29mdHdhcmUAQ3JlYXRlZCB3aXRoIHRoZSBXb2xmcmFtIExhbmd1YWdlIGZvciBTdHVkZW50cyAtIFBlcnNvbmFsIFVzZSBPbmx5IDogd3d3LndvbGZyYW0uY29tSN96kwAAACF0RVh0Q3JlYXRpb24gVGltZQAyMDIwOjExOjA5IDE1OjEwOjMxJktcYAAAAJhJREFUOI3dk7ERgCAMRYPnAAzhFGzgFHZQygiMQGvpEjCBUzBMLECFgJYU/gYI7/6RHB/wUbACAEA6JBogySu2wJ44ohuaNzzWqUHk0Jc6Q3C16WRZzwfBELHjmzpDY1yMMeRCa805j/t/j+CCvGKllM8omoz0bYQNz7kBBStIrGqI2jSg2qaCghWVDYWcbIW8gF5ssHsQTgYiKkjie2slAAAAAElFTkSuQmCC\"></div>"
      ],
      "text/plain": [
       "1\n",
       "-\n",
       "7"
      ]
     },
     "execution_count": 21,
     "metadata": {
      "text/html": [],
      "text/plain": []
     },
     "output_type": "execute_result"
    }
   ],
   "source": [
    "Divide[1, 7]"
   ]
  },
  {
   "cell_type": "code",
   "execution_count": 22,
   "metadata": {
    "scrolled": true
   },
   "outputs": [
    {
     "data": {
      "text/html": [
       "<div><pre style=\"&#102;&#111;&#110;&#116;&#45;&#102;&#97;&#109;&#105;&#108;&#121;&#58;&#32;&#34;&#67;&#111;&#117;&#114;&#105;&#101;&#114;&#32;&#78;&#101;&#119;&#34;&#44;&#67;&#111;&#117;&#114;&#105;&#101;&#114;&#44;&#109;&#111;&#110;&#111;&#115;&#112;&#97;&#99;&#101;&#59;\">&#48;&#46;&#49;&#52;&#50;&#56;&#53;&#55;</pre></div>"
      ],
      "text/plain": [
       "0.142857"
      ]
     },
     "execution_count": 22,
     "metadata": {
      "text/html": [],
      "text/plain": []
     },
     "output_type": "execute_result"
    }
   ],
   "source": [
    "N[Divide[1, 7]]"
   ]
  },
  {
   "cell_type": "markdown",
   "metadata": {},
   "source": [
    "Há muitas funções numéricas pré-definidas no Mathematica, por exemplo `Plus`, `Minus`, `Times`, `Divide`, `Power`, `Sqrt`, `Mod`, `Quotient`, `QuotientRemainder`, `Divisible`, ... Cabe ao utilizador usar o comando de ajuda `?F` para descobrir o que é que estas funções fazem.\n",
    "\n",
    "```{admonition} TL;DR\n",
    "O mais importante desta secção é\n",
    " - a sintaxe para chamar funções, que usa parêntesis retos;\n",
    " - o facto de tudo ser uma função no Mathematica, até operações que têm símbolos próprios.\n",
    "```"
   ]
  },
  {
   "cell_type": "markdown",
   "metadata": {},
   "source": [
    "## Execução condicional\n",
    "\n",
    "No Matemática, podemos executar código condicionalmente com a função `If[condition, ifTrue]`:"
   ]
  },
  {
   "cell_type": "code",
   "execution_count": 30,
   "metadata": {},
   "outputs": [
    {
     "name": "stdout",
     "output_type": "stream",
     "text": [
      "HEY!\r\n"
     ]
    }
   ],
   "source": [
    "If[5 > 0, Print[\"HEY!\"]]"
   ]
  },
  {
   "cell_type": "code",
   "execution_count": 31,
   "metadata": {},
   "outputs": [],
   "source": [
    "If[5 > 10, Print[\"HEY!\"]]"
   ]
  },
  {
   "cell_type": "markdown",
   "metadata": {},
   "source": [
    "Podemos pedir ao Mathematica que nos mostre a ajuda relativa a esta função se pusermos um `?` antes do nome da função:"
   ]
  },
  {
   "cell_type": "code",
   "execution_count": 32,
   "metadata": {},
   "outputs": [
    {
     "data": {
      "text/html": [
       "<div><img alt=\"Output\" src=\"data:image/png;base64,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\"></div>"
      ],
      "text/plain": [
       "If[condition, t, f] gives t if condition\n",
       " \n",
       ">      evaluates to True, and f if it evaluates to False. If[condition, t, f, u]\n",
       "\n",
       " \n",
       ">        gives u if condition evaluates to neither True nor False. \n",
       "\n",
       "\n",
       "Attributes[If]={HoldRest, Protected}"
      ]
     },
     "execution_count": 32,
     "metadata": {
      "text/html": [],
      "text/plain": []
     },
     "output_type": "execute_result"
    }
   ],
   "source": [
    "?If"
   ]
  },
  {
   "cell_type": "markdown",
   "metadata": {},
   "source": [
    "A primeira linha diz-nos que podemos passar 3 argumentos à função `If`, em vez de só dois, para executarmos código caso a condição seja falsa:"
   ]
  },
  {
   "cell_type": "code",
   "execution_count": 33,
   "metadata": {},
   "outputs": [
    {
     "name": "stdout",
     "output_type": "stream",
     "text": [
      "It was false...\r\n"
     ]
    }
   ],
   "source": [
    "If[5 > 10, Print[\"HEY!\"], Print[\"It was false...\"]]"
   ]
  },
  {
   "cell_type": "markdown",
   "metadata": {},
   "source": [
    "Claro que o segundo e terceiro argumentos da função `If` podem ser mais do que uma simples expressão. Em Mathematica, usa-se `;` para separar expressões consecutivas:"
   ]
  },
  {
   "cell_type": "code",
   "execution_count": 40,
   "metadata": {},
   "outputs": [
    {
     "name": "stdout",
     "output_type": "stream",
     "text": [
      "27\r\n"
     ]
    }
   ],
   "source": [
    "If[5 > 0,\n",
    "    var = 3; other = 3^var; Print[other],\n",
    "    var = 4; other = 4^var; Print[other]\n",
    "]"
   ]
  },
  {
   "cell_type": "code",
   "execution_count": 35,
   "metadata": {},
   "outputs": [
    {
     "name": "stdout",
     "output_type": "stream",
     "text": [
      "256\r\n"
     ]
    }
   ],
   "source": [
    "If[5 > 10,\n",
    "    var = 3; other = 3^var; Print[other],\n",
    "    var = 4; other = 4^var; Print[other]\n",
    "]"
   ]
  },
  {
   "cell_type": "markdown",
   "metadata": {},
   "source": [
    "Porque no Mathematica tudo são funções, é importante notar que a sintaxe `;` é só um atalho para a função `CompoundExpression`, cujos argumentos são as expressões consecutivas:"
   ]
  },
  {
   "cell_type": "code",
   "execution_count": 38,
   "metadata": {},
   "outputs": [
    {
     "data": {
      "text/html": [
       "<div><img alt=\"Output\" src=\"data:image/png;base64,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\"></div>"
      ],
      "text/plain": [
       "expr  ; expr  ; … evaluates the expr  in turn, giving the last one as the result. \n",
       "    1       2                       i\n",
       "\n",
       "\n",
       "Attributes[CompoundExpression]={HoldAll, Protected, ReadProtected}"
      ]
     },
     "execution_count": 38,
     "metadata": {
      "text/html": [],
      "text/plain": []
     },
     "output_type": "execute_result"
    }
   ],
   "source": [
    "?CompoundExpression"
   ]
  },
  {
   "cell_type": "markdown",
   "metadata": {},
   "source": [
    "Neste caso, vemos que a ajuda do Mathematica até usa a sintaxe `;` em vez da função explícita. Para efeitos de demonstração, podemos usar a função propriamente dita:"
   ]
  },
  {
   "cell_type": "code",
   "execution_count": 54,
   "metadata": {},
   "outputs": [
    {
     "name": "stdout",
     "output_type": "stream",
     "text": [
      "27\r\n"
     ]
    }
   ],
   "source": [
    "If[5 > 0,\n",
    "    CompoundExpression[var = 3, other = 3^var, Print[other]],\n",
    "    CompoundExpression[var = 4, other = 4^var, Print[other]]\n",
    "]"
   ]
  },
  {
   "cell_type": "markdown",
   "metadata": {},
   "source": [
    "Naturalmente, há vários conectores lógicos que podem ser usados para criar condições mais complexas, tais como a disjunção (`&&` ou função `And`) e a conjunção (`||` ou função `Or`). Também podemos usar `==` (`Equal`) para testar igualdade e `!=` (`Unequal`) para testar desigualdade. Finalmente, para negar um valor lógico podemos usar um `!` antes do valor lógico, ou usar a função `Not`:"
   ]
  },
  {
   "cell_type": "code",
   "execution_count": 55,
   "metadata": {},
   "outputs": [
    {
     "data": {
      "text/html": [
       "<div><img alt=\"Output\" src=\"data:image/png;base64,iVBORw0KGgoAAAANSUhEUgAAABwAAAAPCAIAAAB4LTj2AAAAqXpUWHRSYXcgcHJvZmlsZSB0eXBlIGV4aWYAAHjaVU7BDQIxDPt3CkZI08RuxzkdPYkNGB8HEBJ+JK5lx237+bjardD7bJGcWIAJsWL5ITLtg242uqabZX6lw/4Qg45EbwytcCOxxKeYJtItiQsnIGPH3S1O7Q1SMbAcAC66nIPRJNepzeBwcwXSkHQOndmKnFJSLwWjlJPLbRxVXfDNd2H7NW5U9F7fbS+9qDdb5gLobwAAAAlwSFlzAAALEwAACxMBAJqcGAAAAF10RVh0U29mdHdhcmUAQ3JlYXRlZCB3aXRoIHRoZSBXb2xmcmFtIExhbmd1YWdlIGZvciBTdHVkZW50cyAtIFBlcnNvbmFsIFVzZSBPbmx5IDogd3d3LndvbGZyYW0uY29tSN96kwAAACF0RVh0Q3JlYXRpb24gVGltZQAyMDIwOjExOjA5IDIyOjQwOjE3ftYtygAAAMZJREFUOI3lkyESgzAQRf92epRyieYEiaqqrQsSTB03qEkkcbWoKnKCcgIGAblLKgidiYApU0ynX2V+dt7m72zIe4+ttduc+FtQpxnFYtp9S/VBtYSs/TaajW9TSvU7RWonz47XTrPoHNUtzdRUuIcU5mHnuyddMcWFYNotQmWRHQAAvPQlnylyfQsjwkOFAQDsF6Afaeiaoxqeof2otSvV9g6A05e8GQ1+kk1+i4ezCsqvCnlCREl1VnIyy0G1ItpH+u+//wKue5yQHeLyXgAAAABJRU5ErkJggg==\"></div>"
      ],
      "text/plain": [
       "True"
      ]
     },
     "execution_count": 55,
     "metadata": {
      "text/html": [],
      "text/plain": []
     },
     "output_type": "execute_result"
    }
   ],
   "source": [
    "3 == 3"
   ]
  },
  {
   "cell_type": "code",
   "execution_count": 56,
   "metadata": {},
   "outputs": [
    {
     "data": {
      "text/html": [
       "<div><img alt=\"Output\" src=\"data:image/png;base64,iVBORw0KGgoAAAANSUhEUgAAACMAAAAPCAIAAADh1eFDAAAAqXpUWHRSYXcgcHJvZmlsZSB0eXBlIGV4aWYAAHjaVU7BDQIxDPt3CkZI08RuxzkdPYkNGB8HEBJ+JK5lx237+bjardD7bJGcWIAJsWL5ITLtg242uqabZX6lw/4Qg45EbwytcCOxxKeYJtItiQsnIGPH3S1O7Q1SMbAcAC66nIPRJNepzeBwcwXSkHQOndmKnFJSLwWjlJPLbRxVXfDNd2H7NW5U9F7fbS+9qDdb5gLobwAAAAlwSFlzAAALEwAACxMBAJqcGAAAAF10RVh0U29mdHdhcmUAQ3JlYXRlZCB3aXRoIHRoZSBXb2xmcmFtIExhbmd1YWdlIGZvciBTdHVkZW50cyAtIFBlcnNvbmFsIFVzZSBPbmx5IDogd3d3LndvbGZyYW0uY29tSN96kwAAACF0RVh0Q3JlYXRpb24gVGltZQAyMDIwOjExOjA5IDIyOjQwOjIzUpa6EAAAAOdJREFUOI3tVLsNgzAUfEQZBZqMYCaAiilMCXvQmBJPQWUmgAlQCswulwLzF5AQCaXINdZ7fufTnS1bAOgS3K6R+WGlIrQ6hMUppYF/eIiXAdCCfSxDRPdu4QqZd4b/PjbTmxo9yKpN3X7STdt109ABKD6hMaExhxaMuNquFZ+Vq57ixISG8TSOlpG9MOXE1a4l58GkPzfeNjVJ3/B9uZteEfq1cXf0AuyoBIAgH5PSz2qWTRnZW0ptUw+ayYEnAy+DFkzmBRF5Aa/iZHG7G0GPl8eE6PeX7rhaNsdzpm0mNGD9/70v8AIYid2Vd/0GYwAAAABJRU5ErkJggg==\"></div>"
      ],
      "text/plain": [
       "False"
      ]
     },
     "execution_count": 56,
     "metadata": {
      "text/html": [],
      "text/plain": []
     },
     "output_type": "execute_result"
    }
   ],
   "source": [
    "3 != 3"
   ]
  },
  {
   "cell_type": "code",
   "execution_count": 58,
   "metadata": {},
   "outputs": [
    {
     "data": {
      "text/html": [
       "<div><img alt=\"Output\" src=\"data:image/png;base64,iVBORw0KGgoAAAANSUhEUgAAACMAAAAPCAIAAADh1eFDAAAAqXpUWHRSYXcgcHJvZmlsZSB0eXBlIGV4aWYAAHjaVU7BDQIxDPt3CkZI08RuxzkdPYkNGB8HEBJ+JK5lx237+bjardD7bJGcWIAJsWL5ITLtg242uqabZX6lw/4Qg45EbwytcCOxxKeYJtItiQsnIGPH3S1O7Q1SMbAcAC66nIPRJNepzeBwcwXSkHQOndmKnFJSLwWjlJPLbRxVXfDNd2H7NW5U9F7fbS+9qDdb5gLobwAAAAlwSFlzAAALEwAACxMBAJqcGAAAAF10RVh0U29mdHdhcmUAQ3JlYXRlZCB3aXRoIHRoZSBXb2xmcmFtIExhbmd1YWdlIGZvciBTdHVkZW50cyAtIFBlcnNvbmFsIFVzZSBPbmx5IDogd3d3LndvbGZyYW0uY29tSN96kwAAACF0RVh0Q3JlYXRpb24gVGltZQAyMDIwOjExOjA5IDIyOjQwOjM2O+d/3gAAAOdJREFUOI3tVLsNgzAUfEQZBZqMYCaAiilMCXvQmBJPQWUmgAlQCswulwLzF5AQCaXINdZ7fufTnS1bAOgS3K6R+WGlIrQ6hMUppYF/eIiXAdCCfSxDRPdu4QqZd4b/PjbTmxo9yKpN3X7STdt109ABKD6hMaExhxaMuNquFZ+Vq57ixISG8TSOlpG9MOXE1a4l58GkPzfeNjVJ3/B9uZteEfq1cXf0AuyoBIAgH5PSz2qWTRnZW0ptUw+ayYEnAy+DFkzmBRF5Aa/iZHG7G0GPl8eE6PeX7rhaNsdzpm0mNGD9/70v8AIYid2Vd/0GYwAAAABJRU5ErkJggg==\"></div>"
      ],
      "text/plain": [
       "False"
      ]
     },
     "execution_count": 58,
     "metadata": {
      "text/html": [],
      "text/plain": []
     },
     "output_type": "execute_result"
    }
   ],
   "source": [
    "True && False"
   ]
  },
  {
   "cell_type": "code",
   "execution_count": 60,
   "metadata": {},
   "outputs": [
    {
     "data": {
      "text/html": [
       "<div><img alt=\"Output\" src=\"data:image/png;base64,iVBORw0KGgoAAAANSUhEUgAAABwAAAAPCAIAAAB4LTj2AAAAqXpUWHRSYXcgcHJvZmlsZSB0eXBlIGV4aWYAAHjaVU7BDQIxDPt3CkZI08RuxzkdPYkNGB8HEBJ+JK5lx237+bjardD7bJGcWIAJsWL5ITLtg242uqabZX6lw/4Qg45EbwytcCOxxKeYJtItiQsnIGPH3S1O7Q1SMbAcAC66nIPRJNepzeBwcwXSkHQOndmKnFJSLwWjlJPLbRxVXfDNd2H7NW5U9F7fbS+9qDdb5gLobwAAAAlwSFlzAAALEwAACxMBAJqcGAAAAF10RVh0U29mdHdhcmUAQ3JlYXRlZCB3aXRoIHRoZSBXb2xmcmFtIExhbmd1YWdlIGZvciBTdHVkZW50cyAtIFBlcnNvbmFsIFVzZSBPbmx5IDogd3d3LndvbGZyYW0uY29tSN96kwAAACF0RVh0Q3JlYXRpb24gVGltZQAyMDIwOjExOjA5IDIyOjQyOjQ3qagRBAAAAMZJREFUOI3lkyESgzAQRf92epRyieYEiaqqrQsSTB03qEkkcbWoKnKCcgIGAblLKgidiYApU0ynX2V+dt7m72zIe4+ttduc+FtQpxnFYtp9S/VBtYSs/TaajW9TSvU7RWonz47XTrPoHNUtzdRUuIcU5mHnuyddMcWFYNotQmWRHQAAvPQlnylyfQsjwkOFAQDsF6Afaeiaoxqeof2otSvV9g6A05e8GQ1+kk1+i4ezCsqvCnlCREl1VnIyy0G1ItpH+u+//wKue5yQHeLyXgAAAABJRU5ErkJggg==\"></div>"
      ],
      "text/plain": [
       "True"
      ]
     },
     "execution_count": 60,
     "metadata": {
      "text/html": [],
      "text/plain": []
     },
     "output_type": "execute_result"
    }
   ],
   "source": [
    "True || False"
   ]
  },
  {
   "cell_type": "code",
   "execution_count": 61,
   "metadata": {},
   "outputs": [
    {
     "data": {
      "text/html": [
       "<div><img alt=\"Output\" src=\"data:image/png;base64,iVBORw0KGgoAAAANSUhEUgAAACMAAAAPCAIAAADh1eFDAAAAqXpUWHRSYXcgcHJvZmlsZSB0eXBlIGV4aWYAAHjaVU7BDQIxDPt3CkZI08RuxzkdPYkNGB8HEBJ+JK5lx237+bjardD7bJGcWIAJsWL5ITLtg242uqabZX6lw/4Qg45EbwytcCOxxKeYJtItiQsnIGPH3S1O7Q1SMbAcAC66nIPRJNepzeBwcwXSkHQOndmKnFJSLwWjlJPLbRxVXfDNd2H7NW5U9F7fbS+9qDdb5gLobwAAAAlwSFlzAAALEwAACxMBAJqcGAAAAF10RVh0U29mdHdhcmUAQ3JlYXRlZCB3aXRoIHRoZSBXb2xmcmFtIExhbmd1YWdlIGZvciBTdHVkZW50cyAtIFBlcnNvbmFsIFVzZSBPbmx5IDogd3d3LndvbGZyYW0uY29tSN96kwAAACF0RVh0Q3JlYXRpb24gVGltZQAyMDIwOjExOjA5IDIyOjQyOjQ5ThA8AwAAAOdJREFUOI3tVLsNgzAUfEQZBZqMYCaAiilMCXvQmBJPQWUmgAlQCswulwLzF5AQCaXINdZ7fufTnS1bAOgS3K6R+WGlIrQ6hMUppYF/eIiXAdCCfSxDRPdu4QqZd4b/PjbTmxo9yKpN3X7STdt109ABKD6hMaExhxaMuNquFZ+Vq57ixISG8TSOlpG9MOXE1a4l58GkPzfeNjVJ3/B9uZteEfq1cXf0AuyoBIAgH5PSz2qWTRnZW0ptUw+ayYEnAy+DFkzmBRF5Aa/iZHG7G0GPl8eE6PeX7rhaNsdzpm0mNGD9/70v8AIYid2Vd/0GYwAAAABJRU5ErkJggg==\"></div>"
      ],
      "text/plain": [
       "False"
      ]
     },
     "execution_count": 61,
     "metadata": {
      "text/html": [],
      "text/plain": []
     },
     "output_type": "execute_result"
    }
   ],
   "source": [
    "!True"
   ]
  },
  {
   "cell_type": "markdown",
   "metadata": {},
   "source": [
    "```{admonition} TL;DR\n",
    "O mais importante desta secção é\n",
    " - que execução condicional se faz com `If[condition, ifTrue, ifFalse]`;\n",
    " - instruções consecutivas são separadas por `;`.\n",
    "```"
   ]
  },
  {
   "cell_type": "markdown",
   "metadata": {},
   "source": [
    "## Ciclos\n",
    "\n",
    "De modo semelhante, o Mathematica tem funções `For` e `While` para executar estes dois tipos de ciclos."
   ]
  },
  {
   "cell_type": "markdown",
   "metadata": {},
   "source": [
    "### Ciclo `For`\n",
    "\n",
    "O ciclo `For` é tipicamente usado para algoritmos com algum tipo de interpretação linear, ou para os quais sabemos exatamente quantas iterações queremos fazer.\n",
    "\n",
    "Compreender a ajuda do Mathematica é uma boa capacidade para se ter, portanto vamos interpretar esta mensagem de ajuda:"
   ]
  },
  {
   "cell_type": "code",
   "execution_count": 41,
   "metadata": {},
   "outputs": [
    {
     "data": {
      "text/html": [
       "<div><img alt=\"Output\" src=\"data:image/png;base64,iVBORw0KGgoAAAANSUhEUgAAAl4AAABMCAIAAAAzwi5oAAAAqXpUWHRSYXcgcHJvZmlsZSB0eXBlIGV4aWYAAHjaVU7BDQIxDPt3CkZI08RuxzkdPYkNGB8HEBJ+JK5lx237+bjardD7bJGcWIAJsWL5ITLtg242uqabZX6lw/4Qg45EbwytcCOxxKeYJtItiQsnIGPH3S1O7Q1SMbAcAC66nIPRJNepzeBwcwXSkHQOndmKnFJSLwWjlJPLbRxVXfDNd2H7NW5U9F7fbS+9qDdb5gLobwAAAAlwSFlzAAALEwAACxMBAJqcGAAAAF10RVh0U29mdHdhcmUAQ3JlYXRlZCB3aXRoIHRoZSBXb2xmcmFtIExhbmd1YWdlIGZvciBTdHVkZW50cyAtIFBlcnNvbmFsIFVzZSBPbmx5IDogd3d3LndvbGZyYW0uY29tSN96kwAAACF0RVh0Q3JlYXRpb24gVGltZQAyMDIwOjExOjA5IDE5OjIyOjIwYl6FmAAAEHBJREFUeJzt3X9oE3neB/DP1KRem836o1m7e6fnUdPuxrQsDw/0rhXCSijbVoqySvE/ydFracG04B4uixACcigSaCJEtisny+4fUmqxBJNAKEpBXbx9fhQbY5vZ3nZZ3P6IPtvN2trGNs8fM/kxyUw6aZOm6vtF/ojjd77zme+P+WS+mSgTjUYJAAAAYhTxd+FwOBwOLy0tRSKRAgYEAACwmZRKZXFxsUql2rlzJ7eFiUaji4uLoVCoqKiotLS0uLhYoVBkrgUAAOC18fLly0gksri4uLy8rNFoVCqVgohCoZBKpVKpVIUODwAAYLMpFAqFQlFSUrK0tDQ3N1daWsr88ssvz58/LysrK3RsAAAABTY/P19UVKT47bffcL8IAABvglD4xbPfXhDR7rd+p1H/Lr1ASUnJs2fPFIuLi7t37xavIzBguf6QiIhqTlpP6NYTRmDAcnvP6S6DJoclAQAAsjO/sHx3/OdQ+EV8y47S4kPvv5eSIIuLi5eWlhSrq6tFRUUi1YRGnNfppNWqI6LQyEiAdOvKjQAAAIU1v7Ds+d8fl1+ucH/cqdq+sPRyfmHZ/T9Txuq9f9idunQqlhQ5c7Mz5Xve4d5rDAbkRQAAeAWtrEbvjv8cz4tE9Jf3f79Po+be35v4eXF5JWUX6d9p6PQ116/3jxyMLXGGRpyXZw/H1lX55c937lhu7zlZPXZ9eIao5qT1oznn5eEZIio3Jq2Nzo1wWxMbQ/wW2sBaLQAAwJpC4cXkdVQi8v73v+PvF5dX/j07f3Cv4ItF6btG0p2wnq4eu2yxWAYCRKQxHK556A9wfxfwP6w5zGW5meHb1Gq1Wk/WPLxu6adWq9VqPVkzM3yHLxovcNpIw/0jISIKDFwe3nPSarVaraeNs9edI6GNnzsAAICIp8K8WP1HzanD+m1FTHzL/z1fTtklQ2okIo2hi8teloEAkU4fy40B/6zxI/5Wr9zYatAQkU5fQ+XVBzXEv5+dCwkLaAyHa2Zm54hCc7NUo9fxR+A3AgAA5EFkRfDvoW5Xbnvy7PnKajSpwGrKLplTIxERaQytxvKH/gCR7iPj7O2RUGjk9iyfA7MSmpvNeh8AAICN2KUqTv7je7tUU3PzyVvK3tqesot0agyMxNY5Q4/G+CdyNAeraezOnTHKJjPOjD0Kxaqp0euINO/sodjSbGjk9sPYHSQAAECuvbuztKR4G/e+WLHtvV1vFSu2xRdUtxUx6U+oZngM551Zi8XCva85aeW+WNQYDu+xXKeT1izuGcv3zPZbLDNcNToiIt2J00bnZa7ycuPpLmRGAADIk2LFtj9ry+88ekJEyy9X/hWc/ulpOL6gWr2vbPdbqb/9Z8bHx/fv3y//GIEBi1+PZ0oBAOBV8v3M/LfBmeSvGImo5o9l//Gn1Fu9qampLP+TjdDI7Vlj64kNRggAALCpDpTv0KhLfpgLh8KLK6vR8h2lf9itEv234ijTgmoq7qeI5cbTXfin3AAA4JWzo7T4w/2y/i+NrBdUAQAAXmNTU1MyfrwBAADwJlEQ0djYWKHDAAAA2BLUarWCiN7/8D8LHQkAAMCW8GRyAguqAAAAAkiNAAAAAkiNAAAAAkiNAAAAAkiNAAAAAkiNAAAAAkiNAAAAAkiNAAAAAkiNAAAAAkiNAAAAAkiNAAAAAkiNAAAAAkiNAAAAAkiNAAAAAnJSo8esZNSxl9HB5j2o14Wvk1ErDznlNZivk1ErGbM3zzG9qjxm2S25hcXPIn+ns3kNVdDhvWXGA2s35qlPvR1qJaM22Cc386CSB8oC19fqVzxryLxrrL8YiIYj0XAkOmzWrl3c26FWMsZOsU4lIq9dblvLKSmztjWLsXajssMnLy6ZGs701ta1NspoMCJquOI2UXtLYyIgZ+ehzU2WuZtmueniLXP5W8OrEqeo9Qe/seGdB3mYwhKSGk3bPRy525WhEdZ5gfKYW/pMrmh4pLsivfCaBxUNdR2yOFBCwxUuWbhNscQhK2tsMXlbUG1zD18R61RinUMkbzrJKSmzNhnFtN3DkS8a5MQl26S7X/+5aCOI8d681nYsKQBt15W7g205DWiT5LaLYYva2PDOgzxM4Q3byAWq/gNMjcJZb2pk7cbYzXLstsZjVh4ydx5SCz+4TTo6jPF7atZjVlaevdrvZRN/ZXTYzUrG7OWWbTt83g6jwT4pLCkRQ3IZ/h7L2OnJfFApvk5GrezwcavHBvskecyG2GoG6zEb4mcqjDNjG3kHiIYOJS06sb7OQ2olozYkmmjS22FUMupOj2+oj642863H2iUrT7R8h49YpyG2WOHtSKy9CMrwm5yG5P5K/izJvfeYlc3X6N5ZHaPu9IhVklJDQn66OC2epJAS6zOpQXrMykNOR4fEMo5wiIru613zEEnrRZ0ekTjTGz8R9kRKXzoNSY2Z3IMSfZ1eWBhM6skKu3gdwUt2em6Hd9pZSPSjZEvGK9nIFBZtsfRIUhpN+rZs/ReoxCG4cxdvH8FBRXsqQ/+KLUclmtcuXPmXGKgi1xkpyVNPfGRmU9umGB8f51ZKpV9uU1J5k4vfYnJFw5FoONBby981u01EtbZgOBINu9qpzR2ORMOR4MW6xGJsOBIdtdVzO47a6mvb3KNcYWof5Kpq6x0N9Na2uZNLZnjFygQv1tWbXMFwxG2q6x2VPmimV+y4YVd7rc09aHOPBnprqX2QP9lg2NVu4s5OGKfky9VOdb2j3JnaguFI8GId3z6xLdFRW31tXe9oJBp2cceKDrbxkQ/a3KOR6GAbCSNPrFGEXe21tmA44jbxQbYPSpZJHFqknsR70Y2xShJ9mvLKXxenxEPEt1WsNvHWIIr1IyXaJFFJrB0k9uUOIRjVKcXSw8vYbkmTZdRWTym7JLXq2n0tq/BaUWUVvGSn52Z4S/e4aD+KtmQOp7DUpBCNJPP0SZkL67hAidSWqZcleyp1EqVdtwWzI5uBmmFqiB9aZOqJtp54bZv6Gh8fz/q7RkcjETvhj39toO3+rO3eY/4jQP3x5pQlAG3XP1sfu+Mfb1jvQHVLIxFr/9tA65dXmvjVmLZjDUST7n7SHanQdg9faUqUzCRWxnvphv6cQxt0Gs7T590VUgfNaNLdrz/aRES+oTEK0AFzUwX76EHbsQOO89fa3I5GLTV+4TBrKTVOSb6hMVPycpP30lnq/TJ5zZ1rBP67hEcP+OUmrjFZqqoUWapiJ/zcZ0Alo27pexAIEjU5XPSJsplcsaWk9DLsrRv32z/Lark/vRLtwdqrzWJfp+e1i5PVX/xndwURNR4z0ViQFW0NIqq/eKaJkosJK+GHqNS+3CHio1q0GPd8hLL5mpx2Yyf8db09jUREFeZzppTyjcdMV29y96wuP19MsirRwhmCEZVV8JKdnuvhLRJVWj9mbsk8TGHJSOTK3QVqzV6W7qmkcKSu27G/zWqgis+gDNKzQ0psWdWWd/n/8Ya221F1ib8ZZ2/doIMHiHy2nti3FKzzH32mo/yFMnH5jpXMJF7bUN+Dq83qv96kz7/qiXV8+kEz1+UdoA+0RORxXaXjZ5oqiHxDfaajTd8H7pmONglLVstIMx6Xv7Wnka/5eLPWN9RXe+JIBV/DPX2VNqkRPGa+EeiArp6IyBs8IPkFRdKdkOTEllNmTcJKtN3DkeiXdEpkKSZ/XZxtkDnblw36JYqxdmMLDUa4W4GNh9TUYxu74GAnHef9/PDIUFVa4bWDSTmtLIOX7PScDu9sz0Li3HI9hTcsVxcoOe2TYXrmhuhAzcl1Ji63tW3UulKjtkpPfS6+X+0Xrko9eMY6Ozt8RKQ96P8Htzb9iE5UJeY/63E6Lj2+397SSMTeuqFP+pY+paR49YkyJlswPPJF48SpXu9aBxWv6tYNam3Ucg8LnOvSCs9rgiVindwDtylxSvHe9J84UkGsz3Hqhv5clzZ2USDW5zh1lpLuD1iP03GT7ifa0D9h91GTeMDaKj31XRB8NvSYW2gw4qaW2AJ9ehntkeN1KXtVflAX+8zovSnyUVTkQEREFea7o7Z6/0TiA29+uzgziSA3sO+9G9xnefbWDS7m9GLsowd1Bw/wZWRUq63S3+/p9RIRTTrOpzd1RXMrDVzqHaDUz9RiEcYKx67smYIR6+Jsg+cOmtrpuR7emaNKDi9DS+ZgCq81KbKVqwuUzPYR7alkma/bcgdqbOytf/aJtbPola2gD36v766xyRHo9bcwaiWj1vUfD0g9FRZ8fLXvEyWj1vFPsvmG+igw4WPpgK7+WgtjtFFj80F/HZGXfLYefdInu3hJXvoTCkllGs70+s9UqpWHequ+cjRKHjRDVZPu/gdE37P8x0wibjgSsdRwtN1/plJtuNV4pbuCUuOUqpC0x/QDlWpl5YXAuS+vNBFRhflcfMvoSHcF0YGj7YJGYImIKqqqHwSqGiRXV5ocgV46Uxn7Tt7uNDT7bX9voKYe29gnfBgpZTxE2q4Rtz62xewlIm3X5+3XuB4cotjiSVNLW/wb+7RK+CUd5sMzyZ+489rFyfHIaQ2pYvL3rdcHTqmVjFrXo+cXqNOKNf79IvV8qGTUf32kr5PRbtTkcPFN/TdqTV8GJG33Z/q+a/pzaY/Ii0WoPXKc+q7Fr+wiwSTqFenibIMX7/RcD+9MZyFsEOmW3NAUztBiEpGsNTKJ1n2BSienfaR6Kq1/pa/baw5U4dhb/+wTv/hsYC7nBTM+Pv77iqoc1+rtUA8dy+FNsa+TcR2NOnLxo6gcVpWPCicd9u/N3fEhm/Not6wtcKYes/L8B4Gsf8W1cVvg3DdJyvCGLYq1G3WPPttyv4TZPE8mJ/L2XaP/vNnhyfjbBvk8Lsk12wJWldsKWWen3ee1e5vjFw7W5+i44M+40+sj5/3y6mDtF1IewHkNpQ9v2Lp8th5+CfcNlp+7RqJJliXSVuAnq3KxTsOpxye+cgie8WMniSq0aMTNsfl3jazTUHn2fv3FQtyqbi6x4Q1bCzcaufftg2/wLSMRPZmcyFdqBAAAeBXlc0EVAADg1YTUCAAAIIDUCAAAIIDUCAAAIIDUCAAAIIDUCAAAIIDUCAAAIIDUCAAAIIDUCAAAIIDUCAAAIKAgovHR/yp0GAAAAFuCWq1WEFF1dXWhIwEAANgSpqamsKAKAAAggNQIAAAggNQIAAAgIDc1LiwsrLkFAADgNSArNf70008Wi+Xbb7+Nb/nhhx8sFsvo6GjeAgMAACgMhfyiX3/99fz8/Mcff/zdd9998803RBSJRPIWGAAAQGEw4+Pj+/fvX7Pc9PS00+l8+vRpZWVlMBgsLS1tb2+vrKzchBABAAA2TRY/3nj33Xc//fTTvXv3BoPBsrKy7u5u5EUAAHgtMRMTE/v27WMYRk7phYUFj8fT0NDw9ttv5zsyAACAzTc1NcX8+OOPO3bs2L59e6GDAQAAKLCVlZXp6emikpKSFy9eFDoYAACAwnvx4kVJSUlRWVnZ8+fPX758Weh4AAAACikajc7Pz2s0miKGYTQazezsbDgcXl1dLXRgAAAAmy0ajS4sLExPT+/atUupVDLRaJSIVldXQ6HQr7/+iuwIAABvGoZhVCqVRqMpLi4mIj41AgAAAOf/AV/MRaDTyLRsAAAAAElFTkSuQmCC\"></div>"
      ],
      "text/plain": [
       "For[start, test, incr, body] executes start\n",
       " \n",
       ">    , then repeatedly evaluates body and incr until test fails to give True. \n",
       "\n",
       "\n",
       "Attributes[For]={HoldAll, Protected}"
      ]
     },
     "execution_count": 41,
     "metadata": {
      "text/html": [],
      "text/plain": []
     },
     "output_type": "execute_result"
    }
   ],
   "source": [
    "?For"
   ]
  },
  {
   "cell_type": "markdown",
   "metadata": {},
   "source": [
    "Da mensagem em cima percebemos que o argumento `test` deve ser uma condição que é usada para verificar quando é que devemos parar o ciclo e também percebemos que o primeiro argumento `start` só é executado uma vez, no início, para inicializar variáveis. Tipicamente, o primeiro argumento é usado para inicializar as variáveis auxiliares do ciclo.\n",
    "\n",
    "O último argumento é o \"corpo\" do ciclo (`body`), que há de ser o código que queremos executar repetidamente. O argumento `incr` é a expressão que é usada para indicar que está a ser feito progresso. Por exemplo, se quisermos imprimir os números inteiros de $1$ a $5$ inclusive, teríamos o seguinte:\n",
    "\n",
    " - `start` seria `i = 1` para inicializar a variável auxiliar que vai \"contar\" até $5$;\n",
    " - `test` seria `i <= 5` porque queremos imprimir os números enquanto ainda estivermos a contar números menores ou iguais a $5$;\n",
    " - `incr` seria `i = i + 1` porque, depois de imprimirmos um número, queremos \"contar\" o próximo número;\n",
    " - `body` seria `Print[i]` porque essa é a expressão principal que queremos executar em cada iteração.\n",
    "\n",
    "Tudo junto, teria este aspeto:"
   ]
  },
  {
   "cell_type": "code",
   "execution_count": 83,
   "metadata": {},
   "outputs": [
    {
     "name": "stdout",
     "output_type": "stream",
     "text": [
      "1\n",
      "2\n",
      "3\n",
      "4\n",
      "5\n"
     ]
    }
   ],
   "source": [
    "For[i = 1, i <= 5, i = i + 1,\n",
    "    Print[i]\n",
    "]"
   ]
  },
  {
   "cell_type": "markdown",
   "metadata": {},
   "source": [
    "Note-se que o terceiro argumento da função `For`, que é a expressão que deve incrementar a variável do ciclo, usa geralmente uma notação abreviada para alterar o valor da variável.\n",
    "\n",
    "Essa sintaxe pretende abreviar o padrão `var = var f value` para `var f= value`.\n",
    "\n",
    "Assim, incrementar uma variável uma unidade deixa de ser `var = var + 1` e passa a ser `var += 1`:"
   ]
  },
  {
   "cell_type": "code",
   "execution_count": 84,
   "metadata": {},
   "outputs": [
    {
     "name": "stdout",
     "output_type": "stream",
     "text": [
      "4\r\n"
     ]
    }
   ],
   "source": [
    "var = 3;\n",
    "var += 1;\n",
    "Print[var];"
   ]
  },
  {
   "cell_type": "markdown",
   "metadata": {},
   "source": [
    "Claro que `f` não tem de ser a adição e o valor a ser usado não precisa de ser `1`:"
   ]
  },
  {
   "cell_type": "code",
   "execution_count": 87,
   "metadata": {},
   "outputs": [
    {
     "name": "stdout",
     "output_type": "stream",
     "text": [
      "5\r\n"
     ]
    }
   ],
   "source": [
    "var = 3;\n",
    "var += 2;\n",
    "Print[var];"
   ]
  },
  {
   "cell_type": "code",
   "execution_count": 90,
   "metadata": {},
   "outputs": [
    {
     "name": "stdout",
     "output_type": "stream",
     "text": [
      "0\r\n"
     ]
    }
   ],
   "source": [
    "var -= 5;\n",
    "Print[var];"
   ]
  },
  {
   "cell_type": "markdown",
   "metadata": {},
   "source": [
    "Os casos `var += 1` e `var -= 1` têm ainda dois casos especiais, nomeadamente `++var`, `var++`, `--var` e `var--`. A diferença reside na ordem em que as coisas acontecem.\n",
    "\n",
    "`var++` primeiro devolve o valor de `var` e depois incrementa a variável, ao passo que `++var` primeiro incrementa o valor da variável e só depois é que o devolve:"
   ]
  },
  {
   "cell_type": "code",
   "execution_count": 75,
   "metadata": {},
   "outputs": [
    {
     "name": "stdout",
     "output_type": "stream",
     "text": [
      "0\n",
      "0\n",
      "1\n"
     ]
    }
   ],
   "source": [
    "var = 0;\n",
    "Print[var];\n",
    "Print[var++];\n",
    "Print[var];"
   ]
  },
  {
   "cell_type": "code",
   "execution_count": 79,
   "metadata": {},
   "outputs": [
    {
     "name": "stdout",
     "output_type": "stream",
     "text": [
      "0\n",
      "1\n",
      "1\n"
     ]
    }
   ],
   "source": [
    "var = 0;\n",
    "Print[var];\n",
    "Print[++var];\n",
    "Print[var];"
   ]
  },
  {
   "cell_type": "markdown",
   "metadata": {},
   "source": [
    "`var--` e `--var` funcionam de modo semelhante.\n",
    "\n",
    "```{admonition} TL;DR\n",
    "O mais importante desta subsecção é\n",
    " - a sintaxe `variable f= value` para alterar o valor de `variable` de forma mais sucinta;\n",
    " - a função `For[initialisation, stoppingTest, increment, loopBody]` para execução repetida de um conjunto de instruções.\n",
    "```"
   ]
  },
  {
   "cell_type": "markdown",
   "metadata": {},
   "source": [
    "### Ciclo `While`\n",
    "\n",
    "De modo semelhante, existe uma função `While` que permite a execução repetida de um conjunto de instruções até que um certo teste seja falso:"
   ]
  },
  {
   "cell_type": "code",
   "execution_count": 92,
   "metadata": {},
   "outputs": [
    {
     "data": {
      "text/html": [
       "<div><img alt=\"Output\" src=\"data:image/png;base64,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\"></div>"
      ],
      "text/plain": [
       "While[test, body] evaluates test, then body\n",
       " \n",
       ">     , repetitively, until test first fails to give True. \n",
       "\n",
       "\n",
       "Attributes[While]={HoldAll, Protected}"
      ]
     },
     "execution_count": 92,
     "metadata": {
      "text/html": [],
      "text/plain": []
     },
     "output_type": "execute_result"
    }
   ],
   "source": [
    "?While"
   ]
  },
  {
   "cell_type": "code",
   "execution_count": 93,
   "metadata": {},
   "outputs": [
    {
     "name": "stdout",
     "output_type": "stream",
     "text": [
      "1\n",
      "2\n",
      "3\n",
      "4\n",
      "5\n"
     ]
    }
   ],
   "source": [
    "i = 1;\n",
    "While[i <= 5,\n",
    "    Print[i];\n",
    "    i = i + 1;\n",
    "]"
   ]
  },
  {
   "cell_type": "markdown",
   "metadata": {},
   "source": [
    "O exemplo em cima é equivalente à utilização do ciclo `For` da subsecção anterior e é, em particular, um exemplo relativamente mau de uma utilização útil do ciclo `While`. O acto de \"contar\" de $1$ até $5$ é algo linear, que acontece de forma regular, e é por isso um excelente algoritmo para ser implementado com um ciclo `For`.\n",
    "\n",
    "Em geral, o ciclo `While` usa-se em algoritmos em que é mais difícil prever, *a priori*, o número de iterações que vão ser necessárias para completar o algoritmo. Por exemplo, quando calculamos os valores sucessivos que um número toma na sequência de Collatz:\n",
    "\n",
    ":::{tip}\n",
    "A \"Conjetura de Collatz\" diz que qualquer número inteiro positivo $n$ eventualmente chega a $1$, se seguirmos a sequência $n_0 = n$,\n",
    "\n",
    "$$\n",
    "n_{i + 1} = \\begin{cases}\n",
    "    \\frac{n_i}{2}, \\text{ if $2$ divides $n$ } \\\\\n",
    "    3n_i + 1, \\text{ otherwise }\n",
    "\\end{cases} ~ .\n",
    "$$\n",
    ":::"
   ]
  },
  {
   "cell_type": "code",
   "execution_count": 31,
   "metadata": {},
   "outputs": [
    {
     "name": "stdout",
     "output_type": "stream",
     "text": [
      "5\n",
      "16\n",
      "8\n",
      "4\n",
      "2\n",
      "1\n"
     ]
    }
   ],
   "source": [
    "n = 10;\n",
    "While[n > 1,\n",
    "    If[Divisible[n, 2],\n",
    "        n = n/2,\n",
    "        n = 3n + 1\n",
    "    ];\n",
    "    Print[n]\n",
    "]"
   ]
  },
  {
   "cell_type": "markdown",
   "metadata": {},
   "source": [
    "```{admonition} TL;DR\n",
    "O mais importante desta subsecção é\n",
    " - a sintaxe da função `While` que permite a execução repetida de um conjunto de instruções.\n",
    "```"
   ]
  },
  {
   "cell_type": "markdown",
   "metadata": {},
   "source": [
    "## A praga das variáveis temporárias\n",
    "\n",
    "Em Mathematica, todas as variáveis que criamos são criadas de forma global. Isto significa que todas as pequenas variáveis que usarmos para cálculos auxiliares ou resultados temporários ficam disponíveis na nossa sessão. Isto pode parecer bom, mas rapidamente a quantidade enorme de variáveis que estão disponíveis vai interferir com o nosso código. Isto pode acontecer por uma de variadíssimas razões, por exemplo porque estamos a tentar fazer cálculos simbólicos mas estamos a usar variáveis que estão definidas ou uma variável é usada inadvertidamente num sítio que não deve, e portanto o seu valor está diferente do que deveria ser.\n",
    "\n",
    "Para evitar isto, o Mathematica possui a função `Module`. A função `Module` recebe dois argumentos:"
   ]
  },
  {
   "cell_type": "code",
   "execution_count": 101,
   "metadata": {},
   "outputs": [
    {
     "data": {
      "text/html": [
       "<div><img alt=\"Output\" src=\"data:image/png;base64,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\"></div>"
      ],
      "text/plain": [
       "Module[{x, y, …}, expr] specifies that occurrences of the symbols x\n",
       " \n",
       ">    , y, … in expr should be treated as local. Module[{x = x , …}, expr]\n",
       "                                                             0\n",
       " \n",
       ">        defines initial values for x, …. \n",
       "\n",
       "\n",
       "Attributes[Module]={HoldAll, Protected}"
      ]
     },
     "execution_count": 101,
     "metadata": {
      "text/html": [],
      "text/plain": []
     },
     "output_type": "execute_result"
    }
   ],
   "source": [
    "?Module"
   ]
  },
  {
   "cell_type": "markdown",
   "metadata": {},
   "source": [
    "Podemos ver que o primeiro argumento da função é uma lista de nomes de variáveis (possivelmente com valores iniciais) e podemos ver que o segundo argumento será o código que queremos escrever.\n",
    "\n",
    "Por exemplo, em cima escrevemos um ciclo `For` que usava a variável auxiliar `i`, que ainda existe e tem um valor:"
   ]
  },
  {
   "cell_type": "code",
   "execution_count": 103,
   "metadata": {},
   "outputs": [
    {
     "data": {
      "text/html": [
       "<div><pre style=\"&#102;&#111;&#110;&#116;&#45;&#102;&#97;&#109;&#105;&#108;&#121;&#58;&#32;&#34;&#67;&#111;&#117;&#114;&#105;&#101;&#114;&#32;&#78;&#101;&#119;&#34;&#44;&#67;&#111;&#117;&#114;&#105;&#101;&#114;&#44;&#109;&#111;&#110;&#111;&#115;&#112;&#97;&#99;&#101;&#59;\">&#54;</pre></div>"
      ],
      "text/plain": [
       "6"
      ]
     },
     "execution_count": 103,
     "metadata": {
      "text/html": [],
      "text/plain": []
     },
     "output_type": "execute_result"
    }
   ],
   "source": [
    "i"
   ]
  },
  {
   "cell_type": "markdown",
   "metadata": {},
   "source": [
    "Mas esta variável é completamente inútil, na medida em que o seu único propósito era como variável auxiliar no ciclo. Podemos apagá-la com a função `Clear`:"
   ]
  },
  {
   "cell_type": "code",
   "execution_count": 104,
   "metadata": {},
   "outputs": [],
   "source": [
    "Clear[i]"
   ]
  },
  {
   "cell_type": "markdown",
   "metadata": {},
   "source": [
    "E agora podemos escrever o mesmo ciclo, mas dentro da função `Module`, para que a variável auxiliar não se torne global:"
   ]
  },
  {
   "cell_type": "code",
   "execution_count": 105,
   "metadata": {},
   "outputs": [
    {
     "name": "stdout",
     "output_type": "stream",
     "text": [
      "1\n",
      "2\n",
      "3\n"
     ]
    }
   ],
   "source": [
    "Module[{i},\n",
    "    For[i = 1, i <= 3, i++,\n",
    "        Print[i]\n",
    "    ]\n",
    "]"
   ]
  },
  {
   "cell_type": "markdown",
   "metadata": {},
   "source": [
    "Agora podemos ver que a variável `i` não tem qualquer valor:"
   ]
  },
  {
   "cell_type": "code",
   "execution_count": 109,
   "metadata": {},
   "outputs": [
    {
     "data": {
      "text/html": [
       "<div><pre style=\"&#102;&#111;&#110;&#116;&#45;&#102;&#97;&#109;&#105;&#108;&#121;&#58;&#32;&#34;&#67;&#111;&#117;&#114;&#105;&#101;&#114;&#32;&#78;&#101;&#119;&#34;&#44;&#67;&#111;&#117;&#114;&#105;&#101;&#114;&#44;&#109;&#111;&#110;&#111;&#115;&#112;&#97;&#99;&#101;&#59;\">&#105;</pre></div>"
      ],
      "text/plain": [
       "i"
      ]
     },
     "execution_count": 109,
     "metadata": {
      "text/html": [],
      "text/plain": []
     },
     "output_type": "execute_result"
    }
   ],
   "source": [
    "i"
   ]
  },
  {
   "cell_type": "markdown",
   "metadata": {},
   "source": [
    "Numa linguagem de programação típica isto seria um erro qualquer, por exemplo um `Name Error` em Python, porque `i` não diz respeito a nenhuma variável definida, mas em Mathematica obtemos o nome da variável como resposta, porque Mathematica é um software de cálculo simbólico.\n",
    "\n",
    ":::{admonition} TL;DR\n",
    "O mais importante desta subsecção é\n",
    " - o facto de que é má ideia deixar todas as variáveis tornarem-se globais;\n",
    " - podemos manter variáveis como locais com a função `Module`.\n",
    ":::"
   ]
  },
  {
   "cell_type": "markdown",
   "metadata": {},
   "source": [
    "## Definição de funções\n",
    "\n",
    "Se houver algum pedaço de código que usemos várias vezes, pode ser útil defini-lo como uma função para que possamos usar esse código repetidamente. Por exemplo, podemos modificar o exemplo em cima e criar uma função que, dado um número natural, devolve o número de passos necessários dar na sequência de Collatz para chegar ao $1$.\n",
    "\n",
    "Para definir uma função, usamos uma atribuição com `=` e, do lado direito, usamos a função `Function`:"
   ]
  },
  {
   "cell_type": "code",
   "execution_count": 1,
   "metadata": {},
   "outputs": [
    {
     "data": {
      "text/html": [
       "<div><img alt=\"Output\" src=\"data:image/png;base64,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\"></div>"
      ],
      "text/plain": [
       "body & or Function[body] is a pure (or \"anonymous\") function. The formal parameters are\\\\\n",
       "                         \n",
       "                        >   # (or #1), #2, etc. \n",
       "\n",
       " \n",
       ">       Function[x, body] is a pure function with a single formal parameter x\n",
       " \n",
       ">      . Function[{x , x , …}, body]\n",
       "                    1   2\n",
       " \n",
       ">        is a pure function with a list of formal parameters. \n",
       "\n",
       " \n",
       ">        Function[params, body, attrs]\n",
       " \n",
       ">         is a pure function that is treated as having attributes attrs\n",
       " \n",
       ">          for purposes of evaluation.\n",
       "\n",
       "\n",
       "Attributes[Function]={HoldAll, Protected}"
      ]
     },
     "execution_count": 1,
     "metadata": {
      "text/html": [],
      "text/plain": []
     },
     "output_type": "execute_result"
    }
   ],
   "source": [
    "?Function"
   ]
  },
  {
   "cell_type": "markdown",
   "metadata": {},
   "source": [
    "As linhas que nos interessam mais aqui são a segunda e a terceira, que mostram como definir funções de um ou vários argumentos. Por exemplo, uma simples função para incrementar uma variável seria"
   ]
  },
  {
   "cell_type": "code",
   "execution_count": 2,
   "metadata": {},
   "outputs": [
    {
     "data": {
      "text/html": [
       "<div><img alt=\"Output\" src=\"data:image/png;base64,iVBORw0KGgoAAAANSUhEUgAAAHYAAAAPCAIAAAC+6KxPAAAAqXpUWHRSYXcgcHJvZmlsZSB0eXBlIGV4aWYAAHjaVU7BDQIxDPt3CkZI08RuxzkdPYkNGB8HEBJ+JK5lx237+bjardD7bJGcWIAJsWL5ITLtg242uqabZX6lw/4Qg45EbwytcCOxxKeYJtItiQsnIGPH3S1O7Q1SMbAcAC66nIPRJNepzeBwcwXSkHQOndmKnFJSLwWjlJPLbRxVXfDNd2H7NW5U9F7fbS+9qDdb5gLobwAAAAlwSFlzAAALEwAACxMBAJqcGAAAAF10RVh0U29mdHdhcmUAQ3JlYXRlZCB3aXRoIHRoZSBXb2xmcmFtIExhbmd1YWdlIGZvciBTdHVkZW50cyAtIFBlcnNvbmFsIFVzZSBPbmx5IDogd3d3LndvbGZyYW0uY29tSN96kwAAACF0RVh0Q3JlYXRpb24gVGltZQAyMDIwOjExOjA5IDIxOjUwOjIzXh6JPQAAAhlJREFUWIXtWDtywyAQXTI5CnKhyQnQCXD6tO5QaR8gZbo0qLQ7t6nSBE5gn8DjIuxdSIFkgYVkxZLym7wKo/2xu7yVTKy18I8pcfPdAfx9/Kd4cnx5irHICMn1MBuIiCPFMzoawd0AgM6Jh4HHr10V2Wi2AmhtJrD6eWCRteTLvBVekssuFspWWPNJA6PL3XAflFI6TjjXQudkAVsjWeNJI7Q2otD5qTx1O+qc5IWrHSGZVynvHuS6rG+y2sNmHsiexILKY2Wx3m91FI80ULwk/ykt1DpujK/tbtmzzNZaJbzfTBrr9qrONpKVayUAvGUp4C191Gpd+0ayyqW3jjsqodS51UpGiZOtHuijpWSnvZYzhlq3LrFC9by8Qjm5JGVwdC3wumHSXHnz8e1lLx53rh3o8lGsXg0AjTpqB18bmSWEgFC2b2td1KqGlkGEyPXvj9trFX8cGGP78bQQjTEA78cjzGYAQ3Lc8dJ2eEcAwGKx6gw9Sdl+9dwcq3R2V5roAL1/YJunkgaxeNqwNLkYcwM6T14etrutPMwDSg0It7eWC4xyzjmfpek955zzIdPVBrwb0gwAADApRc2LTYL2ZSHgzXrbcd35/PW43BfrcOQehlysBARs7hGrcxgbCF1a7ax6ph85S0wLogZ+NJrjrl00PomnRpjiP/sBjUVGyPwgzcTv+ZdB7K/7pw1RGwOQDCPIiRAJ7gP97CTLrg6q9AAAAABJRU5ErkJggg==\"></div>"
      ],
      "text/plain": [
       "Function[x, x + 1]"
      ]
     },
     "execution_count": 2,
     "metadata": {
      "text/html": [],
      "text/plain": []
     },
     "output_type": "execute_result"
    }
   ],
   "source": [
    "Function[x, x+1]"
   ]
  },
  {
   "cell_type": "markdown",
   "metadata": {},
   "source": [
    "Mas se não dermos nome à função, será difícil usá-la. Nesse sentido, podemos escrever algo como"
   ]
  },
  {
   "cell_type": "code",
   "execution_count": 33,
   "metadata": {},
   "outputs": [
    {
     "data": {
      "text/html": [
       "<div><img alt=\"Output\" src=\"data:image/png;base64,iVBORw0KGgoAAAANSUhEUgAAAHYAAAAPCAIAAAC+6KxPAAAAqXpUWHRSYXcgcHJvZmlsZSB0eXBlIGV4aWYAAHjaVU7BDQIxDPt3CkZI08RuxzkdPYkNGB8HEBJ+JK5lx237+bjardD7bJGcWIAJsWL5ITLtg242uqabZX6lw/4Qg45EbwytcCOxxKeYJtItiQsnIGPH3S1O7Q1SMbAcAC66nIPRJNepzeBwcwXSkHQOndmKnFJSLwWjlJPLbRxVXfDNd2H7NW5U9F7fbS+9qDdb5gLobwAAAAlwSFlzAAALEwAACxMBAJqcGAAAAF10RVh0U29mdHdhcmUAQ3JlYXRlZCB3aXRoIHRoZSBXb2xmcmFtIExhbmd1YWdlIGZvciBTdHVkZW50cyAtIFBlcnNvbmFsIFVzZSBPbmx5IDogd3d3LndvbGZyYW0uY29tSN96kwAAACF0RVh0Q3JlYXRpb24gVGltZQAyMDIwOjExOjA5IDIyOjI0OjMw0qa4HAAAAhlJREFUWIXtWDtywyAQXTI5CnKhyQnQCXD6tO5QaR8gZbo0qLQ7t6nSBE5gn8DjIuxdSIFkgYVkxZLym7wKo/2xu7yVTKy18I8pcfPdAfx9/Kd4cnx5irHICMn1MBuIiCPFMzoawd0AgM6Jh4HHr10V2Wi2AmhtJrD6eWCRteTLvBVekssuFspWWPNJA6PL3XAflFI6TjjXQudkAVsjWeNJI7Q2otD5qTx1O+qc5IWrHSGZVynvHuS6rG+y2sNmHsiexILKY2Wx3m91FI80ULwk/ykt1DpujK/tbtmzzNZaJbzfTBrr9qrONpKVayUAvGUp4C191Gpd+0ayyqW3jjsqodS51UpGiZOtHuijpWSnvZYzhlq3LrFC9by8Qjm5JGVwdC3wumHSXHnz8e1lLx53rh3o8lGsXg0AjTpqB18bmSWEgFC2b2td1KqGlkGEyPXvj9trFX8cGGP78bQQjTEA78cjzGYAQ3Lc8dJ2eEcAwGKx6gw9Sdl+9dwcq3R2V5roAL1/YJunkgaxeNqwNLkYcwM6T14etrutPMwDSg0It7eWC4xyzjmfpek955zzIdPVBrwb0gwAADApRc2LTYL2ZSHgzXrbcd35/PW43BfrcOQehlysBARs7hGrcxgbCF1a7ax6ph85S0wLogZ+NJrjrl00PomnRpjiP/sBjUVGyPwgzcTv+ZdB7K/7pw1RGwOQDCPIiRAJ7gP97CTLrg6q9AAAAABJRU5ErkJggg==\"></div>"
      ],
      "text/plain": [
       "Function[x, x + 1]"
      ]
     },
     "execution_count": 33,
     "metadata": {
      "text/html": [],
      "text/plain": []
     },
     "output_type": "execute_result"
    }
   ],
   "source": [
    "AddOne = Function[x, x + 1]"
   ]
  },
  {
   "cell_type": "markdown",
   "metadata": {},
   "source": [
    "e de seguida usar essa função:"
   ]
  },
  {
   "cell_type": "code",
   "execution_count": 34,
   "metadata": {},
   "outputs": [
    {
     "data": {
      "text/html": [
       "<div><pre style=\"&#102;&#111;&#110;&#116;&#45;&#102;&#97;&#109;&#105;&#108;&#121;&#58;&#32;&#34;&#67;&#111;&#117;&#114;&#105;&#101;&#114;&#32;&#78;&#101;&#119;&#34;&#44;&#67;&#111;&#117;&#114;&#105;&#101;&#114;&#44;&#109;&#111;&#110;&#111;&#115;&#112;&#97;&#99;&#101;&#59;\">&#50;&#46;&#53;</pre></div>"
      ],
      "text/plain": [
       "2.5"
      ]
     },
     "execution_count": 34,
     "metadata": {
      "text/html": [],
      "text/plain": []
     },
     "output_type": "execute_result"
    }
   ],
   "source": [
    "AddOne[1.5]"
   ]
  },
  {
   "cell_type": "code",
   "execution_count": 36,
   "metadata": {},
   "outputs": [
    {
     "data": {
      "text/html": [
       "<div><img alt=\"Output\" src=\"data:image/png;base64,iVBORw0KGgoAAAANSUhEUgAAAB0AAAAPCAIAAACX71PIAAAAqXpUWHRSYXcgcHJvZmlsZSB0eXBlIGV4aWYAAHjaVU7BDQIxDPt3CkZI08RuxzkdPYkNGB8HEBJ+JK5lx237+bjardD7bJGcWIAJsWL5ITLtg242uqabZX6lw/4Qg45EbwytcCOxxKeYJtItiQsnIGPH3S1O7Q1SMbAcAC66nIPRJNepzeBwcwXSkHQOndmKnFJSLwWjlJPLbRxVXfDNd2H7NW5U9F7fbS+9qDdb5gLobwAAAAlwSFlzAAALEwAACxMBAJqcGAAAAF10RVh0U29mdHdhcmUAQ3JlYXRlZCB3aXRoIHRoZSBXb2xmcmFtIExhbmd1YWdlIGZvciBTdHVkZW50cyAtIFBlcnNvbmFsIFVzZSBPbmx5IDogd3d3LndvbGZyYW0uY29tSN96kwAAACF0RVh0Q3JlYXRpb24gVGltZQAyMDIwOjExOjA5IDIyOjI0OjM2O8UdKQAAAMVJREFUOI3VlLENwkAMRb8RozgZAiY4GIIyZRglKaFjCHITwAgUtncxxaEI0EmJICnyG0v+d0+2zzpyd8yg1RzQxXKt3RIRVXFKbqzogIs2m8mgiRtOfqt56KDFaHkj9fqhKo6er4rkDa5v7to0nXsfT2E9AmmWKlUzAMyZ3hQo3iOGuWaqCsjjgbJEHhwF+wDABGUYyWUOzABEihCyz2CtlHX4zKV9IKLieMd598O2xfbaU3kPed32/6Rdp18JdXenhf07T6UyoY5CbJJyAAAAAElFTkSuQmCC\"></div>"
      ],
      "text/plain": [
       "1 + Pi"
      ]
     },
     "execution_count": 36,
     "metadata": {
      "text/html": [],
      "text/plain": []
     },
     "output_type": "execute_result"
    }
   ],
   "source": [
    "AddOne[Pi]"
   ]
  },
  {
   "cell_type": "markdown",
   "metadata": {},
   "source": [
    "Se quisermos escrever uma função que recebe dois argumentos, então escrevemos"
   ]
  },
  {
   "cell_type": "code",
   "execution_count": null,
   "metadata": {},
   "outputs": [],
   "source": [
    "Avg = Function[{a, b}, (a + b)/2]"
   ]
  },
  {
   "cell_type": "markdown",
   "metadata": {},
   "source": [
    "e agora podemos chamar a função `Avg` com dois argumentos:"
   ]
  },
  {
   "cell_type": "code",
   "execution_count": 9,
   "metadata": {},
   "outputs": [
    {
     "data": {
      "text/html": [
       "<div><img alt=\"Output\" src=\"data:image/png;base64,iVBORw0KGgoAAAANSUhEUgAAAAwAAAAgCAIAAACpeQ79AAAAqXpUWHRSYXcgcHJvZmlsZSB0eXBlIGV4aWYAAHjaVU7BDQIxDPt3CkZI08RuxzkdPYkNGB8HEBJ+JK5lx237+bjardD7bJGcWIAJsWL5ITLtg242uqabZX6lw/4Qg45EbwytcCOxxKeYJtItiQsnIGPH3S1O7Q1SMbAcAC66nIPRJNepzeBwcwXSkHQOndmKnFJSLwWjlJPLbRxVXfDNd2H7NW5U9F7fbS+9qDdb5gLobwAAAAlwSFlzAAALEwAACxMBAJqcGAAAAF10RVh0U29mdHdhcmUAQ3JlYXRlZCB3aXRoIHRoZSBXb2xmcmFtIExhbmd1YWdlIGZvciBTdHVkZW50cyAtIFBlcnNvbmFsIFVzZSBPbmx5IDogd3d3LndvbGZyYW0uY29tSN96kwAAACF0RVh0Q3JlYXRpb24gVGltZQAyMDIwOjExOjA5IDIxOjUzOjE2F+yBnwAAAKtJREFUOI3dk7ENwyAQRc9RBmCIKFUmwBO48xTUjMAIeBkmcWXY5VIQpA8cipQisvwbQDzuw+lDXBQMFWkfGUXcKXrdYDcS9Xo+cAkHimHrJtlxMEQmfLFbVkP7kWQ7qFQ7EuyMOsATM8sPBA1acH7ongfnXLNhrVVK5fm1WwBQ2uYpa95STUH8P2nsP8Kv8U3HTmZdJLthmdYuet0TFTQiAIpe1zdD/M8peAPV+nYU0CpqwwAAAABJRU5ErkJggg==\"></div>"
      ],
      "text/plain": [
       "3\n",
       "-\n",
       "2"
      ]
     },
     "execution_count": 9,
     "metadata": {
      "text/html": [],
      "text/plain": []
     },
     "output_type": "execute_result"
    }
   ],
   "source": [
    "Avg[1, 2]"
   ]
  },
  {
   "cell_type": "markdown",
   "metadata": {},
   "source": [
    "Se o corpo da função for mais complexo, então é melhor usar a função `Module` para evitar que as nossas variáveis temporárias sejam definidas globalmente. Por exemplo, podemos pegar no exemplo em cima e escrever uma função que calcula o comprimento da sequência de Collatz para um dado número natural:"
   ]
  },
  {
   "cell_type": "code",
   "execution_count": 27,
   "metadata": {},
   "outputs": [
    {
     "data": {
      "text/html": [
       "<div><img alt=\"Output\" src=\"data:image/png;base64,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\"></div>"
      ],
      "text/plain": [
       "Function[n, Module[{length = 0, iter = n}, \n",
       " \n",
       "                                                   iter\n",
       ">    While[iter > 1, If[Divisible[iter, 2], iter = ----, iter = 3 iter + 1]; \n",
       "                                                    2\n",
       " \n",
       ">       length++; ]; length]]"
      ]
     },
     "execution_count": 27,
     "metadata": {
      "text/html": [],
      "text/plain": []
     },
     "output_type": "execute_result"
    }
   ],
   "source": [
    "CollatzLength = Function[n, Module[{length = 0, iter = n},\n",
    "    While[iter > 1,\n",
    "        If[Divisible[iter, 2],\n",
    "            iter = iter/2,\n",
    "            iter = 3*iter + 1\n",
    "        ];\n",
    "        length++;\n",
    "    ];\n",
    "    length\n",
    "]]"
   ]
  },
  {
   "cell_type": "code",
   "execution_count": 28,
   "metadata": {},
   "outputs": [
    {
     "data": {
      "text/html": [
       "<div><pre style=\"&#102;&#111;&#110;&#116;&#45;&#102;&#97;&#109;&#105;&#108;&#121;&#58;&#32;&#34;&#67;&#111;&#117;&#114;&#105;&#101;&#114;&#32;&#78;&#101;&#119;&#34;&#44;&#67;&#111;&#117;&#114;&#105;&#101;&#114;&#44;&#109;&#111;&#110;&#111;&#115;&#112;&#97;&#99;&#101;&#59;\">&#48;</pre></div>"
      ],
      "text/plain": [
       "0"
      ]
     },
     "execution_count": 28,
     "metadata": {
      "text/html": [],
      "text/plain": []
     },
     "output_type": "execute_result"
    }
   ],
   "source": [
    "CollatzLength[1]"
   ]
  },
  {
   "cell_type": "code",
   "execution_count": 29,
   "metadata": {},
   "outputs": [
    {
     "data": {
      "text/html": [
       "<div><pre style=\"&#102;&#111;&#110;&#116;&#45;&#102;&#97;&#109;&#105;&#108;&#121;&#58;&#32;&#34;&#67;&#111;&#117;&#114;&#105;&#101;&#114;&#32;&#78;&#101;&#119;&#34;&#44;&#67;&#111;&#117;&#114;&#105;&#101;&#114;&#44;&#109;&#111;&#110;&#111;&#115;&#112;&#97;&#99;&#101;&#59;\">&#49;</pre></div>"
      ],
      "text/plain": [
       "1"
      ]
     },
     "execution_count": 29,
     "metadata": {
      "text/html": [],
      "text/plain": []
     },
     "output_type": "execute_result"
    }
   ],
   "source": [
    "CollatzLength[2]"
   ]
  },
  {
   "cell_type": "code",
   "execution_count": 30,
   "metadata": {},
   "outputs": [
    {
     "data": {
      "text/html": [
       "<div><pre style=\"&#102;&#111;&#110;&#116;&#45;&#102;&#97;&#109;&#105;&#108;&#121;&#58;&#32;&#34;&#67;&#111;&#117;&#114;&#105;&#101;&#114;&#32;&#78;&#101;&#119;&#34;&#44;&#67;&#111;&#117;&#114;&#105;&#101;&#114;&#44;&#109;&#111;&#110;&#111;&#115;&#112;&#97;&#99;&#101;&#59;\">&#53;</pre></div>"
      ],
      "text/plain": [
       "5"
      ]
     },
     "execution_count": 30,
     "metadata": {
      "text/html": [],
      "text/plain": []
     },
     "output_type": "execute_result"
    }
   ],
   "source": [
    "CollatzLength[5]"
   ]
  },
  {
   "cell_type": "markdown",
   "metadata": {},
   "source": [
    "No código em cima vemos que criámos uma variável `iter`, em vez de calcularmos a sequência diretamente sobre `n`. Fizemos isto porque não se pode alterar o valor do argumento de uma função. Ou seja, isto é ilegal:"
   ]
  },
  {
   "cell_type": "code",
   "execution_count": 5,
   "metadata": {},
   "outputs": [
    {
     "ename": "Cannot assign to raw object `1`.",
     "evalue": "Cannot assign to raw object 6.",
     "output_type": "error",
     "traceback": [
      "\u001b[0;31mCannot assign to raw object `1`.: Cannot assign to raw object 6.\u001b[0m"
     ]
    },
    {
     "data": {
      "text/html": [
       "<div><pre style=\"&#102;&#111;&#110;&#116;&#45;&#102;&#97;&#109;&#105;&#108;&#121;&#58;&#32;&#34;&#67;&#111;&#117;&#114;&#105;&#101;&#114;&#32;&#78;&#101;&#119;&#34;&#44;&#67;&#111;&#117;&#114;&#105;&#101;&#114;&#44;&#109;&#111;&#110;&#111;&#115;&#112;&#97;&#99;&#101;&#59;\">&#51;</pre></div>"
      ],
      "text/plain": [
       "3"
      ]
     },
     "execution_count": 6,
     "metadata": {
      "text/html": [],
      "text/plain": []
     },
     "output_type": "execute_result"
    }
   ],
   "source": [
    "ChangeArg = Function[n, n = 3];\n",
    "ChangeArg[6]"
   ]
  },
  {
   "cell_type": "markdown",
   "metadata": {},
   "source": [
    ":::{admonition} TL;DR\n",
    "O mais importante nesta subsecção é\n",
    " - a sintaxe para criar funções.\n",
    ":::"
   ]
  },
  {
   "cell_type": "markdown",
   "metadata": {},
   "source": [
    "## Notas sobre estilo\n",
    "\n",
    "Um ponto muito importante quando se escreve código, e que é muitas vezes descurado, é o de escrever código que seja legível. Código legível é código que é muito mais fácil de depurar quando tem erros e, honestamente, muito melhor de olhar para.\n",
    "\n",
    "Para se escrever código legível, há que fazer uma boa gestão da indentação do código, dos espaços ` `, dos nomes das variáveis, e dos comentários. Isto são coisas altamente subjetivas, mas há padrões que são relativamente bem aceites.\n",
    "\n",
    "### Espaços em branco\n",
    "\n",
    "A título de exemplo, é comum que a seguir a sinais de pontuação venha um espaço, tal como na linguagem escrita.\n",
    "\n",
    "Uma pessoa (que saiba o que faz) escreverá \"*João, podes vir aqui? Obrigado!*\" e não \"*João,podes vir aqui?Obrigado*\".\n",
    "\n",
    "Isto é relevante para `,` usadas para separar argumentos e para `;` usados para separar instruções. Compare-se"
   ]
  },
  {
   "cell_type": "code",
   "execution_count": 112,
   "metadata": {},
   "outputs": [
    {
     "name": "stdout",
     "output_type": "stream",
     "text": [
      "515377520732011331036461129765621272702107522001\r\n"
     ]
    }
   ],
   "source": [
    "If[5 > 0, var = 3^100; Print[var], Print[0]]"
   ]
  },
  {
   "cell_type": "markdown",
   "metadata": {},
   "source": [
    "com"
   ]
  },
  {
   "cell_type": "code",
   "execution_count": 113,
   "metadata": {},
   "outputs": [
    {
     "name": "stdout",
     "output_type": "stream",
     "text": [
      "515377520732011331036461129765621272702107522001\r\n"
     ]
    }
   ],
   "source": [
    "If[5 > 0,var = 3^100;Print[var],Print[0]]"
   ]
  },
  {
   "cell_type": "markdown",
   "metadata": {},
   "source": [
    "Também é comum usarem-se espaços à volta de algumas operações binárias e atribuições, como é o caso de `=` e `>` no exemplo em cima."
   ]
  },
  {
   "cell_type": "markdown",
   "metadata": {},
   "source": [
    "### Uma instrução por linha\n",
    "\n",
    "A não ser que as instruções sejam extremamente triviais (por exemplo atribuições para inicializar variáveis) é recomendado que cada instrução esteja na sua própria linha, em vez de todas seguidas.\n",
    "\n",
    ":::{warning}\n",
    "Mesmo que se mude de linha é necessário usar `;` para separar as instruções.\n",
    ":::\n",
    "\n",
    "### Usar mudanças de linha e indentação para gerir contexto\n",
    "\n",
    "Mudar de linha e indentar o código para ajudar a agrupar instruções como pertencendo a um mesmo contexto é um mecanismo muito útil. Por exemplo, compare-se o exemplo do ciclo `While` em cima com"
   ]
  },
  {
   "cell_type": "code",
   "execution_count": 114,
   "metadata": {},
   "outputs": [
    {
     "name": "stdout",
     "output_type": "stream",
     "text": [
      "5\n",
      "16\n",
      "8\n",
      "4\n",
      "2\n",
      "1\n"
     ]
    }
   ],
   "source": [
    "n = 10;\n",
    "While[n > 1, If[Mod[n, 2] == 0, n = n/2, n = 3n + 1]; Print[n]]"
   ]
  },
  {
   "cell_type": "markdown",
   "metadata": {},
   "source": [
    "Alguns dirão que é legível. Ainda é relativamente legível, mas estamos a falar de um ciclo trivial com uma única execução condicional. E o bom de termos algumas regras que tentamos seguir, é que podemos segui-las automaticamente sem ter de pensar muito. Se adotarmos uma certa convenção, depois não temos de decidir o que fazer quando o código não for curto e simples.\n",
    "\n",
    "Pessoalmente, gosto de mudar de linha e indentar o código sempre que um argumento de uma função representa um conjunto de instruções. Por exemplo, o segundo argumento de `Module` é um conjunto de instruções, e por isso eu mudo de linha e indento o código quando escrevo o segundo argumento do `Module`. Faço o mesmo no quarto argumento da função `For`, no segundo da função `While` e nos segundo e terceiro argumentos da função `If`.\n",
    "\n",
    "Quando fecho o parêntesis reto da função, alinho o `]` com o início do nome da função. Existem outras alternativas, por exemplo pôr o `]` logo a seguir à última expressão. Compare-se"
   ]
  },
  {
   "cell_type": "code",
   "execution_count": 116,
   "metadata": {},
   "outputs": [
    {
     "name": "stdout",
     "output_type": "stream",
     "text": [
      "5\r\n"
     ]
    }
   ],
   "source": [
    "If[5 > 0,\n",
    "    Print[5],\n",
    "    Print[0]\n",
    "]"
   ]
  },
  {
   "cell_type": "markdown",
   "metadata": {},
   "source": [
    "com"
   ]
  },
  {
   "cell_type": "code",
   "execution_count": 117,
   "metadata": {},
   "outputs": [
    {
     "name": "stdout",
     "output_type": "stream",
     "text": [
      "5\r\n"
     ]
    }
   ],
   "source": [
    "If[5 > 0,\n",
    "    Print[5],\n",
    "    Print[0]]"
   ]
  },
  {
   "cell_type": "markdown",
   "metadata": {},
   "source": [
    "### Nomes de variáveis e funções\n",
    "\n",
    "Antes de mais, é importante referir que o símbolo `_` (underscore) não pode ser usado em nomes de variáveis, por ter um significado quando usado com as funcionalidades simbólicas do Mathematica.\n",
    "\n",
    "Internamente, o Mathematica usa a convenção `CamelCase` para os nomes das funções e a convenção `pascalCase` para os nomes das variáveis. Estas convenções são bastante adequadas e aconselho-as.\n",
    "\n",
    "Outro assunto bastante descurado é o de atribuir nomes relevantes às variáveis e às funções... Um nome de uma variável/função deve ser descritivo e claro. Nomes muito curtos (e nomes com uma letra, em particular) não costumam fazer sentido, exceto em casos notórios. Deixo à consideração do leitor a sugestão de que os nomes das variáveis/funções devem ser tão mais compridos quanto menos vezes uma variável/função é usada.\n",
    "\n",
    "Imaginem ter dezenas ou centenas de linhas de código numa aplicação qualquer. Notem que a instrução `users = newUsers` é _muito_ mais expressiva que as alternativas `u += n` ou `u += nu`, por exemplo.\n",
    "\n",
    "A utilização de nomes expressivos é particularmente importante quando damos nomes aos argumentos de uma função.\n",
    "\n",
    ":::{admonition} TL;DR\n",
    "O ponto mais importante desta secção é que escrever com um bom estilo pode parecer parvo ou desnecessário, mas faz *toda* a diferença. Por exemplo, quando revisitamos código que escrevemos há algum tempo ou quando precisamos que outra pessoa nos ajude a encontrar um erro no nosso código (ou quando *nós* precisamos de encontrar um erro no *nosso* código).\n",
    ":::"
   ]
  },
  {
   "cell_type": "markdown",
   "metadata": {},
   "source": [
    "## Exercícios\n",
    "\n",
    "Seguem agora alguns exercícios para testar os conhecimentos adquiridos neste pequeno capítulo. Os exercícios são importantes! Tenta resolvê-los e, quando conseguires, compara as tuas soluções com as minhas sugestões de solução. Compará-los pode ser muito útil..! E as soluções podem conter dicas importantes ou ensinamentos novos!\n",
    "\n",
    "**Exercício 1**:\n",
    "\n",
    "Escreve código para implementar o fatorial de um número inteiro não-negativo. Podes testar o teu código comparando os resultados com a função `Factorial` pré-definida.\n",
    "\n",
    "**Exercício 2**:\n",
    "\n",
    "Pega no código do exercício em cima e põe-no numa função.\n",
    "\n",
    "**Exercício 3**:\n",
    "\n",
    "Escreve uma função que recebe um inteiro positivo e faz uma de $4$ coisas (a primeira que se verificar):\n",
    " - imprime `\"FizzBuzz\"` se o argumento for divisível por $3$ e $5$;\n",
    " - imprime `\"Fizz\"` se o argumento for divisível por $3$;\n",
    " - imprime `\"Buzz\"` se o argumento for divisível por $5$;\n",
    " - imprime o argumento.\n",
    "\n",
    "**Exercício 4**:\n",
    "\n",
    "Implementa uma função que recebe dois argumentos e devolve o maior dos dois e uma função que devolve o menor dos dois.\n",
    "\n",
    "**Exercício 5**:\n",
    "\n",
    "Implementa uma função que recebe dois argumentos e devolve o maior divisor comum entre os dois. Escreve uma solução imperativa (com ciclos) e uma solução recursiva.\n",
    "\n",
    "**Exercício 6a**:\n",
    "\n",
    "Garante que o código que escreveste nos exercícios anteriores só usa variáveis locais (através da utilização da função `Module`).\n",
    "\n",
    "**Exercício 6b**:\n",
    "\n",
    "Garante que o código que escreveste nos exercícios anteriores usa convencões estilísticas razoáveis."
   ]
  },
  {
   "cell_type": "markdown",
   "metadata": {},
   "source": [
    "## Soluções\n",
    "\n",
    ":::{tip}\n",
    "Aprendes muito mais se **tentares** resolver os exercícios sozinhos. Avança só depois de os resolveres ou depois de gastares muito tempo a tentar. Tentar e falhar é *muito* melhor que não tentar.\n",
    ":::\n",
    "\n",
    "**Exercício 1**:\n",
    "\n",
    "Para calcular o fatorial de $n$ precisamos de multiplicar os números todos de $1$ até $n$, por isso parece razoável usar um ciclo `For` para \"contar\" de $1$ a $n$ e ir multiplicando pelo caminho:"
   ]
  },
  {
   "cell_type": "code",
   "execution_count": 16,
   "metadata": {},
   "outputs": [
    {
     "data": {
      "text/html": [
       "<div><pre style=\"&#102;&#111;&#110;&#116;&#45;&#102;&#97;&#109;&#105;&#108;&#121;&#58;&#32;&#34;&#67;&#111;&#117;&#114;&#105;&#101;&#114;&#32;&#78;&#101;&#119;&#34;&#44;&#67;&#111;&#117;&#114;&#105;&#101;&#114;&#44;&#109;&#111;&#110;&#111;&#115;&#112;&#97;&#99;&#101;&#59;\">&#51;&#54;&#50;&#56;&#56;&#48;&#48;</pre></div>"
      ],
      "text/plain": [
       "3628800"
      ]
     },
     "execution_count": 16,
     "metadata": {
      "text/html": [],
      "text/plain": []
     },
     "output_type": "execute_result"
    }
   ],
   "source": [
    "Module[{n, fact, i},\n",
    "    n = 10;\n",
    "    fact = 1;\n",
    "    For[i = 1, i <= n, i++,\n",
    "        fact *= i;\n",
    "    ];\n",
    "    fact\n",
    "]"
   ]
  },
  {
   "cell_type": "markdown",
   "metadata": {},
   "source": [
    "Um truque engraçado que pode ser feito, mas que não é nada aconselhado, é encurtar o ciclo ao incluir a multiplicação `fact *= i` no terceiro argumento do `For`, ao usar `i++` para incrementar `i`:"
   ]
  },
  {
   "cell_type": "code",
   "execution_count": 19,
   "metadata": {},
   "outputs": [
    {
     "data": {
      "text/html": [
       "<div><pre style=\"&#102;&#111;&#110;&#116;&#45;&#102;&#97;&#109;&#105;&#108;&#121;&#58;&#32;&#34;&#67;&#111;&#117;&#114;&#105;&#101;&#114;&#32;&#78;&#101;&#119;&#34;&#44;&#67;&#111;&#117;&#114;&#105;&#101;&#114;&#44;&#109;&#111;&#110;&#111;&#115;&#112;&#97;&#99;&#101;&#59;\">&#51;&#54;&#50;&#56;&#56;&#48;&#48;</pre></div>"
      ],
      "text/plain": [
       "3628800"
      ]
     },
     "execution_count": 19,
     "metadata": {
      "text/html": [],
      "text/plain": []
     },
     "output_type": "execute_result"
    }
   ],
   "source": [
    "Module[{n, fact, i},\n",
    "    n = 10;\n",
    "    fact = 1;\n",
    "    For[i = 1, i <= n, fact *= i++];\n",
    "    fact\n",
    "]"
   ]
  },
  {
   "cell_type": "markdown",
   "metadata": {},
   "source": [
    "A implementação deve estar correta, já que"
   ]
  },
  {
   "cell_type": "code",
   "execution_count": 20,
   "metadata": {},
   "outputs": [
    {
     "data": {
      "text/html": [
       "<div><pre style=\"&#102;&#111;&#110;&#116;&#45;&#102;&#97;&#109;&#105;&#108;&#121;&#58;&#32;&#34;&#67;&#111;&#117;&#114;&#105;&#101;&#114;&#32;&#78;&#101;&#119;&#34;&#44;&#67;&#111;&#117;&#114;&#105;&#101;&#114;&#44;&#109;&#111;&#110;&#111;&#115;&#112;&#97;&#99;&#101;&#59;\">&#51;&#54;&#50;&#56;&#56;&#48;&#48;</pre></div>"
      ],
      "text/plain": [
       "3628800"
      ]
     },
     "execution_count": 20,
     "metadata": {
      "text/html": [],
      "text/plain": []
     },
     "output_type": "execute_result"
    }
   ],
   "source": [
    "Factorial[10]"
   ]
  },
  {
   "cell_type": "markdown",
   "metadata": {},
   "source": [
    "**Exercício 2**:\n",
    "\n",
    "Pôr tudo numa função é bastante simples. Só temos de pôr o código dentro do segundo argumento da função `Function` e garantir que não tentamos inicializar a variável `n` dentro da função:"
   ]
  },
  {
   "cell_type": "code",
   "execution_count": 22,
   "metadata": {},
   "outputs": [
    {
     "data": {
      "text/html": [
       "<div><img alt=\"Output\" src=\"data:image/png;base64,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\"></div>"
      ],
      "text/plain": [
       "Function[n, Module[{fact, i}, fact = 1; For[i = 1, i <= n, fact *= i++]; fact]]"
      ]
     },
     "execution_count": 22,
     "metadata": {
      "text/html": [],
      "text/plain": []
     },
     "output_type": "execute_result"
    }
   ],
   "source": [
    "Fact = Function[n, Module[{fact, i},\n",
    "    fact = 1;\n",
    "    For[i = 1, i <= n, fact *= i++];\n",
    "    fact\n",
    "]]"
   ]
  },
  {
   "cell_type": "code",
   "execution_count": 23,
   "metadata": {},
   "outputs": [
    {
     "data": {
      "text/html": [
       "<div><pre style=\"&#102;&#111;&#110;&#116;&#45;&#102;&#97;&#109;&#105;&#108;&#121;&#58;&#32;&#34;&#67;&#111;&#117;&#114;&#105;&#101;&#114;&#32;&#78;&#101;&#119;&#34;&#44;&#67;&#111;&#117;&#114;&#105;&#101;&#114;&#44;&#109;&#111;&#110;&#111;&#115;&#112;&#97;&#99;&#101;&#59;\">&#51;&#54;&#50;&#56;&#56;&#48;&#48;</pre></div>"
      ],
      "text/plain": [
       "3628800"
      ]
     },
     "execution_count": 23,
     "metadata": {
      "text/html": [],
      "text/plain": []
     },
     "output_type": "execute_result"
    }
   ],
   "source": [
    "Fact[10]"
   ]
  },
  {
   "cell_type": "code",
   "execution_count": 24,
   "metadata": {},
   "outputs": [
    {
     "data": {
      "text/html": [
       "<div><pre style=\"&#102;&#111;&#110;&#116;&#45;&#102;&#97;&#109;&#105;&#108;&#121;&#58;&#32;&#34;&#67;&#111;&#117;&#114;&#105;&#101;&#114;&#32;&#78;&#101;&#119;&#34;&#44;&#67;&#111;&#117;&#114;&#105;&#101;&#114;&#44;&#109;&#111;&#110;&#111;&#115;&#112;&#97;&#99;&#101;&#59;\">&#49;&#51;&#48;&#55;&#54;&#55;&#52;&#51;&#54;&#56;&#48;&#48;&#48;</pre></div>"
      ],
      "text/plain": [
       "1307674368000"
      ]
     },
     "execution_count": 24,
     "metadata": {
      "text/html": [],
      "text/plain": []
     },
     "output_type": "execute_result"
    }
   ],
   "source": [
    "Fact[15]"
   ]
  },
  {
   "cell_type": "markdown",
   "metadata": {},
   "source": [
    "**Exercício 3**:\n",
    "\n",
    "Este exercício não é difícil, só é preciso ter cuidado a utilizar os vários `If`, encadeá-los na ordem certa e saber que podemos usar a função `Divisible` para testar divisibilidade:"
   ]
  },
  {
   "cell_type": "code",
   "execution_count": 37,
   "metadata": {},
   "outputs": [
    {
     "data": {
      "text/html": [
       "<div><img alt=\"Output\" src=\"data:image/png;base64,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\"></div>"
      ],
      "text/plain": [
       "Function[n, If[Divisible[n, 15], FizzBuzz, \n",
       " \n",
       ">    If[Divisible[n, 3], Fizz, If[Divisible[n, 5], Buzz, n]]]]"
      ]
     },
     "execution_count": 37,
     "metadata": {
      "text/html": [],
      "text/plain": []
     },
     "output_type": "execute_result"
    }
   ],
   "source": [
    "FizzBuzz = Function[n,\n",
    "    If[Divisible[n, 15],\n",
    "        \"FizzBuzz\",\n",
    "        If[Divisible[n, 3],\n",
    "            \"Fizz\",\n",
    "            If[Divisible[n, 5],\n",
    "                \"Buzz\",\n",
    "                n\n",
    "            ]\n",
    "        ]\n",
    "    ]\n",
    "]"
   ]
  },
  {
   "cell_type": "code",
   "execution_count": 38,
   "metadata": {},
   "outputs": [
    {
     "data": {
      "text/html": [
       "<div><pre style=\"&#102;&#111;&#110;&#116;&#45;&#102;&#97;&#109;&#105;&#108;&#121;&#58;&#32;&#34;&#67;&#111;&#117;&#114;&#105;&#101;&#114;&#32;&#78;&#101;&#119;&#34;&#44;&#67;&#111;&#117;&#114;&#105;&#101;&#114;&#44;&#109;&#111;&#110;&#111;&#115;&#112;&#97;&#99;&#101;&#59;\">&#49;</pre></div>"
      ],
      "text/plain": [
       "1"
      ]
     },
     "execution_count": 38,
     "metadata": {
      "text/html": [],
      "text/plain": []
     },
     "output_type": "execute_result"
    }
   ],
   "source": [
    "FizzBuzz[1]"
   ]
  },
  {
   "cell_type": "code",
   "execution_count": 39,
   "metadata": {},
   "outputs": [
    {
     "data": {
      "text/html": [
       "<div><pre style=\"&#102;&#111;&#110;&#116;&#45;&#102;&#97;&#109;&#105;&#108;&#121;&#58;&#32;&#34;&#67;&#111;&#117;&#114;&#105;&#101;&#114;&#32;&#78;&#101;&#119;&#34;&#44;&#67;&#111;&#117;&#114;&#105;&#101;&#114;&#44;&#109;&#111;&#110;&#111;&#115;&#112;&#97;&#99;&#101;&#59;\">&#70;&#105;&#122;&#122;</pre></div>"
      ],
      "text/plain": [
       "Fizz"
      ]
     },
     "execution_count": 39,
     "metadata": {
      "text/html": [],
      "text/plain": []
     },
     "output_type": "execute_result"
    }
   ],
   "source": [
    "FizzBuzz[3]"
   ]
  },
  {
   "cell_type": "code",
   "execution_count": 40,
   "metadata": {},
   "outputs": [
    {
     "data": {
      "text/html": [
       "<div><pre style=\"&#102;&#111;&#110;&#116;&#45;&#102;&#97;&#109;&#105;&#108;&#121;&#58;&#32;&#34;&#67;&#111;&#117;&#114;&#105;&#101;&#114;&#32;&#78;&#101;&#119;&#34;&#44;&#67;&#111;&#117;&#114;&#105;&#101;&#114;&#44;&#109;&#111;&#110;&#111;&#115;&#112;&#97;&#99;&#101;&#59;\">&#66;&#117;&#122;&#122;</pre></div>"
      ],
      "text/plain": [
       "Buzz"
      ]
     },
     "execution_count": 40,
     "metadata": {
      "text/html": [],
      "text/plain": []
     },
     "output_type": "execute_result"
    }
   ],
   "source": [
    "FizzBuzz[10]"
   ]
  },
  {
   "cell_type": "code",
   "execution_count": 41,
   "metadata": {},
   "outputs": [
    {
     "data": {
      "text/html": [
       "<div><pre style=\"&#102;&#111;&#110;&#116;&#45;&#102;&#97;&#109;&#105;&#108;&#121;&#58;&#32;&#34;&#67;&#111;&#117;&#114;&#105;&#101;&#114;&#32;&#78;&#101;&#119;&#34;&#44;&#67;&#111;&#117;&#114;&#105;&#101;&#114;&#44;&#109;&#111;&#110;&#111;&#115;&#112;&#97;&#99;&#101;&#59;\">&#70;&#105;&#122;&#122;&#66;&#117;&#122;&#122;</pre></div>"
      ],
      "text/plain": [
       "FizzBuzz"
      ]
     },
     "execution_count": 41,
     "metadata": {
      "text/html": [],
      "text/plain": []
     },
     "output_type": "execute_result"
    }
   ],
   "source": [
    "FizzBuzz[15]"
   ]
  },
  {
   "cell_type": "markdown",
   "metadata": {},
   "source": [
    "Apesar de funcionar, podemos ver que esta função é bastante deselegante, por ter tantos `If` uns dentro dos outros. Outra alternativa seria usar a função `Which`, que nos permite escolher de entre uma série de conjuntos de instruções, consoante o valor de vários testes diferentes:"
   ]
  },
  {
   "cell_type": "code",
   "execution_count": 1,
   "metadata": {},
   "outputs": [
    {
     "data": {
      "text/html": [
       "<div><img alt=\"Output\" src=\"data:image/png;base64,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\"></div>"
      ],
      "text/plain": [
       "Which[test , value , test , value , …]\n",
       "          1       1      2       2\n",
       " \n",
       ">    evaluates each of the test  in turn, returning the value of the value\n",
       "                               i                                          i\n",
       " \n",
       ">      corresponding to the first one that yields True. \n",
       "\n",
       "\n",
       "Attributes[Which]={HoldAll, Protected}"
      ]
     },
     "execution_count": 1,
     "metadata": {
      "text/html": [],
      "text/plain": []
     },
     "output_type": "execute_result"
    }
   ],
   "source": [
    "?Which"
   ]
  },
  {
   "cell_type": "markdown",
   "metadata": {},
   "source": [
    "Nesse sentido, poderíamos escrever a função `FizzBuzz` assim:"
   ]
  },
  {
   "cell_type": "code",
   "execution_count": 2,
   "metadata": {},
   "outputs": [
    {
     "data": {
      "text/html": [
       "<div><img alt=\"Output\" src=\"data:image/png;base64,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\"></div>"
      ],
      "text/plain": [
       "Function[n, Which[Divisible[n, 15], FizzBuzz, Divisible[n, 3], Fizz, Divisible[n, 5], \n",
       " \n",
       ">    Buzz, True, n]]"
      ]
     },
     "execution_count": 2,
     "metadata": {
      "text/html": [],
      "text/plain": []
     },
     "output_type": "execute_result"
    }
   ],
   "source": [
    "FizzBuzzWhich = Function[n,\n",
    "    Which[\n",
    "        Divisible[n, 15], \"FizzBuzz\",\n",
    "        Divisible[n, 3], \"Fizz\",\n",
    "        Divisible[n, 5], \"Buzz\",\n",
    "        True, n\n",
    "    ]\n",
    "]"
   ]
  },
  {
   "cell_type": "code",
   "execution_count": 3,
   "metadata": {},
   "outputs": [
    {
     "data": {
      "text/html": [
       "<div><pre style=\"&#102;&#111;&#110;&#116;&#45;&#102;&#97;&#109;&#105;&#108;&#121;&#58;&#32;&#34;&#67;&#111;&#117;&#114;&#105;&#101;&#114;&#32;&#78;&#101;&#119;&#34;&#44;&#67;&#111;&#117;&#114;&#105;&#101;&#114;&#44;&#109;&#111;&#110;&#111;&#115;&#112;&#97;&#99;&#101;&#59;\">&#49;</pre></div>"
      ],
      "text/plain": [
       "1"
      ]
     },
     "execution_count": 3,
     "metadata": {
      "text/html": [],
      "text/plain": []
     },
     "output_type": "execute_result"
    }
   ],
   "source": [
    "FizzBuzzWhich[1]"
   ]
  },
  {
   "cell_type": "code",
   "execution_count": 4,
   "metadata": {},
   "outputs": [
    {
     "data": {
      "text/html": [
       "<div><pre style=\"&#102;&#111;&#110;&#116;&#45;&#102;&#97;&#109;&#105;&#108;&#121;&#58;&#32;&#34;&#67;&#111;&#117;&#114;&#105;&#101;&#114;&#32;&#78;&#101;&#119;&#34;&#44;&#67;&#111;&#117;&#114;&#105;&#101;&#114;&#44;&#109;&#111;&#110;&#111;&#115;&#112;&#97;&#99;&#101;&#59;\">&#70;&#105;&#122;&#122;</pre></div>"
      ],
      "text/plain": [
       "Fizz"
      ]
     },
     "execution_count": 4,
     "metadata": {
      "text/html": [],
      "text/plain": []
     },
     "output_type": "execute_result"
    }
   ],
   "source": [
    "FizzBuzzWhich[3]"
   ]
  },
  {
   "cell_type": "code",
   "execution_count": 5,
   "metadata": {},
   "outputs": [
    {
     "data": {
      "text/html": [
       "<div><pre style=\"&#102;&#111;&#110;&#116;&#45;&#102;&#97;&#109;&#105;&#108;&#121;&#58;&#32;&#34;&#67;&#111;&#117;&#114;&#105;&#101;&#114;&#32;&#78;&#101;&#119;&#34;&#44;&#67;&#111;&#117;&#114;&#105;&#101;&#114;&#44;&#109;&#111;&#110;&#111;&#115;&#112;&#97;&#99;&#101;&#59;\">&#66;&#117;&#122;&#122;</pre></div>"
      ],
      "text/plain": [
       "Buzz"
      ]
     },
     "execution_count": 5,
     "metadata": {
      "text/html": [],
      "text/plain": []
     },
     "output_type": "execute_result"
    }
   ],
   "source": [
    "FizzBuzzWhich[10]"
   ]
  },
  {
   "cell_type": "code",
   "execution_count": 6,
   "metadata": {},
   "outputs": [
    {
     "data": {
      "text/html": [
       "<div><pre style=\"&#102;&#111;&#110;&#116;&#45;&#102;&#97;&#109;&#105;&#108;&#121;&#58;&#32;&#34;&#67;&#111;&#117;&#114;&#105;&#101;&#114;&#32;&#78;&#101;&#119;&#34;&#44;&#67;&#111;&#117;&#114;&#105;&#101;&#114;&#44;&#109;&#111;&#110;&#111;&#115;&#112;&#97;&#99;&#101;&#59;\">&#70;&#105;&#122;&#122;&#66;&#117;&#122;&#122;</pre></div>"
      ],
      "text/plain": [
       "FizzBuzz"
      ]
     },
     "execution_count": 6,
     "metadata": {
      "text/html": [],
      "text/plain": []
     },
     "output_type": "execute_result"
    }
   ],
   "source": [
    "FizzBuzzWhich[15]"
   ]
  },
  {
   "cell_type": "markdown",
   "metadata": {},
   "source": [
    "Na função `FizzBuzzWhich`, em cima, usámos `True` como o \"teste\" da quarta expressão, para que esta expressão fosse avaliada independentemente do valor de `n`. Usar `True` com um `Which` pode ser pensado como um `else` numa outra linguagem de programação, ou como o ramo `default` de um `switch`, se souberem o que isso é (não faz mal se não souberem)."
   ]
  },
  {
   "cell_type": "markdown",
   "metadata": {},
   "source": [
    "**Exercício 4**:"
   ]
  },
  {
   "cell_type": "code",
   "execution_count": 45,
   "metadata": {},
   "outputs": [
    {
     "data": {
      "text/html": [
       "<div><img alt=\"Output\" src=\"data:image/png;base64,iVBORw0KGgoAAAANSUhEUgAAANwAAAAPCAIAAAAAkjZXAAAAqXpUWHRSYXcgcHJvZmlsZSB0eXBlIGV4aWYAAHjaVU7BDQIxDPt3CkZI08RuxzkdPYkNGB8HEBJ+JK5lx237+bjardD7bJGcWIAJsWL5ITLtg242uqabZX6lw/4Qg45EbwytcCOxxKeYJtItiQsnIGPH3S1O7Q1SMbAcAC66nIPRJNepzeBwcwXSkHQOndmKnFJSLwWjlJPLbRxVXfDNd2H7NW5U9F7fbS+9qDdb5gLobwAAAAlwSFlzAAALEwAACxMBAJqcGAAAAF10RVh0U29mdHdhcmUAQ3JlYXRlZCB3aXRoIHRoZSBXb2xmcmFtIExhbmd1YWdlIGZvciBTdHVkZW50cyAtIFBlcnNvbmFsIFVzZSBPbmx5IDogd3d3LndvbGZyYW0uY29tSN96kwAAACF0RVh0Q3JlYXRpb24gVGltZQAyMDIwOjExOjA5IDIyOjI4OjM3BhSSBwAAAzBJREFUaIHtWjuS8jAMVv6z2BTMniCcIKGhot0uLp1mO8rtaOIyOQIVTeITkBNkKGLfxX+RB3k5L8Kyy/BVjHA+6dMokvBgKKXgjTd+E/49O4A33mjiXZRv/Dr8eFFKtjEMwu/jkFJKzTd3EQMAJ7ro7ueu07GNkWHDasx6dbOhF7U8+hLYLaxl/5fRVLBU9JJtHpMJzoXGIWHd3ywFRthEQfXUVvPBjy54Qiml1IWiyhMada8BEbLO961uzzulE6kCvvXQsBC93O8DIYRaRrHaUattXgwI0R2k03qY5SulVOTkCb7plmkCH6vuaDvVvQB0slp23fiuNOFby+PEIKyYOtWhU2kIhOeTCbsxBHbtbHms1kFvc6y0ax1NQrVNTevZxZOzXfcgk1vJzkBogyo4I4yPiHO6qGclMC/KonoGaQL3eshe/tg98iIAG6Jqo0X0opTwzLIB5wPK8lVmv0GyDT7tszEmvMQu3Xc4moqsTRXM47Ma2Odd9hS4n4uXJaIXVcvOwNgYVGFRfwvhUGXOEfWsBLbGd23BacOJshzidVFa/ByY3tfMeSzDU+wccpeIHpz4KnSOBph4muKGrXzTsRtPCKpwjbZ7s4wHAACsFYTL984BjFCBLEp9igUj2tLUi7rP9WK+KniVKyEpUmisaJzYiVf04HGVPQgMEC7907gfE1QgvFrDNRVLxfeIBI5CT1EmqQQAyT773xK8NjsHLFp95BQ9QNu9GXznHV6y78BcN9vdOCCLrqAWhEyT4iM/1iVwMmpJ4kc3dnbVGcBD2NLmWj6SbR56VNSOSc4IEZj6/sCPvYaonuAfkcBx0BWl9eWBiw3DwKe95/QxIHoRXlLupLdQS4piUW2u+IQDIHqJPvJT+LQXA9vDBCB6cOKM+Xtdl4DXJkBw1iW1WLDtxBMj7gn62LL5ZwcVxYupKCAZIaHA1Pf7ylEjqif4H0tgG+rPIYqiSfauo07tFmy8ay8fZ4uwdbsYr2IZf7OCXzaBTfur7JQAAOl5xM2IZJvZr7BMrwuyPR3zgv8ByYb6c/8SkpILAYCt9rSSnAO2HnP1/Ejuqhu9ur8NnbAO+389Y9SGpGqP7gAAAABJRU5ErkJggg==\"></div>"
      ],
      "text/plain": [
       "Function[{a, b}, If[a > b, a, b]]"
      ]
     },
     "execution_count": 45,
     "metadata": {
      "text/html": [],
      "text/plain": []
     },
     "output_type": "execute_result"
    }
   ],
   "source": [
    "MaxOf2 = Function[{a, b}, If[a > b, a, b]]"
   ]
  },
  {
   "cell_type": "code",
   "execution_count": 46,
   "metadata": {},
   "outputs": [
    {
     "data": {
      "text/html": [
       "<div><img alt=\"Output\" src=\"data:image/png;base64,iVBORw0KGgoAAAANSUhEUgAAAAgAAAAPCAIAAABWaBlkAAAAqXpUWHRSYXcgcHJvZmlsZSB0eXBlIGV4aWYAAHjaVU7BDQIxDPt3CkZI08RuxzkdPYkNGB8HEBJ+JK5lx237+bjardD7bJGcWIAJsWL5ITLtg242uqabZX6lw/4Qg45EbwytcCOxxKeYJtItiQsnIGPH3S1O7Q1SMbAcAC66nIPRJNepzeBwcwXSkHQOndmKnFJSLwWjlJPLbRxVXfDNd2H7NW5U9F7fbS+9qDdb5gLobwAAAAlwSFlzAAALEwAACxMBAJqcGAAAAF10RVh0U29mdHdhcmUAQ3JlYXRlZCB3aXRoIHRoZSBXb2xmcmFtIExhbmd1YWdlIGZvciBTdHVkZW50cyAtIFBlcnNvbmFsIFVzZSBPbmx5IDogd3d3LndvbGZyYW0uY29tSN96kwAAACF0RVh0Q3JlYXRpb24gVGltZQAyMDIwOjExOjA5IDIyOjI4OjQ42eoZUQAAAGZJREFUGJW9ULENwCAMM70l5Yh+UPFHV16BYxp+SfglHSgqEl261ItlW3KsODPDG5ZX96cAZpq2yT0Y1qAp8cjWqxRYR+43iiAQgCrw9AQ1i480rSr59HFvkgKk3OXMaiO0aff5iRek/0R6HtcwAAAAAABJRU5ErkJggg==\"></div>"
      ],
      "text/plain": [
       "Pi"
      ]
     },
     "execution_count": 46,
     "metadata": {
      "text/html": [],
      "text/plain": []
     },
     "output_type": "execute_result"
    }
   ],
   "source": [
    "MaxOf2[1, Pi]"
   ]
  },
  {
   "cell_type": "code",
   "execution_count": 47,
   "metadata": {},
   "outputs": [
    {
     "data": {
      "text/html": [
       "<div><pre style=\"&#102;&#111;&#110;&#116;&#45;&#102;&#97;&#109;&#105;&#108;&#121;&#58;&#32;&#34;&#67;&#111;&#117;&#114;&#105;&#101;&#114;&#32;&#78;&#101;&#119;&#34;&#44;&#67;&#111;&#117;&#114;&#105;&#101;&#114;&#44;&#109;&#111;&#110;&#111;&#115;&#112;&#97;&#99;&#101;&#59;\">&#49;&#48;</pre></div>"
      ],
      "text/plain": [
       "10"
      ]
     },
     "execution_count": 47,
     "metadata": {
      "text/html": [],
      "text/plain": []
     },
     "output_type": "execute_result"
    }
   ],
   "source": [
    "MaxOf2[10, 2Pi]"
   ]
  },
  {
   "cell_type": "code",
   "execution_count": 48,
   "metadata": {},
   "outputs": [
    {
     "data": {
      "text/html": [
       "<div><img alt=\"Output\" src=\"data:image/png;base64,iVBORw0KGgoAAAANSUhEUgAAANwAAAAPCAIAAAAAkjZXAAAAqXpUWHRSYXcgcHJvZmlsZSB0eXBlIGV4aWYAAHjaVU7BDQIxDPt3CkZI08RuxzkdPYkNGB8HEBJ+JK5lx237+bjardD7bJGcWIAJsWL5ITLtg242uqabZX6lw/4Qg45EbwytcCOxxKeYJtItiQsnIGPH3S1O7Q1SMbAcAC66nIPRJNepzeBwcwXSkHQOndmKnFJSLwWjlJPLbRxVXfDNd2H7NW5U9F7fbS+9qDdb5gLobwAAAAlwSFlzAAALEwAACxMBAJqcGAAAAF10RVh0U29mdHdhcmUAQ3JlYXRlZCB3aXRoIHRoZSBXb2xmcmFtIExhbmd1YWdlIGZvciBTdHVkZW50cyAtIFBlcnNvbmFsIFVzZSBPbmx5IDogd3d3LndvbGZyYW0uY29tSN96kwAAACF0RVh0Q3JlYXRpb24gVGltZQAyMDIwOjExOjA5IDIyOjI5OjE5aya65wAAAzFJREFUaIHtmjtywjAQhtc5i0TB5ATmBCYNFW06q5SbdJTpaKzSPgIVDdYJ8Ak8FJbuohR+4Jf8QoSE4auYxd7df0feXTxYSil48eIv8fboBF68aPI6lC/+HL9+KCVbWRbht/mQUkrNNzc5BgBOdNnd7rvujq2sjBWredarm41elHn6CtgtrGV/y9xUMJW9ZKv7VIJzoQlIWPc3pmCETRRUL221HnzvgS+UUkqdKarcoVH3HIgT63ze6va8U7qRKgicu6aF6Pn2GAgh1DKKxYY6bbMxEKIbSKf1MCdQSqnIzQt81S3TBN4X3dl2qnsCdLJadt34rjTha8vjxCKsmDrVoVNpCITnkwl7MYTr2rXlZbUOep1jpV0baBLVNjWtZxd3zg7dQya3Up2B1CapkJwxrsl5uqhHFTA/lMXpGXQTepdd9vDH3p4XCawhqjZaRM9KCd8uG3A+oJxAZfYrkq3wYZuNMeEn6zJ8R6CpZG2q8Dy+quH6uMnuAu/T+LFE9Kxq1RkYGyNVSM4IYQJTzbSYI+pRBWyN79qC08aNshriZXG0+DG0/a+Z81ieDrG7y0MiunPji9AFGvDE0xQ3bOWTjr14QlJFaPSxtct8AADAWcDJfO8cYFCF5IwQgWkQ9KwvelG3hDYYq8KzvBKSIoXGisbJOvGLHjzuZA+CAU6mfxr3M6xCivQCG2x+Db1HAUfRcyiTVAKAZJ/9Twle2p0DFi3ecxc9oI+tHX7nHV6y79BeNtvdOJBDF1BLQqZJ8ZHv6xI4GbUk8b0Xu5vqDOAn+KDNtXykt3n0qChADg0CLBgh2nWyQkNUT/L3KOA4dIfS+fLBw5Zl4cPWd/s8IHoWflLupNdUSxfFotpc8QkHQPQcvedX4cNWDGwPE0B058aZ5+9lXQJe2gDhUVfUYsFeJ74Y8Z6gz1s2/9ZhRbExFfXrHBoEFAuie2ulEdWT/K8VsI36d0RRNMnedalbews2PrSfjzMj3rpDjFdhJt6s5M0WsGl/lp0SACA9jhhfkq1mP8IyvRj09nDmJf8Lki317/4lJCUXAgA77Z+aknPAzn1ePd/TdzWMXt3/Riesw/4D8CTT0L20ipMAAAAASUVORK5CYII=\"></div>"
      ],
      "text/plain": [
       "Function[{a, b}, If[a < b, a, b]]"
      ]
     },
     "execution_count": 48,
     "metadata": {
      "text/html": [],
      "text/plain": []
     },
     "output_type": "execute_result"
    }
   ],
   "source": [
    "MinOf2 = Function[{a, b}, If[a < b, a, b]]"
   ]
  },
  {
   "cell_type": "code",
   "execution_count": 49,
   "metadata": {},
   "outputs": [
    {
     "data": {
      "text/html": [
       "<div><pre style=\"&#102;&#111;&#110;&#116;&#45;&#102;&#97;&#109;&#105;&#108;&#121;&#58;&#32;&#34;&#67;&#111;&#117;&#114;&#105;&#101;&#114;&#32;&#78;&#101;&#119;&#34;&#44;&#67;&#111;&#117;&#114;&#105;&#101;&#114;&#44;&#109;&#111;&#110;&#111;&#115;&#112;&#97;&#99;&#101;&#59;\">&#49;</pre></div>"
      ],
      "text/plain": [
       "1"
      ]
     },
     "execution_count": 49,
     "metadata": {
      "text/html": [],
      "text/plain": []
     },
     "output_type": "execute_result"
    }
   ],
   "source": [
    "MinOf2[1, Pi]"
   ]
  },
  {
   "cell_type": "code",
   "execution_count": 50,
   "metadata": {},
   "outputs": [
    {
     "data": {
      "text/html": [
       "<div><img alt=\"Output\" src=\"data:image/png;base64,iVBORw0KGgoAAAANSUhEUgAAABIAAAAPCAIAAABm5AhFAAAAqXpUWHRSYXcgcHJvZmlsZSB0eXBlIGV4aWYAAHjaVU7BDQIxDPt3CkZI08RuxzkdPYkNGB8HEBJ+JK5lx237+bjardD7bJGcWIAJsWL5ITLtg242uqabZX6lw/4Qg45EbwytcCOxxKeYJtItiQsnIGPH3S1O7Q1SMbAcAC66nIPRJNepzeBwcwXSkHQOndmKnFJSLwWjlJPLbRxVXfDNd2H7NW5U9F7fbS+9qDdb5gLobwAAAAlwSFlzAAALEwAACxMBAJqcGAAAAF10RVh0U29mdHdhcmUAQ3JlYXRlZCB3aXRoIHRoZSBXb2xmcmFtIExhbmd1YWdlIGZvciBTdHVkZW50cyAtIFBlcnNvbmFsIFVzZSBPbmx5IDogd3d3LndvbGZyYW0uY29tSN96kwAAACF0RVh0Q3JlYXRpb24gVGltZQAyMDIwOjExOjA5IDIyOjI5OjI4NwzZsgAAAKdJREFUKJHFks0RwiAQhR+OpSQ5pQKoQO0jHk0pcLSRTS9ZenkeFA0Qx5+DvssOLN8y780akvhcmy+Y/2AxOHOVC/E9jlRvByFJqrewXvlayE4yALcRSept9dUgKJ8UVGp4WVZuHzOmYzv2wt2KEwXaZU1JxuDMHsLzGoRpxqEBEGd0zR2LwbVj/4xBDHN3asokK8+5O0l2Mm95knUWIlpcKEka/nKVL+qg9cp5UFuaAAAAAElFTkSuQmCC\"></div>"
      ],
      "text/plain": [
       "2 Pi"
      ]
     },
     "execution_count": 50,
     "metadata": {
      "text/html": [],
      "text/plain": []
     },
     "output_type": "execute_result"
    }
   ],
   "source": [
    "MinOf2[10, 2Pi]"
   ]
  },
  {
   "cell_type": "markdown",
   "metadata": {},
   "source": [
    "**Exercício 5**:\n",
    "\n",
    "Resolver este problema é simples, basta saber qual é o algoritmo mais simples para calcular o maior divisor comum de dois números. Um algoritmo menos bem pensado passa por testar todos os números até ao menor dos dois argumentos e guardar o maior que dividiu os dois números:"
   ]
  },
  {
   "cell_type": "code",
   "execution_count": 2,
   "metadata": {},
   "outputs": [
    {
     "data": {
      "text/html": [
       "<div><img alt=\"Output\" src=\"data:image/png;base64,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\"></div>"
      ],
      "text/plain": [
       "Function[{a, b}, Module[{gcd, i}, For[i = 1, i <= Min[a, b], i++, \n",
       " \n",
       ">      If[Divisible[a, i] && Divisible[b, i], gcd = i]; ]; gcd]]"
      ]
     },
     "execution_count": 2,
     "metadata": {
      "text/html": [],
      "text/plain": []
     },
     "output_type": "execute_result"
    }
   ],
   "source": [
    "GCDLoop = Function[{a, b}, Module[{gcd, i},\n",
    "    For[i = 1, i <= Min[a, b], i++,\n",
    "        If[Divisible[a, i] && Divisible[b, i],\n",
    "            gcd = i\n",
    "        ];\n",
    "    ];\n",
    "    gcd\n",
    "]]"
   ]
  },
  {
   "cell_type": "code",
   "execution_count": 35,
   "metadata": {},
   "outputs": [
    {
     "data": {
      "text/html": [
       "<div><pre style=\"&#102;&#111;&#110;&#116;&#45;&#102;&#97;&#109;&#105;&#108;&#121;&#58;&#32;&#34;&#67;&#111;&#117;&#114;&#105;&#101;&#114;&#32;&#78;&#101;&#119;&#34;&#44;&#67;&#111;&#117;&#114;&#105;&#101;&#114;&#44;&#109;&#111;&#110;&#111;&#115;&#112;&#97;&#99;&#101;&#59;\">&#51;</pre></div>"
      ],
      "text/plain": [
       "3"
      ]
     },
     "execution_count": 35,
     "metadata": {
      "text/html": [],
      "text/plain": []
     },
     "output_type": "execute_result"
    }
   ],
   "source": [
    "GCDLoop[12, 21]"
   ]
  },
  {
   "cell_type": "code",
   "execution_count": 36,
   "metadata": {},
   "outputs": [
    {
     "data": {
      "text/html": [
       "<div><pre style=\"&#102;&#111;&#110;&#116;&#45;&#102;&#97;&#109;&#105;&#108;&#121;&#58;&#32;&#34;&#67;&#111;&#117;&#114;&#105;&#101;&#114;&#32;&#78;&#101;&#119;&#34;&#44;&#67;&#111;&#117;&#114;&#105;&#101;&#114;&#44;&#109;&#111;&#110;&#111;&#115;&#112;&#97;&#99;&#101;&#59;\">&#51;</pre></div>"
      ],
      "text/plain": [
       "3"
      ]
     },
     "execution_count": 36,
     "metadata": {
      "text/html": [],
      "text/plain": []
     },
     "output_type": "execute_result"
    }
   ],
   "source": [
    "GCDLoop[21, 12]"
   ]
  },
  {
   "cell_type": "markdown",
   "metadata": {},
   "source": [
    "O \"nível\" a seguir seria um algoritmo mais pensado, com base no facto de que $\\gcd(a, b) = \\gcd(b, a-b)$. Isto também é fácil de implementar. Temos só de usar um ciclo `While` para ir aplicando a igualdade enquanto não encontrámos o $\\gcd$. Só precisamos de ter cuidado para manter a ordem entre `a` e `b` controlada, porque se não tivermos cuidado na nossa implementação os resultados podem ficar errados ao trocar a ordem dos argumentos."
   ]
  },
  {
   "cell_type": "code",
   "execution_count": 17,
   "metadata": {},
   "outputs": [
    {
     "data": {
      "text/html": [
       "<div><img alt=\"Output\" src=\"data:image/png;base64,iVBORw0KGgoAAAANSUhEUgAAAlYAAACCCAIAAAAL9xFYAAAAqXpUWHRSYXcgcHJvZmlsZSB0eXBlIGV4aWYAAHjaVU7BDQIxDPt3CkZI08RuxzkdPYkNGB8HEBJ+JK5lx237+bjardD7bJGcWIAJsWL5ITLtg242uqabZX6lw/4Qg45EbwytcCOxxKeYJtItiQsnIGPH3S1O7Q1SMbAcAC66nIPRJNepzeBwcwXSkHQOndmKnFJSLwWjlJPLbRxVXfDNd2H7NW5U9F7fbS+9qDdb5gLobwAAAAlwSFlzAAALEwAACxMBAJqcGAAAAF10RVh0U29mdHdhcmUAQ3JlYXRlZCB3aXRoIHRoZSBXb2xmcmFtIExhbmd1YWdlIGZvciBTdHVkZW50cyAtIFBlcnNvbmFsIFVzZSBPbmx5IDogd3d3LndvbGZyYW0uY29tSN96kwAAACF0RVh0Q3JlYXRpb24gVGltZQAyMDIwOjExOjA5IDIyOjU2OjQ0gqP+WQAADjZJREFUeJzt3b12qkoUwPE9d91HgRSuPAE+AaZJlfZ0UmKTLuXpbKTU7rap0ug8QXyCLAuZd5lboBF1UED85P9rzomSYWZg2MwY2cpaKwAAtM8/164AAADXQQgEALTUxUOgSbpKRfq0MowxpuCdkwoWER0V1e70sksySfdgD+lIZcp34zl77FyK61zeoaN5eukNqzg07ql/GivqQIV3e6/RYVJR+UNZf0t3V1yz1VcovQH/SK7XKnbdYccu5LVpnRbsMErc7zQliZJqDdKRUt0kOwGaiP2ZcGytTUdB+WpcsMeaanJRnRuUTpPLj80H75/CUV917Oxe4ItjX5Hmhol2X8O3rptnudTV0FirG9ToidS41SywP7Nr4/CsO/Ti79P34Xmet/di+vQah/svN8bz4ldZVjmWZvkTBPI5NSJipovnfvBT6fcbdKkea7LJzjo35ZxlH3Cof6oOjTvqn+pjR0SqnTlnu7CY6d9hUZQIRqm11tp09NPLX7HLV+YcW1Z1RyfSGRQthOZuujbxWEcqSpJudtvTzUX23P1QpFd3t/5gLpPe1rbuSbpZl7h5vXBHleTv0qrdUKx/s/auN94+3hZTI2Yqr++d9YuOJude9AfzTT32j0IBZ5lVmKTbTZJIKbX6p+5dmKvJjmOho+0jfqS3b+BoNnNaHu6fnZWu8ru7ev8Ujfp6/E7xRGavwhVW/04eJk5e/N8omPxNjLMyJunmO0NHq5+OXg+PN7DksSvd6roXgYaGxqayp55IhxqydeVZh8D1zo7ubjJYfFhr7aw/Hwx/L2U9meUnkV78nU3G15PL79gTcU7STdL1P982t1K/u3fsqKpwvK5UOvrplT/hJ72v1+y3ZPDnxMvm81P40llMk+HiaX3/5m6yjvzB82z1YvlljDUd+Vl/WWtn0qt5Es4Hi1c7688Hn500HTkmcMboLa69OJrsPBbh2M76k16kRXTU+xmlq7OkwC0czaOn5Wn9s3/gK4yCq/dP0ag/zeYuMOj4WxXO9Unp1b86w8R7elvt+fBWz6v/7VfGiz/682zmLyL6a9L/iL2iauvh+jqQ68Gi06PcsavW6qMXgQINXLEzZU6kMgOtZEP2FkKPnLf9WTYV39yk6a9JMHqvOT8308/56nxYnSmLtGhHR0rSy+Xuifp777SZV5Wx3rX38hb81kdERMInmVa4SKSLuYh4L53Pgbz+RkBnk0/qRRGz/NncxvQm5X7H0WP9rJrB24v7LPA8f8veVs4mixQci3Ccjn56SvVkdvx62fjRrOPIaVm/f2rtbstN9E+ximPHe3qeL1LRX9KXLy1m+bN+p+qVIafOMGlE+LqOgSb5O+kfOvJ+J5j0Sk6+yh27qq0+dhE4Upkax6W6owNNpLgh4Tj/gd+jfCnCpEt52m5oNrWoPa9y8kWmlf++yYu/s8lxNqrPIV3M1x9LlL0Bd/RYGd6Wwq12mnzoWARBmYNzjqN5DvX653S33z91xo5ZSuf9Vb4aWrKsMUxExH8pEQvM8keei8dT+D6Sz6kRM/2Uw7e6XvxtrbWvX42t1dZr9a0rN9BKOBACs4mjSf4cvqn0O4Fz4us9PR//QNt7eVsvoWc3SEGJNQdnQWH8JFuVyN036uF2E7bXggvp4WC+fcOmp/IS7/Z3ydJ+a+psst8Jfm8Ttzq83FEIXyuvPuz3WAkmifIS5wKE49cKjoWO/M+3/77/y6+AVytBTjia7s2qHc0dNfvndLfSP8WjvsbY+fkaLjovXvgqX1M5FGDKqjFMRMSTozvWkX+k97yXN/mc6umnlJtchWObjoJJueB/+NjVa7VjLycNjYqlHQkfJw00HW194metnfXzfxH6+4HC6lYyGI3W7+c2zC/Vbt125kravJzdhOzena42nfVla7MDO8renO1V1v36b8G5JuQqtt/m7drk6vP75mj3lUOl7VV9luvIvV389k5/tmm+6ygUdGP+5Z2Kl+uxdXVnfQlGqU1HwV77jypssuNYzPr5v6gLdmp9c0fTHjktSynqH+cxrTYKbqB/chvsF1i1tNwpkdvK2SfO3mtqmMz6RTV0d17Bfh0lHa92vqmu02N/96e2+tBFoPbQaPZEKqd8Q6Ry2VdXOgQeKKJ/sPOLf891LGuXdjEN9NjFcTQPu7v+uf3eLuzS6hfgO3J3J1ID0lGwiauP8lmgiMjyq8R02CRdpXo/o7TGN2zMctFgaTegVI/dsmb7/86PpsPt9M89j51H+OjsRLdzIjWxa//zbfP358reXaYIY3Saivjh/re6jdbih+f5LuY5yz6zK/XYSQ7U+eZLv4S76p+bPcu23P9JUcddnUjncIchEACAJjzSQigAABUQAgEALUUIBAC0FCEQANBShEAAQEsRAgEALUUIBAC0FCEQANBShEAAQEs1EAIPpaivQEcqSpKuI3d9s0k6AAAQEZF/GyllPlh82Jmo3udbmo7+/Fka2X4m3OpRcb/cz4ybDBYza0PRkeoNdXzzj88FANyzZkJglqL+K0tRP3W873nbmXDdz0ztz7Ko53cCyT1XPhxbO26mngAArDUUAo87Lbk9AABNu1AINEk0zM3rOq/vcfnsGTpSvUkw2mR4AgDgdBcKgV48rr+U6XcCkfkiJXclAKBBd5Ev0CTdrTy/AACc7ta/F7if5x4AgEbcxSwQAIDm3fosEACAMyEEAgBaihAIAGgpQiAAoKUIgQCAliIEAgBaihAIAGgpQiAAoKVuKgSapEtqXADAhdxUCAQA4HIaCYE6UlGSdJVSSqluYmoUkT0LdDCXSa9eMcV10JFSTC4BALuaSpY0GSxm1oaiI9Ub6jjL/r5hjE7T3M9+uJMu0Iu/bWySrr/4sLu/3FAdAADIayoE9mdZxPE7gSz23/Y8f/vnGrswJj8vdGShL6hDOLa2frJCAMCjulDKXGfIqsSYdGseeXKBAICWu1AINEk0zE3MOq/vcbgfwbynZ/lcGnG8JZ4X1ox5OlK9STAi4yAAYMuFQqAXj8usRYbvo7++rwYi0lzM8juByHyR1lt+BQA8qjakzDVJl7zzAIBdD/69wOy7FsQ/AMC+NswCAQBwePBZIAAARQiBAICWIgQCAFqKEAgAaClCIACgpQiBAICWIgQCAFrq3CHQrFP47SYANGY78wMAAJfVVMrcvFx6Wj0cyCi11lq79XwWrVNHOddiki45dQGgdRoJgeHYWmtnfenPrLW5lLdm+SPPT+5Hk3lkOwIAXNO5FkKzBVB/MJdJb3dq6KAjFSXrNdOdJdPVFkmU6EMrpybpdpMkUkqt/ik1scseIrqppnvnxwsp3LWOStYEAHBh5wqBXvxtrU1HwWpmmJsaFpgMFh/ZZHI+GO6HjDAev8j0cBycDxavdtafDz47aToKfpbHo5kXf29V0zqep22M3uIqtcauAQDXdbGs8Uf1Z1mU9DuBLJxbeGEch2J0Eg3FnXO3/xqKfEnw9uLJtLGaeZ6//bNro6Jdh2Nry6RKBABc2u2EwLI8/6kjX8vU1M0iX2effGwJAI/nrkKgMXo6/Hp6H5dKQZ+jI9Wb9GdFq7He07N8Lo045pUiIiaJhrl5acc9Az2062BEwkIAuDmNhEAdqd5EREQmaiJSHGtOYFbLn1Wjn4hki6sy+dLj0F2v8H301/fVQEQc0cqrt9PcrueLtGD9FABwNVdKmau1DgvC0Xn2F6menCMyH2eSLmnrAeAWPf4D0kzSVar3M0ovH/+yb1wQ/wDgNl1pFmiMTlMRPyz/oRoAAI26UggEAODaHn8hFAAAJ0IgAKClCIEAgJYiBAIAWooQCABoKUIgAKClCIEAgJYiBAIAWooQCABoqTOGQJN0u0kSKaVW/6hoPxn8cTpSUZJ0lVJKqW5itt6pWSYAAGfOFzgfLD7sTFTv8y1NR3/+7OXkWz0r9Jf7oaGTwWJmbSg6Ur2hjq+R7wEA8HDOnDK3/xqKfEnw9uLJ1PG+5/nbP7tLmWVRz+8EkstdG46trZ/IDwDQclfPGu955IoAAFzDlUOgSaJhbl7XeX2Py6dP0pHqTRxZ3gEAKOHKIdCLx/WXMv1OIDJfpEXrpwAAHHDX+QJN0iUnOwCgpnv9XqBJukoR/wAA9d31LBAAgPrudRYIAMCJCIEAgJYiBAIAWooQCABoKUIgAKClCIEAgJYiBAIAWurhQqAxxpjjm9XYGADwWO4iBJqkWyU1bjpNyse1ShsDAB7IXYTAKiolXyJTEwC02FlDoI5UlCRdpZRSqltrtpU9C3Qwl0lvrxgdKVV6dni+jQEA9+ncyZImg8XM2lB0pHpDHWfZ3zeM0Wma+9kPd9IFevG3jU3S9RcfdveXAQA4wblDYH+WBS6/E8hi/23P87d/rlJ2OLa2dLbB820MALhPV06Zy8dxAIBrufKfw5gkyku08/NC7+lZfpZ7b+mowkeM59sYAHCfrjwL9OJxmQXH8H301/fVQESC0W+WXL8TiMwXaan10/NtDAC4T2cNgeHYrv+CxYu/T0nN68XfNt578eUtGEjHd/3Cfgln2xgAcJ/u9XuB2ZclPt9+p4TX2RgAcL+UtafMzm7N6ksWe9+tOH1jAMCjebAQCABAWfe6EAoAwIkIgQCAliIEAgBaihAIAGgpQiAAoKUIgQCAlmouBBpjjOuhmkWvAwBwVY3OAtOp+8nSRa8DAHA9zYXAoqxHZEMCANykqiFQRypKkq5SinRCAIC7VmMWOBksPqy1dtafD4a6+SoBAHAJNUJgfzYORVZJ9QAAuFN8KQIA0FKEQABASxECAQAt9W/F7cOxDVf/9eJvUg0CAO4Ws0AAQEtVnQUWMUanqTy97H4Nvuh1AACuTFnLaiYAoI3+B1RRK1vToUT3AAAAAElFTkSuQmCC\"></div>"
      ],
      "text/plain": [
       "Function[{a, b}, Module[{m = Max[a, b], n = Min[a, b], t}, \n",
       " \n",
       ">    While[!Divisible[m, n], t = m; m = n; n = t - n; \n",
       " \n",
       ">       If[n > m, t = m; m = n; n = t; ]; ]; n]]"
      ]
     },
     "execution_count": 17,
     "metadata": {
      "text/html": [],
      "text/plain": []
     },
     "output_type": "execute_result"
    }
   ],
   "source": [
    "GCDSmart = Function[{a, b}, Module[{m = Max[a, b], n = Min[a, b], t},\n",
    "    While[!Divisible[m, n],\n",
    "        t = m;\n",
    "        m = n;\n",
    "        n = t - n;\n",
    "        If[n > m,   (* keep m as the larger of the two *)\n",
    "            t = m;\n",
    "            m = n;\n",
    "            n = t;\n",
    "        ];\n",
    "    ];\n",
    "    n\n",
    "]]"
   ]
  },
  {
   "cell_type": "code",
   "execution_count": 29,
   "metadata": {},
   "outputs": [
    {
     "data": {
      "text/html": [
       "<div><pre style=\"&#102;&#111;&#110;&#116;&#45;&#102;&#97;&#109;&#105;&#108;&#121;&#58;&#32;&#34;&#67;&#111;&#117;&#114;&#105;&#101;&#114;&#32;&#78;&#101;&#119;&#34;&#44;&#67;&#111;&#117;&#114;&#105;&#101;&#114;&#44;&#109;&#111;&#110;&#111;&#115;&#112;&#97;&#99;&#101;&#59;\">&#51;</pre></div>"
      ],
      "text/plain": [
       "3"
      ]
     },
     "execution_count": 29,
     "metadata": {
      "text/html": [],
      "text/plain": []
     },
     "output_type": "execute_result"
    }
   ],
   "source": [
    "GCDSmart[12, 21]"
   ]
  },
  {
   "cell_type": "code",
   "execution_count": 30,
   "metadata": {},
   "outputs": [
    {
     "data": {
      "text/html": [
       "<div><pre style=\"&#102;&#111;&#110;&#116;&#45;&#102;&#97;&#109;&#105;&#108;&#121;&#58;&#32;&#34;&#67;&#111;&#117;&#114;&#105;&#101;&#114;&#32;&#78;&#101;&#119;&#34;&#44;&#67;&#111;&#117;&#114;&#105;&#101;&#114;&#44;&#109;&#111;&#110;&#111;&#115;&#112;&#97;&#99;&#101;&#59;\">&#51;</pre></div>"
      ],
      "text/plain": [
       "3"
      ]
     },
     "execution_count": 30,
     "metadata": {
      "text/html": [],
      "text/plain": []
     },
     "output_type": "execute_result"
    }
   ],
   "source": [
    "GCDSmart[21, 12]"
   ]
  },
  {
   "cell_type": "markdown",
   "metadata": {},
   "source": [
    "O código em cima é particularmente deselegante porque temos de usar uma variável temporária, `t`, para ajudar a trocar os valores das variáveis quando necessário. Ainda bem que há uma sintaxe melhor para isso:"
   ]
  },
  {
   "cell_type": "code",
   "execution_count": 31,
   "metadata": {},
   "outputs": [
    {
     "data": {
      "text/html": [
       "<div><pre style=\"&#102;&#111;&#110;&#116;&#45;&#102;&#97;&#109;&#105;&#108;&#121;&#58;&#32;&#34;&#67;&#111;&#117;&#114;&#105;&#101;&#114;&#32;&#78;&#101;&#119;&#34;&#44;&#67;&#111;&#117;&#114;&#105;&#101;&#114;&#44;&#109;&#111;&#110;&#111;&#115;&#112;&#97;&#99;&#101;&#59;\">&#49;</pre></div>"
      ],
      "text/plain": [
       "1"
      ]
     },
     "execution_count": 34,
     "metadata": {
      "text/html": [],
      "text/plain": []
     },
     "output_type": "execute_result"
    }
   ],
   "source": [
    "a = 0;\n",
    "b = 1;\n",
    "{a, b} = {b, a};\n",
    "a"
   ]
  },
  {
   "cell_type": "code",
   "execution_count": 24,
   "metadata": {},
   "outputs": [
    {
     "data": {
      "text/html": [
       "<div><pre style=\"&#102;&#111;&#110;&#116;&#45;&#102;&#97;&#109;&#105;&#108;&#121;&#58;&#32;&#34;&#67;&#111;&#117;&#114;&#105;&#101;&#114;&#32;&#78;&#101;&#119;&#34;&#44;&#67;&#111;&#117;&#114;&#105;&#101;&#114;&#44;&#109;&#111;&#110;&#111;&#115;&#112;&#97;&#99;&#101;&#59;\">&#48;</pre></div>"
      ],
      "text/plain": [
       "0"
      ]
     },
     "execution_count": 24,
     "metadata": {
      "text/html": [],
      "text/plain": []
     },
     "output_type": "execute_result"
    }
   ],
   "source": [
    "b"
   ]
  },
  {
   "cell_type": "markdown",
   "metadata": {},
   "source": [
    "Assim, podemos reescrever a função em cima como:"
   ]
  },
  {
   "cell_type": "code",
   "execution_count": 27,
   "metadata": {},
   "outputs": [
    {
     "data": {
      "text/html": [
       "<div><img alt=\"Output\" src=\"data:image/png;base64,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\"></div>"
      ],
      "text/plain": [
       "Function[{a, b}, Module[{m = Max[a, b], n = Min[a, b]}, \n",
       " \n",
       ">    While[!Divisible[m, n], {m, n} = {n, m - n}; If[n > m, {m, n} = {n, m}]; ]; n]]"
      ]
     },
     "execution_count": 27,
     "metadata": {
      "text/html": [],
      "text/plain": []
     },
     "output_type": "execute_result"
    }
   ],
   "source": [
    "GCDSmartShorter = Function[{a, b}, Module[{m = Max[a, b], n = Min[a, b]},\n",
    "    While[!Divisible[m, n],\n",
    "        {m, n} = {n, m - n};\n",
    "        If[n > m,\n",
    "            {m, n} = {n, m}\n",
    "        ];\n",
    "    ];\n",
    "    n\n",
    "]]"
   ]
  },
  {
   "cell_type": "code",
   "execution_count": 37,
   "metadata": {},
   "outputs": [
    {
     "data": {
      "text/html": [
       "<div><pre style=\"&#102;&#111;&#110;&#116;&#45;&#102;&#97;&#109;&#105;&#108;&#121;&#58;&#32;&#34;&#67;&#111;&#117;&#114;&#105;&#101;&#114;&#32;&#78;&#101;&#119;&#34;&#44;&#67;&#111;&#117;&#114;&#105;&#101;&#114;&#44;&#109;&#111;&#110;&#111;&#115;&#112;&#97;&#99;&#101;&#59;\">&#51;</pre></div>"
      ],
      "text/plain": [
       "3"
      ]
     },
     "execution_count": 37,
     "metadata": {
      "text/html": [],
      "text/plain": []
     },
     "output_type": "execute_result"
    }
   ],
   "source": [
    "GCDSmartShorter[12, 21]"
   ]
  },
  {
   "cell_type": "code",
   "execution_count": 38,
   "metadata": {},
   "outputs": [
    {
     "data": {
      "text/html": [
       "<div><pre style=\"&#102;&#111;&#110;&#116;&#45;&#102;&#97;&#109;&#105;&#108;&#121;&#58;&#32;&#34;&#67;&#111;&#117;&#114;&#105;&#101;&#114;&#32;&#78;&#101;&#119;&#34;&#44;&#67;&#111;&#117;&#114;&#105;&#101;&#114;&#44;&#109;&#111;&#110;&#111;&#115;&#112;&#97;&#99;&#101;&#59;\">&#51;</pre></div>"
      ],
      "text/plain": [
       "3"
      ]
     },
     "execution_count": 38,
     "metadata": {
      "text/html": [],
      "text/plain": []
     },
     "output_type": "execute_result"
    }
   ],
   "source": [
    "GCDSmartShorter[21, 12]"
   ]
  },
  {
   "cell_type": "markdown",
   "metadata": {},
   "source": [
    "Finalmente, há uma outra melhoria que podemos fazer à nossa função. Se $a > 2b$, então $\\gcd(a, b) = \\gcd(b, a - 2b)$. Se $a > 3b$, então $\\gcd(a, b) = \\gcd(b, a - 3b)$. E por aí fora. Assim, podemos ainda escrever:"
   ]
  },
  {
   "cell_type": "code",
   "execution_count": 39,
   "metadata": {},
   "outputs": [
    {
     "data": {
      "text/html": [
       "<div><img alt=\"Output\" src=\"data:image/png;base64,iVBORw0KGgoAAAANSUhEUgAAAnsAAAAPCAIAAAATep4+AAAAqXpUWHRSYXcgcHJvZmlsZSB0eXBlIGV4aWYAAHjaVU7BDQIxDPt3CkZI08RuxzkdPYkNGB8HEBJ+JK5lx237+bjardD7bJGcWIAJsWL5ITLtg242uqabZX6lw/4Qg45EbwytcCOxxKeYJtItiQsnIGPH3S1O7Q1SMbAcAC66nIPRJNepzeBwcwXSkHQOndmKnFJSLwWjlJPLbRxVXfDNd2H7NW5U9F7fbS+9qDdb5gLobwAAAAlwSFlzAAALEwAACxMBAJqcGAAAAF10RVh0U29mdHdhcmUAQ3JlYXRlZCB3aXRoIHRoZSBXb2xmcmFtIExhbmd1YWdlIGZvciBTdHVkZW50cyAtIFBlcnNvbmFsIFVzZSBPbmx5IDogd3d3LndvbGZyYW0uY29tSN96kwAAACF0RVh0Q3JlYXRpb24gVGltZQAyMDIwOjExOjA5IDIzOjAwOjQ1vlgV1wAABppJREFUeJztnb+2ojwQwId9lmDB8QnwCdDGynY7KKG5neXtbKC8dtta2UCeQJ+AQyF5l3wFoCAJJCGI3o9fs7sxzExmJpM/6FmDUgozMzMzMzMzI/NnagNmZmZmZmb+F8wr7szMzMzMzCt4+YpLopVheHiYDEII4XwySDAAYI9n3XDZgpBo1ekh7BkF4m4c02Pvwwti16HiObG1hkkS8Vmm3pPtiilHPYr0MSeIZtkTzWVWvZomplIq9ZrIN+mp/Q/UJonkTOkxoWfdUAbjnKPQi9if6CLyIrkBYc8wVlHhcB1bjQLnh1Kah7a4GZN57H2Qjd3zesJfannoCxNmV4bGvB1lqimgbdQayeNIrbS+YUnhocVUXfVqupjK+VM5MaSkNdvLM66b0IofR58NDJB/Ga4DIYRajfli6zvtZm0g5G/hJrWLuqW2DaeYAACJs6Vrp1LPa2QSj70P8rEDALlgjZbYJP4+8AqYHeaUUkrzMF3Xy6O4MWP0lIWZnBqFKz/7fiWFiw5TddarSWIq5U+9BvJNemrn3SrXtvSPwyr2DC+KVsWmelVbuGu7bQ+X2yMzuMJx3ejLvnEilcRHO1eRFPUzgNxmrXpSWfWD3X6XxQRIDNsvq2pkDLnWaAbXhx3tKHBgypSBRKtVFHmGYZR/KMpRcrueiNfVD4ydafGPaS0VElepg8PEBPn/Qvv4HRGmMSRa1d2BvfJfvfOxf4CC3hYetWoS6sufz7RNm9JB9YrN9H7DnsR06+qswaRyxa2Wxl4xxyDbU0pp4l6DA66sWENSPyIj/1LcLFVH54uPAJg3TiRamafdY6N+V89QJIvzUxmVh+lavL4d1+dt8RQEfwdOkOXC2VhZHB2yRXU6YA8Ze2awTMpG8Tu5CuyZhb8opQmsFfPzGmRbmrjX4GTlecjY4RKCG7C0KLu9O+IiqvXGDgDqmx7bMhsqanYKX6WqhAktdqXm7l7L8m9tY5C/d6/F0QUA8Pno7n3EMxsfqjy8z1vuAAW9LTfq3iTkoKFi9PJi28RyXqfSkerVO8dUkqEmtW6V75OMjZsU90qPIwA+H+3wS/GyicSnazn9y8KQ5TxFPZLw7fZcl+47875dWJNKNdrs7Ls9AADgLCCWyPo8uwIA2linALb3BGYOeZAXAcgtfeya1kexZxgecwsz7d2Gd0diNmD2Guh2TsSFVOuLHVosr1kO+AwunDGQWypoZxcqYdKCs62WXBJ9H91tR6KZln1cC54I+N6uIzvqviTsMUYhLmxUJoi0bZ1pKZbzHFPlHTJivXpZTJn+dH4kXpf2dB6aZr/l10Ekv8GiGUzsrdP7ay5Nk9AEiKW/4Ib8S3H0L4r4GOTZtXqlJ7JvAmB6TATUgNFhDLcLqu5GJXbkBtbXFs6attcKYQIAcyNQpsgthSU/ns5XCKeYAIlP0F0pkX+hlNLtWdvFt9qoJ0dxgsjSnZZiOa/X1BfUqxFRKtEvpGPFLY7+JPrbfVIxLZt5vEaLZf93T9BmV71+KrbftsAFGlOQ4y+gYUTtVIIPzSEIXuvjQ3BtHgdwDBv/OfGlXhLwhmxa9v0Q0nC4WBScrfQdR9tjApDIqxO177mGu11ZdUOXjtil50NmbZCzhXMMXeuZKAphAgAEvYqxZz6P91nIZgenGMcnEDtmOD80D+2j2F6j7e2GKKVRM7QMyh9paVITRNk2ZlpWiOb8mKZK1itJ9MYUuqa56Js2qc7y8FZc5yuEwDQMwzztQrdLAvIveZje3wM/vHcXUdlfvGp/fKPKwwDIvyTLspd52uX69r/I37vXQvK31RyCadkA/GJS3YCt0zAXuIrgSqstPk3DGENG/r/K4dk+qaxlRoHlRnB+6kEYLV+Q/1OH8e1IdbcPVg2gL3ZFTTmm1gYBmFYadFUVZkR0hQl7hsmtSaWnjXUa5uVNGFMvACB/vwzWwXJ/n2EdZpcvBZZJt8y2t8dMzmH580nSKsRyXpIR65VGY7RiWjaA6HldqrMC9ONIkkSqndXVbfwgSlx1WL8dGyrtZWjwmB47pnTU+8eOGw6G3b+Hd562k9mmIGd8U9/KGJ7f2O15aIPd/kCqsyaTfst7XACA21ngy3wkWgmfgFrP3jKN0t4AIY9pYXJHfXLsPuK157joDZawtAlKiiqjm6qdMYzhTHPR61OpzmoY9OP+7yBCcJ4DmE77joVgDKYzzk+vx5Q9MhN57H34jFF2hOkXM+6oB0v/oJLyPlk+UUxlHKDXRJ40Rvt/6Y3FlJXYdM8AAAAASUVORK5CYII=\"></div>"
      ],
      "text/plain": [
       "Function[{a, b}, Module[{m = a, n = b}, \n",
       " \n",
       ">    While[!Divisible[m, n], {m, n} = {n, Mod[m, n]}; ]; n]]"
      ]
     },
     "execution_count": 39,
     "metadata": {
      "text/html": [],
      "text/plain": []
     },
     "output_type": "execute_result"
    }
   ],
   "source": [
    "GCDSmartest = Function[{a, b}, Module[{m = a, n = b},\n",
    "    While[!Divisible[m, n],\n",
    "        {m, n} = {n, Mod[m, n]};\n",
    "    ];\n",
    "    n\n",
    "]]"
   ]
  },
  {
   "cell_type": "code",
   "execution_count": 40,
   "metadata": {},
   "outputs": [
    {
     "data": {
      "text/html": [
       "<div><pre style=\"&#102;&#111;&#110;&#116;&#45;&#102;&#97;&#109;&#105;&#108;&#121;&#58;&#32;&#34;&#67;&#111;&#117;&#114;&#105;&#101;&#114;&#32;&#78;&#101;&#119;&#34;&#44;&#67;&#111;&#117;&#114;&#105;&#101;&#114;&#44;&#109;&#111;&#110;&#111;&#115;&#112;&#97;&#99;&#101;&#59;\">&#51;</pre></div>"
      ],
      "text/plain": [
       "3"
      ]
     },
     "execution_count": 40,
     "metadata": {
      "text/html": [],
      "text/plain": []
     },
     "output_type": "execute_result"
    }
   ],
   "source": [
    "GCDSmartest[12, 21]"
   ]
  },
  {
   "cell_type": "code",
   "execution_count": 41,
   "metadata": {},
   "outputs": [
    {
     "data": {
      "text/html": [
       "<div><pre style=\"&#102;&#111;&#110;&#116;&#45;&#102;&#97;&#109;&#105;&#108;&#121;&#58;&#32;&#34;&#67;&#111;&#117;&#114;&#105;&#101;&#114;&#32;&#78;&#101;&#119;&#34;&#44;&#67;&#111;&#117;&#114;&#105;&#101;&#114;&#44;&#109;&#111;&#110;&#111;&#115;&#112;&#97;&#99;&#101;&#59;\">&#51;</pre></div>"
      ],
      "text/plain": [
       "3"
      ]
     },
     "execution_count": 41,
     "metadata": {
      "text/html": [],
      "text/plain": []
     },
     "output_type": "execute_result"
    }
   ],
   "source": [
    "GCDSmartest[21, 12]"
   ]
  },
  {
   "cell_type": "markdown",
   "metadata": {},
   "source": [
    "Todas estas funções podem ser transformadas em soluções recursivas, mas naturalmente é mais fácil converter a mais simples de todas. Numa função recursiva temos de testar o caso mais simples de todos, que sabemos resolver, e se esse caso não se verificar, temos de fazer uma chamada recursiva:"
   ]
  },
  {
   "cell_type": "code",
   "execution_count": 42,
   "metadata": {},
   "outputs": [
    {
     "data": {
      "text/html": [
       "<div><img alt=\"Output\" src=\"data:image/png;base64,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\"></div>"
      ],
      "text/plain": [
       "Function[{a, b}, If[Divisible[a, b], b, GCDRecursive[b, Mod[a, b]]]]"
      ]
     },
     "execution_count": 42,
     "metadata": {
      "text/html": [],
      "text/plain": []
     },
     "output_type": "execute_result"
    }
   ],
   "source": [
    "GCDRecursive = Function[{a, b},\n",
    "    If[Divisible[a, b],\n",
    "        b,\n",
    "        GCDRecursive[b, Mod[a, b]]\n",
    "    ]\n",
    "]"
   ]
  },
  {
   "cell_type": "code",
   "execution_count": 43,
   "metadata": {},
   "outputs": [
    {
     "data": {
      "text/html": [
       "<div><pre style=\"&#102;&#111;&#110;&#116;&#45;&#102;&#97;&#109;&#105;&#108;&#121;&#58;&#32;&#34;&#67;&#111;&#117;&#114;&#105;&#101;&#114;&#32;&#78;&#101;&#119;&#34;&#44;&#67;&#111;&#117;&#114;&#105;&#101;&#114;&#44;&#109;&#111;&#110;&#111;&#115;&#112;&#97;&#99;&#101;&#59;\">&#51;</pre></div>"
      ],
      "text/plain": [
       "3"
      ]
     },
     "execution_count": 43,
     "metadata": {
      "text/html": [],
      "text/plain": []
     },
     "output_type": "execute_result"
    }
   ],
   "source": [
    "GCDRecursive[12, 21]"
   ]
  },
  {
   "cell_type": "code",
   "execution_count": 44,
   "metadata": {},
   "outputs": [
    {
     "data": {
      "text/html": [
       "<div><pre style=\"&#102;&#111;&#110;&#116;&#45;&#102;&#97;&#109;&#105;&#108;&#121;&#58;&#32;&#34;&#67;&#111;&#117;&#114;&#105;&#101;&#114;&#32;&#78;&#101;&#119;&#34;&#44;&#67;&#111;&#117;&#114;&#105;&#101;&#114;&#44;&#109;&#111;&#110;&#111;&#115;&#112;&#97;&#99;&#101;&#59;\">&#51;</pre></div>"
      ],
      "text/plain": [
       "3"
      ]
     },
     "execution_count": 44,
     "metadata": {
      "text/html": [],
      "text/plain": []
     },
     "output_type": "execute_result"
    }
   ],
   "source": [
    "GCDRecursive[21, 12]"
   ]
  },
  {
   "cell_type": "markdown",
   "metadata": {},
   "source": [
    "**Exercícios 6a e 6b**:\n",
    "\n",
    "Verifica que não tens variáveis locais que não deviam existir. Garante que a lista de variáveis de cada `Module` contém todas as variáveis que são usadas no corpo de uma função, exceto os argumentos da função. Garante também que não encavalistaste o teu código também em linhas de menos e garante que não te esqueceste de incluir espaços depois de vírgulas e que não te esqueceste de mudar de linha depois de cada `;`."
   ]
  },
  {
   "cell_type": "code",
   "execution_count": null,
   "metadata": {},
   "outputs": [],
   "source": []
  }
 ],
 "metadata": {
  "kernelspec": {
   "display_name": "Wolfram Language 12",
   "language": "Wolfram Language",
   "name": "wolframlanguage12"
  },
  "language_info": {
   "codemirror_mode": "mathematica",
   "file_extension": ".m",
   "mimetype": "application/vnd.wolfram.m",
   "name": "Wolfram Language",
   "pygments_lexer": "mathematica",
   "version": "12.0"
  },
  "toc": {
   "base_numbering": 1,
   "nav_menu": {},
   "number_sections": false,
   "sideBar": true,
   "skip_h1_title": true,
   "title_cell": "Table of Contents",
   "title_sidebar": "Contents",
   "toc_cell": false,
   "toc_position": {},
   "toc_section_display": true,
   "toc_window_display": true
  }
 },
 "nbformat": 4,
 "nbformat_minor": 4
}
