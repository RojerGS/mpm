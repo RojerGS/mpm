{
 "cells": [
  {
   "cell_type": "markdown",
   "metadata": {},
   "source": [
    "# Introdução\n",
    "\n",
    "Este capítulo pretende introduzir o leitor à programação em Mathematica. Vamos assumir que o leitor está vagamente familiarizado com os conceitos de programação.\n",
    "\n",
    "O Mathematica é extremamente poderoso por causa do seu sistema de programação simbólica, que vamos explorar mais tarde. Para além disso, o Mathematica tem, no momento em que este parágrafo foi escrito, [quase 6000 funções pré-definidas](https://reference.wolfram.com/language/guide/AlphabeticalListing).\n",
    "\n",
    "No entanto, vamos começar por introduzir o Mathematica como uma linguagem de programação \"clássica\".\n",
    "\n",
    "## Objetivos\n",
    "\n",
    "Os objetivos deste capítulo são\n",
    "\n",
    " - apresentar a sintaxe básica para chamar funções no Mathematica;\n",
    " - mostrar como encadear várias instruções consecutivas;\n",
    " - mostrar que tudo no Mathematica são funções;\n",
    " - usar as funções `If`, `For` e `While` para execução condicional e/ou repetida de código;\n",
    " - aprender a usar `Module` para impedir que a sessão fique cheia de variáveis inúteis."
   ]
  },
  {
   "cell_type": "markdown",
   "metadata": {},
   "source": [
    "## Uma calculadora potente\n",
    "\n",
    "O Mathematica pode ser usado como uma calculadora muito potente. As quatro operações básicas são acessíveis através dos quatro símbolos usuais das linguagens de programação:"
   ]
  },
  {
   "cell_type": "code",
   "execution_count": 1,
   "metadata": {},
   "outputs": [
    {
     "data": {
      "text/html": [
       "<div><pre style=\"&#102;&#111;&#110;&#116;&#45;&#102;&#97;&#109;&#105;&#108;&#121;&#58;&#32;&#34;&#67;&#111;&#117;&#114;&#105;&#101;&#114;&#32;&#78;&#101;&#119;&#34;&#44;&#67;&#111;&#117;&#114;&#105;&#101;&#114;&#44;&#109;&#111;&#110;&#111;&#115;&#112;&#97;&#99;&#101;&#59;\">&#51;</pre></div>"
      ],
      "text/plain": [
       "3"
      ]
     },
     "execution_count": 1,
     "metadata": {
      "text/html": [],
      "text/plain": []
     },
     "output_type": "execute_result"
    }
   ],
   "source": [
    "1 + 2"
   ]
  },
  {
   "cell_type": "code",
   "execution_count": 2,
   "metadata": {},
   "outputs": [
    {
     "data": {
      "text/html": [
       "<div><pre style=\"&#102;&#111;&#110;&#116;&#45;&#102;&#97;&#109;&#105;&#108;&#121;&#58;&#32;&#34;&#67;&#111;&#117;&#114;&#105;&#101;&#114;&#32;&#78;&#101;&#119;&#34;&#44;&#67;&#111;&#117;&#114;&#105;&#101;&#114;&#44;&#109;&#111;&#110;&#111;&#115;&#112;&#97;&#99;&#101;&#59;\">&#45;&#49;</pre></div>"
      ],
      "text/plain": [
       "-1"
      ]
     },
     "execution_count": 2,
     "metadata": {
      "text/html": [],
      "text/plain": []
     },
     "output_type": "execute_result"
    }
   ],
   "source": [
    "3 - 4"
   ]
  },
  {
   "cell_type": "code",
   "execution_count": 3,
   "metadata": {},
   "outputs": [
    {
     "data": {
      "text/html": [
       "<div><pre style=\"&#102;&#111;&#110;&#116;&#45;&#102;&#97;&#109;&#105;&#108;&#121;&#58;&#32;&#34;&#67;&#111;&#117;&#114;&#105;&#101;&#114;&#32;&#78;&#101;&#119;&#34;&#44;&#67;&#111;&#117;&#114;&#105;&#101;&#114;&#44;&#109;&#111;&#110;&#111;&#115;&#112;&#97;&#99;&#101;&#59;\">&#51;&#48;</pre></div>"
      ],
      "text/plain": [
       "30"
      ]
     },
     "execution_count": 3,
     "metadata": {
      "text/html": [],
      "text/plain": []
     },
     "output_type": "execute_result"
    }
   ],
   "source": [
    "5 * 6"
   ]
  },
  {
   "cell_type": "code",
   "execution_count": 4,
   "metadata": {},
   "outputs": [
    {
     "data": {
      "text/html": [
       "<div><img alt=\"Output\" src=\"data:image/png;base64,iVBORw0KGgoAAAANSUhEUgAAAAwAAAAgCAIAAACpeQ79AAAAqXpUWHRSYXcgcHJvZmlsZSB0eXBlIGV4aWYAAHjaVU7BDQIxDPt3CkZI08RuxzkdPYkNGB8HEBJ+JK5lx237+bjardD7bJGcWIAJsWL5ITLtg242uqabZX6lw/4Qg45EbwytcCOxxKeYJtItiQsnIGPH3S1O7Q1SMbAcAC66nIPRJNepzeBwcwXSkHQOndmKnFJSLwWjlJPLbRxVXfDNd2H7NW5U9F7fbS+9qDdb5gLobwAAAAlwSFlzAAALEwAACxMBAJqcGAAAAF10RVh0U29mdHdhcmUAQ3JlYXRlZCB3aXRoIHRoZSBXb2xmcmFtIExhbmd1YWdlIGZvciBTdHVkZW50cyAtIFBlcnNvbmFsIFVzZSBPbmx5IDogd3d3LndvbGZyYW0uY29tSN96kwAAACF0RVh0Q3JlYXRpb24gVGltZQAyMDIwOjExOjA4IDEyOjM3OjA1x3n10wAAALJJREFUOI3dk7ENwyAQRY8oA7BEmoyAN/AguGUERsDL4EVcGXb5KZAQcGe7i6L8BgSPr+P0j1AULfWyEVUEQdGSCekSSsF0PhI02ggQt2FQCobZjFC0xG166MQGgAJAd3rcEj8KPcvivR8unHNa67L/7xY00LaoqmXrqCZLNUqng9CkiaWcJZOEcNaa8jqpmSKASLOa1izU1E3JmPW2BftRnudjJ/N+Cb9DCqYeDlV9OQUfORCgAvcoungAAAAASUVORK5CYII=\"></div>"
      ],
      "text/plain": [
       "7\n",
       "-\n",
       "8"
      ]
     },
     "execution_count": 4,
     "metadata": {
      "text/html": [],
      "text/plain": []
     },
     "output_type": "execute_result"
    }
   ],
   "source": [
    "7 / 8"
   ]
  },
  {
   "cell_type": "markdown",
   "metadata": {},
   "source": [
    "O Mathematica é um software com muitas funcionalidades simbólicas e, por esse motivo, o Mathematica dá-nos respostas exatas sempre que consegue. Por isso é que `7 / 8` deu $\\frac{7}{8}$. Se quisermos obrigar o Mathematica a dar-nos um número, podemos usar a função `N`:"
   ]
  },
  {
   "cell_type": "code",
   "execution_count": 5,
   "metadata": {},
   "outputs": [
    {
     "data": {
      "text/html": [
       "<div><pre style=\"&#102;&#111;&#110;&#116;&#45;&#102;&#97;&#109;&#105;&#108;&#121;&#58;&#32;&#34;&#67;&#111;&#117;&#114;&#105;&#101;&#114;&#32;&#78;&#101;&#119;&#34;&#44;&#67;&#111;&#117;&#114;&#105;&#101;&#114;&#44;&#109;&#111;&#110;&#111;&#115;&#112;&#97;&#99;&#101;&#59;\">&#48;&#46;&#56;&#55;&#53;</pre></div>"
      ],
      "text/plain": [
       "0.875"
      ]
     },
     "execution_count": 5,
     "metadata": {
      "text/html": [],
      "text/plain": []
     },
     "output_type": "execute_result"
    }
   ],
   "source": [
    "N[7 / 8]"
   ]
  },
  {
   "cell_type": "markdown",
   "metadata": {},
   "source": [
    "Por ser uma ferramenta de cálculo simbólico, o Mathematica não tem limitações muito grandes no quão grandes ou pequenos os números podem ficar. Por exemplo, podemos usar `N` para pedir o resultado de uma operação com tantas casas decimais quantas quisermos:"
   ]
  },
  {
   "cell_type": "code",
   "execution_count": 18,
   "metadata": {},
   "outputs": [
    {
     "data": {
      "text/html": [
       "<div><pre style=\"&#102;&#111;&#110;&#116;&#45;&#102;&#97;&#109;&#105;&#108;&#121;&#58;&#32;&#34;&#67;&#111;&#117;&#114;&#105;&#101;&#114;&#32;&#78;&#101;&#119;&#34;&#44;&#67;&#111;&#117;&#114;&#105;&#101;&#114;&#44;&#109;&#111;&#110;&#111;&#115;&#112;&#97;&#99;&#101;&#59;\">&#48;&#46;&#49;&#52;&#50;&#56;&#53;&#55;</pre></div>"
      ],
      "text/plain": [
       "0.142857"
      ]
     },
     "execution_count": 18,
     "metadata": {
      "text/html": [],
      "text/plain": []
     },
     "output_type": "execute_result"
    }
   ],
   "source": [
    "N[1/7]"
   ]
  },
  {
   "cell_type": "code",
   "execution_count": 19,
   "metadata": {},
   "outputs": [
    {
     "data": {
      "text/html": [
       "<div><pre style=\"&#102;&#111;&#110;&#116;&#45;&#102;&#97;&#109;&#105;&#108;&#121;&#58;&#32;&#34;&#67;&#111;&#117;&#114;&#105;&#101;&#114;&#32;&#78;&#101;&#119;&#34;&#44;&#67;&#111;&#117;&#114;&#105;&#101;&#114;&#44;&#109;&#111;&#110;&#111;&#115;&#112;&#97;&#99;&#101;&#59;\">&#48;&#46;&#49;&#52;&#50;&#56;&#53;&#55;&#49;&#52;&#50;&#56;&#53;&#55;&#49;&#52;&#50;&#56;&#53;&#55;&#49;&#52;&#50;&#56;&#53;&#55;&#49;&#52;&#50;&#56;&#53;&#55;&#49;&#52;&#50;&#56;&#53;&#55;&#49;&#52;&#50;&#56;&#53;&#55;&#49;&#52;&#50;&#56;&#53;&#55;&#49;&#52;</pre></div>"
      ],
      "text/plain": [
       "0.14285714285714285714285714285714285714285714285714"
      ]
     },
     "execution_count": 19,
     "metadata": {
      "text/html": [],
      "text/plain": []
     },
     "output_type": "execute_result"
    }
   ],
   "source": [
    "N[1/7, 50]"
   ]
  },
  {
   "cell_type": "code",
   "execution_count": 20,
   "metadata": {},
   "outputs": [
    {
     "data": {
      "text/html": [
       "<div><pre style=\"&#102;&#111;&#110;&#116;&#45;&#102;&#97;&#109;&#105;&#108;&#121;&#58;&#32;&#34;&#67;&#111;&#117;&#114;&#105;&#101;&#114;&#32;&#78;&#101;&#119;&#34;&#44;&#67;&#111;&#117;&#114;&#105;&#101;&#114;&#44;&#109;&#111;&#110;&#111;&#115;&#112;&#97;&#99;&#101;&#59;\">&#51;&#46;&#49;&#52;&#49;&#53;&#57;&#50;&#54;&#53;&#51;&#53;&#56;&#57;&#55;&#57;&#51;&#50;&#51;&#56;&#52;&#54;&#50;&#54;&#52;&#51;&#51;&#56;&#51;&#50;&#55;&#57;&#53;&#48;&#50;&#56;&#56;&#52;&#49;&#57;&#55;&#49;&#54;&#57;&#51;&#57;&#57;&#51;&#55;&#53;&#49;&#48;&#53;&#56;&#50;&#48;&#57;&#55;&#52;&#57;&#52;&#52;&#53;&#57;&#50;&#51;&#48;&#55;&#56;&#49;&#54;&#52;&#48;&#54;&#50;&#56;&#54;&#50;&#48;&#56;&#57;&#57;&#56;&#54;&#50;&#56;&#48;&#51;&#92;&#10;&#32;&#10;&#62;&#32;&#32;&#32;&#52;&#56;&#50;&#53;&#51;&#52;&#50;&#49;&#49;&#55;&#48;&#54;&#55;&#57;&#56;&#50;&#49;&#52;&#56;&#48;&#56;&#54;&#53;&#49;&#51;&#50;&#56;&#50;&#51;&#48;&#54;&#54;&#52;&#55;&#48;&#57;&#51;&#56;&#52;&#52;&#54;&#48;&#57;&#53;&#53;&#48;&#53;&#56;&#50;&#50;&#51;&#49;&#55;&#50;&#53;&#51;&#53;&#57;&#52;&#48;&#56;&#49;&#50;&#56;&#52;&#56;&#49;&#49;&#49;&#55;&#52;&#53;&#48;&#50;&#56;&#52;&#49;&#48;&#50;&#55;&#48;&#49;&#57;&#51;&#92;&#10;&#32;&#10;&#62;&#32;&#32;&#32;&#56;&#53;&#50;&#49;&#49;&#48;&#53;&#53;&#53;&#57;&#54;&#52;&#52;&#54;&#50;&#50;&#57;&#52;&#56;&#57;&#53;&#52;&#57;&#51;&#48;&#51;&#56;&#49;&#57;&#54;&#52;&#52;&#50;&#56;&#56;&#49;&#48;&#57;&#55;&#53;&#54;&#54;&#53;&#57;&#51;&#51;&#52;&#52;&#54;&#49;&#50;&#56;&#52;&#55;&#53;&#54;&#52;&#56;&#50;&#51;&#51;&#55;&#56;&#54;&#55;&#56;&#51;&#49;&#54;&#53;&#50;&#55;&#49;&#50;&#48;&#49;&#57;&#48;&#57;&#49;&#52;&#53;&#54;&#52;&#92;&#10;&#32;&#10;&#62;&#32;&#32;&#32;&#56;&#53;&#54;&#54;&#57;&#50;&#51;&#52;&#54;&#48;&#51;&#52;&#56;&#54;&#49;&#48;&#52;&#53;&#52;&#51;&#50;&#54;&#54;&#52;&#56;&#50;&#49;&#51;&#51;&#57;&#51;&#54;&#48;&#55;&#50;&#54;&#48;&#50;&#52;&#57;&#49;&#52;&#49;&#50;&#55;</pre></div>"
      ],
      "text/plain": [
       "3.14159265358979323846264338327950288419716939937510582097494459230781640628620899862803\\\n",
       " \n",
       ">   482534211706798214808651328230664709384460955058223172535940812848111745028410270193\\\n",
       " \n",
       ">   852110555964462294895493038196442881097566593344612847564823378678316527120190914564\\\n",
       " \n",
       ">   856692346034861045432664821339360726024914127"
      ]
     },
     "execution_count": 20,
     "metadata": {
      "text/html": [],
      "text/plain": []
     },
     "output_type": "execute_result"
    }
   ],
   "source": [
    "N[Pi, 300]"
   ]
  },
  {
   "cell_type": "markdown",
   "metadata": {},
   "source": [
    "É importante notar que, para o Mathematica, todas as operações são funções. Assim, apesar de ser possível dividir dois números com `1/7`, também é possível fazê-lo com"
   ]
  },
  {
   "cell_type": "code",
   "execution_count": 21,
   "metadata": {},
   "outputs": [
    {
     "data": {
      "text/html": [
       "<div><img alt=\"Output\" src=\"data:image/png;base64,iVBORw0KGgoAAAANSUhEUgAAAAwAAAAgCAIAAACpeQ79AAAAqXpUWHRSYXcgcHJvZmlsZSB0eXBlIGV4aWYAAHjaVU7BDQIxDPt3CkZI08RuxzkdPYkNGB8HEBJ+JK5lx237+bjardD7bJGcWIAJsWL5ITLtg242uqabZX6lw/4Qg45EbwytcCOxxKeYJtItiQsnIGPH3S1O7Q1SMbAcAC66nIPRJNepzeBwcwXSkHQOndmKnFJSLwWjlJPLbRxVXfDNd2H7NW5U9F7fbS+9qDdb5gLobwAAAAlwSFlzAAALEwAACxMBAJqcGAAAAF10RVh0U29mdHdhcmUAQ3JlYXRlZCB3aXRoIHRoZSBXb2xmcmFtIExhbmd1YWdlIGZvciBTdHVkZW50cyAtIFBlcnNvbmFsIFVzZSBPbmx5IDogd3d3LndvbGZyYW0uY29tSN96kwAAACF0RVh0Q3JlYXRpb24gVGltZQAyMDIwOjExOjA5IDE1OjEwOjMxJktcYAAAAJhJREFUOI3dk7ERgCAMRYPnAAzhFGzgFHZQygiMQGvpEjCBUzBMLECFgJYU/gYI7/6RHB/wUbACAEA6JBogySu2wJ44ohuaNzzWqUHk0Jc6Q3C16WRZzwfBELHjmzpDY1yMMeRCa805j/t/j+CCvGKllM8omoz0bYQNz7kBBStIrGqI2jSg2qaCghWVDYWcbIW8gF5ssHsQTgYiKkjie2slAAAAAElFTkSuQmCC\"></div>"
      ],
      "text/plain": [
       "1\n",
       "-\n",
       "7"
      ]
     },
     "execution_count": 21,
     "metadata": {
      "text/html": [],
      "text/plain": []
     },
     "output_type": "execute_result"
    }
   ],
   "source": [
    "Divide[1, 7]"
   ]
  },
  {
   "cell_type": "code",
   "execution_count": 22,
   "metadata": {
    "scrolled": true
   },
   "outputs": [
    {
     "data": {
      "text/html": [
       "<div><pre style=\"&#102;&#111;&#110;&#116;&#45;&#102;&#97;&#109;&#105;&#108;&#121;&#58;&#32;&#34;&#67;&#111;&#117;&#114;&#105;&#101;&#114;&#32;&#78;&#101;&#119;&#34;&#44;&#67;&#111;&#117;&#114;&#105;&#101;&#114;&#44;&#109;&#111;&#110;&#111;&#115;&#112;&#97;&#99;&#101;&#59;\">&#48;&#46;&#49;&#52;&#50;&#56;&#53;&#55;</pre></div>"
      ],
      "text/plain": [
       "0.142857"
      ]
     },
     "execution_count": 22,
     "metadata": {
      "text/html": [],
      "text/plain": []
     },
     "output_type": "execute_result"
    }
   ],
   "source": [
    "N[Divide[1, 7]]"
   ]
  },
  {
   "cell_type": "markdown",
   "metadata": {},
   "source": [
    "```{admonition} TL;DR\n",
    "O mais importante desta secção é\n",
    " - a sintaxe para chamar funções, que usa parêntesis retos;\n",
    " - o facto de tudo ser uma função no Mathematica, até operações que têm símbolos próprios.\n",
    "```"
   ]
  },
  {
   "cell_type": "markdown",
   "metadata": {},
   "source": [
    "## Execução condicional\n",
    "\n",
    "No Matemática, podemos executar código condicionalmente com a função `If[condition, ifTrue]`:"
   ]
  },
  {
   "cell_type": "code",
   "execution_count": 30,
   "metadata": {},
   "outputs": [
    {
     "name": "stdout",
     "output_type": "stream",
     "text": [
      "HEY!\r\n"
     ]
    }
   ],
   "source": [
    "If[5 > 0, Print[\"HEY!\"]]"
   ]
  },
  {
   "cell_type": "code",
   "execution_count": 31,
   "metadata": {},
   "outputs": [],
   "source": [
    "If[5 > 10, Print[\"HEY!\"]]"
   ]
  },
  {
   "cell_type": "markdown",
   "metadata": {},
   "source": [
    "Podemos pedir ao Mathematica que nos mostre a ajuda relativa a esta função se pusermos um `?` antes do nome da função:"
   ]
  },
  {
   "cell_type": "code",
   "execution_count": 32,
   "metadata": {},
   "outputs": [
    {
     "data": {
      "text/html": [
       "<div><img alt=\"Output\" src=\"data:image/png;base64,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\"></div>"
      ],
      "text/plain": [
       "If[condition, t, f] gives t if condition\n",
       " \n",
       ">      evaluates to True, and f if it evaluates to False. If[condition, t, f, u]\n",
       "\n",
       " \n",
       ">        gives u if condition evaluates to neither True nor False. \n",
       "\n",
       "\n",
       "Attributes[If]={HoldRest, Protected}"
      ]
     },
     "execution_count": 32,
     "metadata": {
      "text/html": [],
      "text/plain": []
     },
     "output_type": "execute_result"
    }
   ],
   "source": [
    "?If"
   ]
  },
  {
   "cell_type": "markdown",
   "metadata": {},
   "source": [
    "A primeira linha diz-nos que podemos passar 3 argumentos à função `If`, em vez de só dois, para executarmos código caso a condição seja falsa:"
   ]
  },
  {
   "cell_type": "code",
   "execution_count": 33,
   "metadata": {},
   "outputs": [
    {
     "name": "stdout",
     "output_type": "stream",
     "text": [
      "It was false...\r\n"
     ]
    }
   ],
   "source": [
    "If[5 > 10, Print[\"HEY!\"], Print[\"It was false...\"]]"
   ]
  },
  {
   "cell_type": "markdown",
   "metadata": {},
   "source": [
    "Claro que o segundo e terceiro argumentos da função `If` podem ser mais do que uma simples expressão. Em Mathematica, usa-se `;` para separar expressões consecutivas:"
   ]
  },
  {
   "cell_type": "code",
   "execution_count": 40,
   "metadata": {},
   "outputs": [
    {
     "name": "stdout",
     "output_type": "stream",
     "text": [
      "27\r\n"
     ]
    }
   ],
   "source": [
    "If[5 > 0,\n",
    "    var = 3; other = 3^var; Print[other],\n",
    "    var = 4; other = 4^var; Print[other]\n",
    "]"
   ]
  },
  {
   "cell_type": "code",
   "execution_count": 35,
   "metadata": {},
   "outputs": [
    {
     "name": "stdout",
     "output_type": "stream",
     "text": [
      "256\r\n"
     ]
    }
   ],
   "source": [
    "If[5 > 10,\n",
    "    var = 3; other = 3^var; Print[other],\n",
    "    var = 4; other = 4^var; Print[other]\n",
    "]"
   ]
  },
  {
   "cell_type": "markdown",
   "metadata": {},
   "source": [
    "Porque no Mathematica tudo são funções, é importante notar que a sintaxe `;` é só um atalho para a função `CompoundExpression`, cujos argumentos são as expressões consecutivas:"
   ]
  },
  {
   "cell_type": "code",
   "execution_count": 38,
   "metadata": {},
   "outputs": [
    {
     "data": {
      "text/html": [
       "<div><img alt=\"Output\" src=\"data:image/png;base64,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\"></div>"
      ],
      "text/plain": [
       "expr  ; expr  ; … evaluates the expr  in turn, giving the last one as the result. \n",
       "    1       2                       i\n",
       "\n",
       "\n",
       "Attributes[CompoundExpression]={HoldAll, Protected, ReadProtected}"
      ]
     },
     "execution_count": 38,
     "metadata": {
      "text/html": [],
      "text/plain": []
     },
     "output_type": "execute_result"
    }
   ],
   "source": [
    "?CompoundExpression"
   ]
  },
  {
   "cell_type": "markdown",
   "metadata": {},
   "source": [
    "Neste caso, vemos que a ajuda do Mathematica até usa a sintaxe `;` em vez da função explícita. Para efeitos de demonstração, podemos usar a função propriamente dita:"
   ]
  },
  {
   "cell_type": "code",
   "execution_count": 39,
   "metadata": {
    "scrolled": true
   },
   "outputs": [
    {
     "name": "stdout",
     "output_type": "stream",
     "text": [
      "27\r\n"
     ]
    }
   ],
   "source": [
    "If[5 > 0,\n",
    "    CompoundExpression[var = 3, other = 3^var, Print[other]],\n",
    "    CompoundExpression[var = 4, other = 4^var, Print[other]]\n",
    "]"
   ]
  },
  {
   "cell_type": "markdown",
   "metadata": {},
   "source": [
    "```{admonition} TL;DR\n",
    "O mais importante desta secção é\n",
    " - que execução condicional se faz com `If[condition, ifTrue, ifFalse]`;\n",
    " - instruções consecutivas são separadas por `;`.\n",
    "```"
   ]
  },
  {
   "cell_type": "markdown",
   "metadata": {},
   "source": [
    "## Ciclos\n",
    "\n",
    "De modo semelhante, o Mathematica tem funções `For` e `While` para executar estes dois tipos de ciclos."
   ]
  },
  {
   "cell_type": "markdown",
   "metadata": {},
   "source": [
    "### Ciclo `For`\n",
    "\n",
    "O ciclo `For` é tipicamente usado para algoritmos com algum tipo de interpretação linear, ou para os quais sabemos exatamente quantas iterações queremos fazer.\n",
    "\n",
    "Compreender a ajuda do Mathematica é uma boa capacidade para se ter, portanto vamos interpretar esta mensagem de ajuda:"
   ]
  },
  {
   "cell_type": "code",
   "execution_count": 41,
   "metadata": {},
   "outputs": [
    {
     "data": {
      "text/html": [
       "<div><img alt=\"Output\" src=\"data:image/png;base64,iVBORw0KGgoAAAANSUhEUgAAAl4AAABMCAIAAAAzwi5oAAAAqXpUWHRSYXcgcHJvZmlsZSB0eXBlIGV4aWYAAHjaVU7BDQIxDPt3CkZI08RuxzkdPYkNGB8HEBJ+JK5lx237+bjardD7bJGcWIAJsWL5ITLtg242uqabZX6lw/4Qg45EbwytcCOxxKeYJtItiQsnIGPH3S1O7Q1SMbAcAC66nIPRJNepzeBwcwXSkHQOndmKnFJSLwWjlJPLbRxVXfDNd2H7NW5U9F7fbS+9qDdb5gLobwAAAAlwSFlzAAALEwAACxMBAJqcGAAAAF10RVh0U29mdHdhcmUAQ3JlYXRlZCB3aXRoIHRoZSBXb2xmcmFtIExhbmd1YWdlIGZvciBTdHVkZW50cyAtIFBlcnNvbmFsIFVzZSBPbmx5IDogd3d3LndvbGZyYW0uY29tSN96kwAAACF0RVh0Q3JlYXRpb24gVGltZQAyMDIwOjExOjA5IDE5OjIyOjIwYl6FmAAAEHBJREFUeJzt3X9oE3neB/DP1KRem836o1m7e6fnUdPuxrQsDw/0rhXCSijbVoqySvE/ydFracG04B4uixACcigSaCJEtisny+4fUmqxBJNAKEpBXbx9fhQbY5vZ3nZZ3P6IPtvN2trGNs8fM/kxyUw6aZOm6vtF/ojjd77zme+P+WS+mSgTjUYJAAAAYhTxd+FwOBwOLy0tRSKRAgYEAACwmZRKZXFxsUql2rlzJ7eFiUaji4uLoVCoqKiotLS0uLhYoVBkrgUAAOC18fLly0gksri4uLy8rNFoVCqVgohCoZBKpVKpVIUODwAAYLMpFAqFQlFSUrK0tDQ3N1daWsr88ssvz58/LysrK3RsAAAABTY/P19UVKT47bffcL8IAABvglD4xbPfXhDR7rd+p1H/Lr1ASUnJs2fPFIuLi7t37xavIzBguf6QiIhqTlpP6NYTRmDAcnvP6S6DJoclAQAAsjO/sHx3/OdQ+EV8y47S4kPvv5eSIIuLi5eWlhSrq6tFRUUi1YRGnNfppNWqI6LQyEiAdOvKjQAAAIU1v7Ds+d8fl1+ucH/cqdq+sPRyfmHZ/T9Txuq9f9idunQqlhQ5c7Mz5Xve4d5rDAbkRQAAeAWtrEbvjv8cz4tE9Jf3f79Po+be35v4eXF5JWUX6d9p6PQ116/3jxyMLXGGRpyXZw/H1lX55c937lhu7zlZPXZ9eIao5qT1oznn5eEZIio3Jq2Nzo1wWxMbQ/wW2sBaLQAAwJpC4cXkdVQi8v73v+PvF5dX/j07f3Cv4ItF6btG0p2wnq4eu2yxWAYCRKQxHK556A9wfxfwP6w5zGW5meHb1Gq1Wk/WPLxu6adWq9VqPVkzM3yHLxovcNpIw/0jISIKDFwe3nPSarVaraeNs9edI6GNnzsAAICIp8K8WP1HzanD+m1FTHzL/z1fTtklQ2okIo2hi8teloEAkU4fy40B/6zxI/5Wr9zYatAQkU5fQ+XVBzXEv5+dCwkLaAyHa2Zm54hCc7NUo9fxR+A3AgAA5EFkRfDvoW5Xbnvy7PnKajSpwGrKLplTIxERaQytxvKH/gCR7iPj7O2RUGjk9iyfA7MSmpvNeh8AAICN2KUqTv7je7tUU3PzyVvK3tqesot0agyMxNY5Q4/G+CdyNAeraezOnTHKJjPOjD0Kxaqp0euINO/sodjSbGjk9sPYHSQAAECuvbuztKR4G/e+WLHtvV1vFSu2xRdUtxUx6U+oZngM551Zi8XCva85aeW+WNQYDu+xXKeT1izuGcv3zPZbLDNcNToiIt2J00bnZa7ycuPpLmRGAADIk2LFtj9ry+88ekJEyy9X/hWc/ulpOL6gWr2vbPdbqb/9Z8bHx/fv3y//GIEBi1+PZ0oBAOBV8v3M/LfBmeSvGImo5o9l//Gn1Fu9qampLP+TjdDI7Vlj64kNRggAALCpDpTv0KhLfpgLh8KLK6vR8h2lf9itEv234ijTgmoq7qeI5cbTXfin3AAA4JWzo7T4w/2y/i+NrBdUAQAAXmNTU1MyfrwBAADwJlEQ0djYWKHDAAAA2BLUarWCiN7/8D8LHQkAAMCW8GRyAguqAAAAAkiNAAAAAkiNAAAAAkiNAAAAAkiNAAAAAkiNAAAAAkiNAAAAAkiNAAAAAkiNAAAAAkiNAAAAAkiNAAAAAkiNAAAAAkiNAAAAAkiNAAAAAnJSo8esZNSxl9HB5j2o14Wvk1ErDznlNZivk1ErGbM3zzG9qjxm2S25hcXPIn+ns3kNVdDhvWXGA2s35qlPvR1qJaM22Cc386CSB8oC19fqVzxryLxrrL8YiIYj0XAkOmzWrl3c26FWMsZOsU4lIq9dblvLKSmztjWLsXajssMnLy6ZGs701ta1NspoMCJquOI2UXtLYyIgZ+ehzU2WuZtmueniLXP5W8OrEqeo9Qe/seGdB3mYwhKSGk3bPRy525WhEdZ5gfKYW/pMrmh4pLsivfCaBxUNdR2yOFBCwxUuWbhNscQhK2tsMXlbUG1zD18R61RinUMkbzrJKSmzNhnFtN3DkS8a5MQl26S7X/+5aCOI8d681nYsKQBt15W7g205DWiT5LaLYYva2PDOgzxM4Q3byAWq/gNMjcJZb2pk7cbYzXLstsZjVh4ydx5SCz+4TTo6jPF7atZjVlaevdrvZRN/ZXTYzUrG7OWWbTt83g6jwT4pLCkRQ3IZ/h7L2OnJfFApvk5GrezwcavHBvskecyG2GoG6zEb4mcqjDNjG3kHiIYOJS06sb7OQ2olozYkmmjS22FUMupOj2+oj642863H2iUrT7R8h49YpyG2WOHtSKy9CMrwm5yG5P5K/izJvfeYlc3X6N5ZHaPu9IhVklJDQn66OC2epJAS6zOpQXrMykNOR4fEMo5wiIru613zEEnrRZ0ekTjTGz8R9kRKXzoNSY2Z3IMSfZ1eWBhM6skKu3gdwUt2em6Hd9pZSPSjZEvGK9nIFBZtsfRIUhpN+rZs/ReoxCG4cxdvH8FBRXsqQ/+KLUclmtcuXPmXGKgi1xkpyVNPfGRmU9umGB8f51ZKpV9uU1J5k4vfYnJFw5FoONBby981u01EtbZgOBINu9qpzR2ORMOR4MW6xGJsOBIdtdVzO47a6mvb3KNcYWof5Kpq6x0N9Na2uZNLZnjFygQv1tWbXMFwxG2q6x2VPmimV+y4YVd7rc09aHOPBnprqX2QP9lg2NVu4s5OGKfky9VOdb2j3JnaguFI8GId3z6xLdFRW31tXe9oJBp2cceKDrbxkQ/a3KOR6GAbCSNPrFGEXe21tmA44jbxQbYPSpZJHFqknsR70Y2xShJ9mvLKXxenxEPEt1WsNvHWIIr1IyXaJFFJrB0k9uUOIRjVKcXSw8vYbkmTZdRWTym7JLXq2n0tq/BaUWUVvGSn52Z4S/e4aD+KtmQOp7DUpBCNJPP0SZkL67hAidSWqZcleyp1EqVdtwWzI5uBmmFqiB9aZOqJtp54bZv6Gh8fz/q7RkcjETvhj39toO3+rO3eY/4jQP3x5pQlAG3XP1sfu+Mfb1jvQHVLIxFr/9tA65dXmvjVmLZjDUST7n7SHanQdg9faUqUzCRWxnvphv6cQxt0Gs7T590VUgfNaNLdrz/aRES+oTEK0AFzUwX76EHbsQOO89fa3I5GLTV+4TBrKTVOSb6hMVPycpP30lnq/TJ5zZ1rBP67hEcP+OUmrjFZqqoUWapiJ/zcZ0Alo27pexAIEjU5XPSJsplcsaWk9DLsrRv32z/Lark/vRLtwdqrzWJfp+e1i5PVX/xndwURNR4z0ViQFW0NIqq/eKaJkosJK+GHqNS+3CHio1q0GPd8hLL5mpx2Yyf8db09jUREFeZzppTyjcdMV29y96wuP19MsirRwhmCEZVV8JKdnuvhLRJVWj9mbsk8TGHJSOTK3QVqzV6W7qmkcKSu27G/zWqgis+gDNKzQ0psWdWWd/n/8Ya221F1ib8ZZ2/doIMHiHy2nti3FKzzH32mo/yFMnH5jpXMJF7bUN+Dq83qv96kz7/qiXV8+kEz1+UdoA+0RORxXaXjZ5oqiHxDfaajTd8H7pmONglLVstIMx6Xv7Wnka/5eLPWN9RXe+JIBV/DPX2VNqkRPGa+EeiArp6IyBs8IPkFRdKdkOTEllNmTcJKtN3DkeiXdEpkKSZ/XZxtkDnblw36JYqxdmMLDUa4W4GNh9TUYxu74GAnHef9/PDIUFVa4bWDSTmtLIOX7PScDu9sz0Li3HI9hTcsVxcoOe2TYXrmhuhAzcl1Ji63tW3UulKjtkpPfS6+X+0Xrko9eMY6Ozt8RKQ96P8Htzb9iE5UJeY/63E6Lj2+397SSMTeuqFP+pY+paR49YkyJlswPPJF48SpXu9aBxWv6tYNam3Ucg8LnOvSCs9rgiVindwDtylxSvHe9J84UkGsz3Hqhv5clzZ2USDW5zh1lpLuD1iP03GT7ifa0D9h91GTeMDaKj31XRB8NvSYW2gw4qaW2AJ9ehntkeN1KXtVflAX+8zovSnyUVTkQEREFea7o7Z6/0TiA29+uzgziSA3sO+9G9xnefbWDS7m9GLsowd1Bw/wZWRUq63S3+/p9RIRTTrOpzd1RXMrDVzqHaDUz9RiEcYKx67smYIR6+Jsg+cOmtrpuR7emaNKDi9DS+ZgCq81KbKVqwuUzPYR7alkma/bcgdqbOytf/aJtbPola2gD36v766xyRHo9bcwaiWj1vUfD0g9FRZ8fLXvEyWj1vFPsvmG+igw4WPpgK7+WgtjtFFj80F/HZGXfLYefdInu3hJXvoTCkllGs70+s9UqpWHequ+cjRKHjRDVZPu/gdE37P8x0wibjgSsdRwtN1/plJtuNV4pbuCUuOUqpC0x/QDlWpl5YXAuS+vNBFRhflcfMvoSHcF0YGj7YJGYImIKqqqHwSqGiRXV5ocgV46Uxn7Tt7uNDT7bX9voKYe29gnfBgpZTxE2q4Rtz62xewlIm3X5+3XuB4cotjiSVNLW/wb+7RK+CUd5sMzyZ+489rFyfHIaQ2pYvL3rdcHTqmVjFrXo+cXqNOKNf79IvV8qGTUf32kr5PRbtTkcPFN/TdqTV8GJG33Z/q+a/pzaY/Ii0WoPXKc+q7Fr+wiwSTqFenibIMX7/RcD+9MZyFsEOmW3NAUztBiEpGsNTKJ1n2BSienfaR6Kq1/pa/baw5U4dhb/+wTv/hsYC7nBTM+Pv77iqoc1+rtUA8dy+FNsa+TcR2NOnLxo6gcVpWPCicd9u/N3fEhm/Not6wtcKYes/L8B4Gsf8W1cVvg3DdJyvCGLYq1G3WPPttyv4TZPE8mJ/L2XaP/vNnhyfjbBvk8Lsk12wJWldsKWWen3ee1e5vjFw7W5+i44M+40+sj5/3y6mDtF1IewHkNpQ9v2Lp8th5+CfcNlp+7RqJJliXSVuAnq3KxTsOpxye+cgie8WMniSq0aMTNsfl3jazTUHn2fv3FQtyqbi6x4Q1bCzcaufftg2/wLSMRPZmcyFdqBAAAeBXlc0EVAADg1YTUCAAAIIDUCAAAIIDUCAAAIIDUCAAAIIDUCAAAIIDUCAAAIIDUCAAAIIDUCAAAIIDUCAAAIKAgovHR/yp0GAAAAFuCWq1WEFF1dXWhIwEAANgSpqamsKAKAAAggNQIAAAggNQIAAAgIDc1LiwsrLkFAADgNSArNf70008Wi+Xbb7+Nb/nhhx8sFsvo6GjeAgMAACgMhfyiX3/99fz8/Mcff/zdd9998803RBSJRPIWGAAAQGEw4+Pj+/fvX7Pc9PS00+l8+vRpZWVlMBgsLS1tb2+vrKzchBABAAA2TRY/3nj33Xc//fTTvXv3BoPBsrKy7u5u5EUAAHgtMRMTE/v27WMYRk7phYUFj8fT0NDw9ttv5zsyAACAzTc1NcX8+OOPO3bs2L59e6GDAQAAKLCVlZXp6emikpKSFy9eFDoYAACAwnvx4kVJSUlRWVnZ8+fPX758Weh4AAAACikajc7Pz2s0miKGYTQazezsbDgcXl1dLXRgAAAAmy0ajS4sLExPT+/atUupVDLRaJSIVldXQ6HQr7/+iuwIAABvGoZhVCqVRqMpLi4mIj41AgAAAOf/AV/MRaDTyLRsAAAAAElFTkSuQmCC\"></div>"
      ],
      "text/plain": [
       "For[start, test, incr, body] executes start\n",
       " \n",
       ">    , then repeatedly evaluates body and incr until test fails to give True. \n",
       "\n",
       "\n",
       "Attributes[For]={HoldAll, Protected}"
      ]
     },
     "execution_count": 41,
     "metadata": {
      "text/html": [],
      "text/plain": []
     },
     "output_type": "execute_result"
    }
   ],
   "source": [
    "?For"
   ]
  },
  {
   "cell_type": "markdown",
   "metadata": {},
   "source": [
    "Da mensagem em cima percebemos que o argumento `test` deve ser uma condição que é usada para verificar quando é que devemos parar o ciclo e também percebemos que o primeiro argumento `start` só é executado uma vez, no início, para inicializar variáveis. Tipicamente, o primeiro argumento é usado para inicializar as variáveis auxiliares do ciclo.\n",
    "\n",
    "O último argumento é o \"corpo\" do ciclo (`body`), que há de ser o código que queremos executar repetidamente. O argumento `incr` é a expressão que é usada para indicar que está a ser feito progresso. Por exemplo, se quisermos imprimir os números inteiros de $1$ a $5$ inclusive, teríamos o seguinte:\n",
    "\n",
    " - `start` seria `i = 1` para inicializar a variável auxiliar que vai \"contar\" até $5$;\n",
    " - `test` seria `i <= 5` porque queremos imprimir os números enquanto ainda estivermos a contar números menores ou iguais a $5$;\n",
    " - `incr` seria `i = i + 1` porque, depois de imprimirmos um número, queremos \"contar\" o próximo número;\n",
    " - `body` seria `Print[i]` porque essa é a expressão principal que queremos executar em cada iteração.\n",
    "\n",
    "Tudo junto, teria este aspeto:"
   ]
  },
  {
   "cell_type": "code",
   "execution_count": 83,
   "metadata": {},
   "outputs": [
    {
     "name": "stdout",
     "output_type": "stream",
     "text": [
      "1\n",
      "2\n",
      "3\n",
      "4\n",
      "5\n"
     ]
    }
   ],
   "source": [
    "For[i = 1, i <= 5, i = i + 1,\n",
    "    Print[i]\n",
    "]"
   ]
  },
  {
   "cell_type": "markdown",
   "metadata": {},
   "source": [
    "Note-se que o terceiro argumento da função `For`, que é a expressão que deve incrementar a variável do ciclo, usa geralmente uma notação abreviada para alterar o valor da variável.\n",
    "\n",
    "Essa sintaxe pretende abreviar o padrão `var = var f value` para `var f= value`.\n",
    "\n",
    "Assim, incrementar uma variável uma unidade deixa de ser `var = var + 1` e passa a ser `var += 1`:"
   ]
  },
  {
   "cell_type": "code",
   "execution_count": 84,
   "metadata": {},
   "outputs": [
    {
     "name": "stdout",
     "output_type": "stream",
     "text": [
      "4\r\n"
     ]
    }
   ],
   "source": [
    "var = 3;\n",
    "var += 1;\n",
    "Print[var];"
   ]
  },
  {
   "cell_type": "markdown",
   "metadata": {},
   "source": [
    "Claro que `f` não tem de ser a adição e o valor a ser usado não precisa de ser `1`:"
   ]
  },
  {
   "cell_type": "code",
   "execution_count": 87,
   "metadata": {},
   "outputs": [
    {
     "name": "stdout",
     "output_type": "stream",
     "text": [
      "5\r\n"
     ]
    }
   ],
   "source": [
    "var = 3;\n",
    "var += 2;\n",
    "Print[var];"
   ]
  },
  {
   "cell_type": "code",
   "execution_count": 90,
   "metadata": {},
   "outputs": [
    {
     "name": "stdout",
     "output_type": "stream",
     "text": [
      "0\r\n"
     ]
    }
   ],
   "source": [
    "var -= 5;\n",
    "Print[var];"
   ]
  },
  {
   "cell_type": "markdown",
   "metadata": {},
   "source": [
    "Os casos `var += 1` e `var -= 1` têm ainda dois casos especiais, nomeadamente `++var`, `var++`, `--var` e `var--`. A diferença reside na ordem em que as coisas acontecem.\n",
    "\n",
    "`var++` primeiro devolve o valor de `var` e depois incrementa a variável, ao passo que `++var` primeiro incrementa o valor da variável e só depois é que o devolve:"
   ]
  },
  {
   "cell_type": "code",
   "execution_count": 75,
   "metadata": {},
   "outputs": [
    {
     "name": "stdout",
     "output_type": "stream",
     "text": [
      "0\n",
      "0\n",
      "1\n"
     ]
    }
   ],
   "source": [
    "var = 0;\n",
    "Print[var];\n",
    "Print[var++];\n",
    "Print[var];"
   ]
  },
  {
   "cell_type": "code",
   "execution_count": 79,
   "metadata": {},
   "outputs": [
    {
     "name": "stdout",
     "output_type": "stream",
     "text": [
      "0\n",
      "1\n",
      "1\n"
     ]
    }
   ],
   "source": [
    "var = 0;\n",
    "Print[var];\n",
    "Print[++var];\n",
    "Print[var];"
   ]
  },
  {
   "cell_type": "markdown",
   "metadata": {},
   "source": [
    "`var--` e `--var` funcionam de modo semelhante.\n",
    "\n",
    "```{admonition} TL;DR\n",
    "O mais importante desta subsecção é\n",
    " - a sintaxe `variable f= value` para alterar o valor de `variable` de forma mais sucinta;\n",
    " - a função `For[initialisation, stoppingTest, increment, loopBody]` para execução repetida de um conjunto de instruções.\n",
    "```"
   ]
  },
  {
   "cell_type": "markdown",
   "metadata": {},
   "source": [
    "### Ciclo `While`\n",
    "\n",
    "De modo semelhante, existe uma função `While` que permite a execução repetida de um conjunto de instruções até que um certo teste seja falso:"
   ]
  },
  {
   "cell_type": "code",
   "execution_count": 92,
   "metadata": {},
   "outputs": [
    {
     "data": {
      "text/html": [
       "<div><img alt=\"Output\" src=\"data:image/png;base64,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\"></div>"
      ],
      "text/plain": [
       "While[test, body] evaluates test, then body\n",
       " \n",
       ">     , repetitively, until test first fails to give True. \n",
       "\n",
       "\n",
       "Attributes[While]={HoldAll, Protected}"
      ]
     },
     "execution_count": 92,
     "metadata": {
      "text/html": [],
      "text/plain": []
     },
     "output_type": "execute_result"
    }
   ],
   "source": [
    "?While"
   ]
  },
  {
   "cell_type": "code",
   "execution_count": 93,
   "metadata": {},
   "outputs": [
    {
     "name": "stdout",
     "output_type": "stream",
     "text": [
      "1\n",
      "2\n",
      "3\n",
      "4\n",
      "5\n"
     ]
    }
   ],
   "source": [
    "i = 1;\n",
    "While[i <= 5,\n",
    "    Print[i];\n",
    "    i = i + 1;\n",
    "]"
   ]
  },
  {
   "cell_type": "markdown",
   "metadata": {},
   "source": [
    "O exemplo em cima é equivalente à utilização do ciclo `For` da subsecção anterior e é, em particular, um exemplo relativamente mau de uma utilização útil do ciclo `While`. O acto de \"contar\" de $1$ até $5$ é algo linear, que acontece de forma regular, e é por isso um excelente algoritmo para ser implementado com um ciclo `For`.\n",
    "\n",
    "Em geral, o ciclo `While` usa-se em algoritmos em que é mais difícil prever, *a priori*, o número de iterações que vão ser necessárias para completar o algoritmo. Por exemplo, quando calculamos os valores sucessivos que um número toma na sequência de Collatz:\n",
    "\n",
    ":::{tip}\n",
    "A \"Conjetura de Collatz\" diz que qualquer número inteiro positivo $n$ eventualmente chega a $1$, se seguirmos a sequência $n_0 = n$,\n",
    "\n",
    "$$\n",
    "n_{i + 1} = \\begin{cases}\n",
    "    \\frac{n_i}{2}, \\text{ if $2$ divides $n$ } \\\\\n",
    "    3n_i + 1, \\text{ otherwise }\n",
    "\\end{cases} ~ .\n",
    "$$\n",
    ":::"
   ]
  },
  {
   "cell_type": "code",
   "execution_count": 99,
   "metadata": {},
   "outputs": [
    {
     "name": "stdout",
     "output_type": "stream",
     "text": [
      "5\n",
      "16\n",
      "8\n",
      "4\n",
      "2\n",
      "1\n"
     ]
    }
   ],
   "source": [
    "n = 10;\n",
    "While[n > 1,\n",
    "    If[Mod[n, 2] == 0,\n",
    "        n = n/2,\n",
    "        n = 3n + 1\n",
    "    ];\n",
    "    Print[n]\n",
    "]"
   ]
  },
  {
   "cell_type": "markdown",
   "metadata": {},
   "source": [
    "```{admonition} TL;DR\n",
    "O mais importante desta subsecção é\n",
    " - a sintaxe da função `While` que permite a execução repetida de um conjunto de instruções.\n",
    "```"
   ]
  },
  {
   "cell_type": "markdown",
   "metadata": {},
   "source": [
    "## A praga das variáveis temporárias\n",
    "\n",
    "Em Mathematica, todas as variáveis que criamos são criadas de forma global. Isto significa que todas as pequenas variáveis que usarmos para cálculos auxiliares ou resultados temporários ficam disponíveis na nossa sessão. Isto pode parecer bom, mas rapidamente a quantidade enorme de variáveis que estão disponíveis vai interferir com o nosso código. Isto pode acontecer por uma de variadíssimas razões, por exemplo porque estamos a tentar fazer cálculos simbólicos mas estamos a usar variáveis que estão definidas ou uma variável é usada inadvertidamente num sítio que não deve, e portanto o seu valor está diferente do que deveria ser.\n",
    "\n",
    "Para evitar isto, o Mathematica possui a função `Module`. A função `Module` recebe dois argumentos:"
   ]
  },
  {
   "cell_type": "code",
   "execution_count": 101,
   "metadata": {},
   "outputs": [
    {
     "data": {
      "text/html": [
       "<div><img alt=\"Output\" src=\"data:image/png;base64,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\"></div>"
      ],
      "text/plain": [
       "Module[{x, y, …}, expr] specifies that occurrences of the symbols x\n",
       " \n",
       ">    , y, … in expr should be treated as local. Module[{x = x , …}, expr]\n",
       "                                                             0\n",
       " \n",
       ">        defines initial values for x, …. \n",
       "\n",
       "\n",
       "Attributes[Module]={HoldAll, Protected}"
      ]
     },
     "execution_count": 101,
     "metadata": {
      "text/html": [],
      "text/plain": []
     },
     "output_type": "execute_result"
    }
   ],
   "source": [
    "?Module"
   ]
  },
  {
   "cell_type": "markdown",
   "metadata": {},
   "source": [
    "Podemos ver que o primeiro argumento da função é uma lista de nomes de variáveis (possivelmente com valores iniciais) e podemos ver que o segundo argumento será o código que queremos escrever.\n",
    "\n",
    "Por exemplo, em cima escrevemos um ciclo `For` que usava a variável auxiliar `i`, que ainda existe e tem um valor:"
   ]
  },
  {
   "cell_type": "code",
   "execution_count": 103,
   "metadata": {},
   "outputs": [
    {
     "data": {
      "text/html": [
       "<div><pre style=\"&#102;&#111;&#110;&#116;&#45;&#102;&#97;&#109;&#105;&#108;&#121;&#58;&#32;&#34;&#67;&#111;&#117;&#114;&#105;&#101;&#114;&#32;&#78;&#101;&#119;&#34;&#44;&#67;&#111;&#117;&#114;&#105;&#101;&#114;&#44;&#109;&#111;&#110;&#111;&#115;&#112;&#97;&#99;&#101;&#59;\">&#54;</pre></div>"
      ],
      "text/plain": [
       "6"
      ]
     },
     "execution_count": 103,
     "metadata": {
      "text/html": [],
      "text/plain": []
     },
     "output_type": "execute_result"
    }
   ],
   "source": [
    "i"
   ]
  },
  {
   "cell_type": "markdown",
   "metadata": {},
   "source": [
    "Mas esta variável é completamente inútil, na medida em que o seu único propósito era como variável auxiliar no ciclo. Podemos apagá-la com a função `Clear`:"
   ]
  },
  {
   "cell_type": "code",
   "execution_count": 104,
   "metadata": {},
   "outputs": [],
   "source": [
    "Clear[i]"
   ]
  },
  {
   "cell_type": "markdown",
   "metadata": {},
   "source": [
    "E agora podemos escrever o mesmo ciclo, mas dentro da função `Module`, para que a variável auxiliar não se torne global:"
   ]
  },
  {
   "cell_type": "code",
   "execution_count": 105,
   "metadata": {},
   "outputs": [
    {
     "name": "stdout",
     "output_type": "stream",
     "text": [
      "1\n",
      "2\n",
      "3\n"
     ]
    }
   ],
   "source": [
    "Module[{i},\n",
    "    For[i = 1, i <= 3, i++,\n",
    "        Print[i]\n",
    "    ]\n",
    "]"
   ]
  },
  {
   "cell_type": "markdown",
   "metadata": {},
   "source": [
    "Agora podemos ver que a variável `i` não tem qualquer valor:"
   ]
  },
  {
   "cell_type": "code",
   "execution_count": 109,
   "metadata": {},
   "outputs": [
    {
     "data": {
      "text/html": [
       "<div><pre style=\"&#102;&#111;&#110;&#116;&#45;&#102;&#97;&#109;&#105;&#108;&#121;&#58;&#32;&#34;&#67;&#111;&#117;&#114;&#105;&#101;&#114;&#32;&#78;&#101;&#119;&#34;&#44;&#67;&#111;&#117;&#114;&#105;&#101;&#114;&#44;&#109;&#111;&#110;&#111;&#115;&#112;&#97;&#99;&#101;&#59;\">&#105;</pre></div>"
      ],
      "text/plain": [
       "i"
      ]
     },
     "execution_count": 109,
     "metadata": {
      "text/html": [],
      "text/plain": []
     },
     "output_type": "execute_result"
    }
   ],
   "source": [
    "i"
   ]
  },
  {
   "cell_type": "markdown",
   "metadata": {},
   "source": [
    "Numa linguagem de programação típica isto seria um erro qualquer, por exemplo um `Name Error` em Python, porque `i` não diz respeito a nenhuma variável definida, mas em Mathematica obtemos o nome da variável como resposta, porque Mathematica é um software de cálculo simbólico.\n",
    "\n",
    ":::{admonition} TL;DR\n",
    "O mais importante desta subsecção é\n",
    " - o facto de que é má ideia deixar todas as variáveis tornarem-se globais;\n",
    " - podemos manter variáveis como locais com a função `Module`.\n",
    ":::"
   ]
  },
  {
   "cell_type": "code",
   "execution_count": null,
   "metadata": {},
   "outputs": [],
   "source": []
  }
 ],
 "metadata": {
  "kernelspec": {
   "display_name": "Wolfram Language 12",
   "language": "Wolfram Language",
   "name": "wolframlanguage12"
  },
  "language_info": {
   "codemirror_mode": "mathematica",
   "file_extension": ".m",
   "mimetype": "application/vnd.wolfram.m",
   "name": "Wolfram Language",
   "pygments_lexer": "mathematica",
   "version": "12.0"
  },
  "toc": {
   "base_numbering": 1,
   "nav_menu": {},
   "number_sections": false,
   "sideBar": true,
   "skip_h1_title": true,
   "title_cell": "Table of Contents",
   "title_sidebar": "Contents",
   "toc_cell": false,
   "toc_position": {},
   "toc_section_display": true,
   "toc_window_display": false
  }
 },
 "nbformat": 4,
 "nbformat_minor": 4
}
