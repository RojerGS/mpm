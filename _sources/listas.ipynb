{
 "cells": [
  {
   "cell_type": "markdown",
   "metadata": {},
   "source": [
    "# Listas, vetores, matrizes e tensores\n",
    "\n",
    "As listas são uma estrutura de dados fundamental em muitas linguagens de programação e o Mathematica não é exceção. Neste capítulo vamos explorar esta estrutura de dados, algumas funções relacionadas com listas e como utilizar listas para representar vetores, matrizes e tensores de outras dimensões.\n",
    "\n",
    "## Objetivos\n",
    "\n",
    "Os objetivos deste capítulo são\n",
    "\n",
    " - aprender a definir listas de forma literal;\n",
    " - aprender a construir, modificar e manipular listas;\n",
    " - introduzir uma série de funções do Mathematica para trabalhar com listas;\n",
    " - introduzir a utilização de listas para representar vetores, matrizes e tensores;\n",
    " - introduzir o conceito de programação vetorial;\n",
    " - escrever programas vetoriais."
   ]
  },
  {
   "cell_type": "markdown",
   "metadata": {},
   "source": [
    "## Sintaxe\n",
    "\n",
    "Em Mathematica, podemos criar uma lista com chavetas, separando elementos consecutivos com vírgulas. Por exemplo, a lista dos primeiros $3$ números naturais é"
   ]
  },
  {
   "cell_type": "code",
   "execution_count": 2,
   "metadata": {},
   "outputs": [
    {
     "data": {
      "text/html": [
       "<div><pre style=\"&#102;&#111;&#110;&#116;&#45;&#102;&#97;&#109;&#105;&#108;&#121;&#58;&#32;&#34;&#67;&#111;&#117;&#114;&#105;&#101;&#114;&#32;&#78;&#101;&#119;&#34;&#44;&#67;&#111;&#117;&#114;&#105;&#101;&#114;&#44;&#109;&#111;&#110;&#111;&#115;&#112;&#97;&#99;&#101;&#59;\">&#123;&#49;&#44;&#32;&#50;&#44;&#32;&#51;&#125;</pre></div>"
      ],
      "text/plain": [
       "{1, 2, 3}"
      ]
     },
     "execution_count": 2,
     "metadata": {
      "text/html": [],
      "text/plain": []
     },
     "output_type": "execute_result"
    }
   ],
   "source": [
    "{1, 2, 3}"
   ]
  },
  {
   "cell_type": "markdown",
   "metadata": {},
   "source": [
    "e a lista das primeiras três letras maiúsculas do abecedário é"
   ]
  },
  {
   "cell_type": "code",
   "execution_count": 3,
   "metadata": {},
   "outputs": [
    {
     "data": {
      "text/html": [
       "<div><pre style=\"&#102;&#111;&#110;&#116;&#45;&#102;&#97;&#109;&#105;&#108;&#121;&#58;&#32;&#34;&#67;&#111;&#117;&#114;&#105;&#101;&#114;&#32;&#78;&#101;&#119;&#34;&#44;&#67;&#111;&#117;&#114;&#105;&#101;&#114;&#44;&#109;&#111;&#110;&#111;&#115;&#112;&#97;&#99;&#101;&#59;\">&#123;&#65;&#44;&#32;&#66;&#44;&#32;&#67;&#125;</pre></div>"
      ],
      "text/plain": [
       "{A, B, C}"
      ]
     },
     "execution_count": 3,
     "metadata": {
      "text/html": [],
      "text/plain": []
     },
     "output_type": "execute_result"
    }
   ],
   "source": [
    "{\"A\", \"B\", \"C\"}"
   ]
  },
  {
   "cell_type": "markdown",
   "metadata": {},
   "source": [
    "Alternativamente, podemos usar a função `List` que recebe um número arbitrário de argumentos:"
   ]
  },
  {
   "cell_type": "code",
   "execution_count": 4,
   "metadata": {},
   "outputs": [
    {
     "data": {
      "text/html": [
       "<div><img alt=\"Output\" src=\"data:image/png;base64,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\"></div>"
      ],
      "text/plain": [
       "{e , e , …} is a list of elements. \n",
       "  1   2\n",
       "\n",
       "\n",
       "Attributes[List]={Locked, Protected}"
      ]
     },
     "execution_count": 4,
     "metadata": {
      "text/html": [],
      "text/plain": []
     },
     "output_type": "execute_result"
    }
   ],
   "source": [
    "?List"
   ]
  },
  {
   "cell_type": "code",
   "execution_count": 5,
   "metadata": {},
   "outputs": [
    {
     "data": {
      "text/html": [
       "<div><pre style=\"&#102;&#111;&#110;&#116;&#45;&#102;&#97;&#109;&#105;&#108;&#121;&#58;&#32;&#34;&#67;&#111;&#117;&#114;&#105;&#101;&#114;&#32;&#78;&#101;&#119;&#34;&#44;&#67;&#111;&#117;&#114;&#105;&#101;&#114;&#44;&#109;&#111;&#110;&#111;&#115;&#112;&#97;&#99;&#101;&#59;\">&#123;&#49;&#44;&#32;&#50;&#44;&#32;&#51;&#125;</pre></div>"
      ],
      "text/plain": [
       "{1, 2, 3}"
      ]
     },
     "execution_count": 5,
     "metadata": {
      "text/html": [],
      "text/plain": []
     },
     "output_type": "execute_result"
    }
   ],
   "source": [
    "List[1, 2, 3]"
   ]
  },
  {
   "cell_type": "code",
   "execution_count": 6,
   "metadata": {},
   "outputs": [
    {
     "data": {
      "text/html": [
       "<div><pre style=\"&#102;&#111;&#110;&#116;&#45;&#102;&#97;&#109;&#105;&#108;&#121;&#58;&#32;&#34;&#67;&#111;&#117;&#114;&#105;&#101;&#114;&#32;&#78;&#101;&#119;&#34;&#44;&#67;&#111;&#117;&#114;&#105;&#101;&#114;&#44;&#109;&#111;&#110;&#111;&#115;&#112;&#97;&#99;&#101;&#59;\">&#123;&#65;&#44;&#32;&#66;&#44;&#32;&#67;&#125;</pre></div>"
      ],
      "text/plain": [
       "{A, B, C}"
      ]
     },
     "execution_count": 6,
     "metadata": {
      "text/html": [],
      "text/plain": []
     },
     "output_type": "execute_result"
    }
   ],
   "source": [
    "List[\"A\", \"B\", \"C\"]"
   ]
  },
  {
   "cell_type": "markdown",
   "metadata": {},
   "source": [
    "Para acedermos a um elemento específico de uma lista usamos `[[]]`. Em Mathematica os índices começam a contar do $1$, logo o primeiro elemento de uma lista `list` é `list[[1]]` e o último é `list[[len]]` se `len` for o comprimento da lista:"
   ]
  },
  {
   "cell_type": "code",
   "execution_count": 9,
   "metadata": {},
   "outputs": [
    {
     "data": {
      "text/html": [
       "<div><pre style=\"&#102;&#111;&#110;&#116;&#45;&#102;&#97;&#109;&#105;&#108;&#121;&#58;&#32;&#34;&#67;&#111;&#117;&#114;&#105;&#101;&#114;&#32;&#78;&#101;&#119;&#34;&#44;&#67;&#111;&#117;&#114;&#105;&#101;&#114;&#44;&#109;&#111;&#110;&#111;&#115;&#112;&#97;&#99;&#101;&#59;\">&#65;</pre></div>"
      ],
      "text/plain": [
       "A"
      ]
     },
     "execution_count": 10,
     "metadata": {
      "text/html": [],
      "text/plain": []
     },
     "output_type": "execute_result"
    }
   ],
   "source": [
    "list = {\"A\", 2, \"c\"};\n",
    "list[[1]]"
   ]
  },
  {
   "cell_type": "code",
   "execution_count": 15,
   "metadata": {},
   "outputs": [
    {
     "data": {
      "text/html": [
       "<div><pre style=\"&#102;&#111;&#110;&#116;&#45;&#102;&#97;&#109;&#105;&#108;&#121;&#58;&#32;&#34;&#67;&#111;&#117;&#114;&#105;&#101;&#114;&#32;&#78;&#101;&#119;&#34;&#44;&#67;&#111;&#117;&#114;&#105;&#101;&#114;&#44;&#109;&#111;&#110;&#111;&#115;&#112;&#97;&#99;&#101;&#59;\">&#99;</pre></div>"
      ],
      "text/plain": [
       "c"
      ]
     },
     "execution_count": 16,
     "metadata": {
      "text/html": [],
      "text/plain": []
     },
     "output_type": "execute_result"
    }
   ],
   "source": [
    "len = Length[list];\n",
    "list[[len]]"
   ]
  },
  {
   "cell_type": "markdown",
   "metadata": {},
   "source": [
    "Naturalmente, aceder a um elemento de uma lista também pode ser escrito como uma função:"
   ]
  },
  {
   "cell_type": "code",
   "execution_count": 20,
   "metadata": {},
   "outputs": [
    {
     "data": {
      "text/html": [
       "<div><img alt=\"Output\" src=\"data:image/png;base64,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\"></div>"
      ],
      "text/plain": [
       "expr[[i]] or Part[expr, i] gives the i\n",
       " \n",
       "       th\n",
       ">        part of expr. expr[[-i]] counts from the end. expr[[i, j, …]]\n",
       "\n",
       " \n",
       ">          or Part[expr, i, j, …] is equivalent to expr[[i]][[j]] …\n",
       " \n",
       ">           . expr[[{i , i , …}]] gives a list of the parts i\n",
       "                      1   2                                  1\n",
       " \n",
       ">             , i , … of expr. expr[[m;;n]]\n",
       "                 2\n",
       " \n",
       ">                 gives parts m through n\n",
       " \n",
       ">                  .expr[[m;;n;;s]] gives parts m\n",
       "\n",
       " \n",
       ">                     through n in steps of s\n",
       " \n",
       ">                      .expr[[\"key\"]]\n",
       "\n",
       " \n",
       ">                        gives the value associated with the key \"key\n",
       " \n",
       ">                        \" in an association expr\n",
       " \n",
       ">                         .expr[[Key[k]]]\n",
       "\n",
       " \n",
       ">                           gives the value associated with an arbitrary key k\n",
       " \n",
       ">                            in the association expr.\n",
       "\n",
       "\n",
       "Attributes[Part]={NHoldRest, Protected, ReadProtected}"
      ]
     },
     "execution_count": 20,
     "metadata": {
      "text/html": [],
      "text/plain": []
     },
     "output_type": "execute_result"
    }
   ],
   "source": [
    "?[["
   ]
  },
  {
   "cell_type": "markdown",
   "metadata": {},
   "source": [
    "e aqui podemos ver que a função correspondente é `Part`. Tirando as duas últimas linhas, podemos ver que há várias maneiras interessantes de aceder aos items de uma lista. Vamos explorar essas alternativas na próxima secção.\n",
    "\n",
    ":::{admonition} TL;DR\n",
    "O mais importante desta secção é\n",
    " - o facto de se poderem criar listas com `{elem1, elem2, ...}` ou com `List[elem1, elem2, ...]`;\n",
    " - a notação `[[]]` para aceder a um elemento de uma lista;\n",
    " - as funções `Length` e `Part`, para descobrir o comprimento de uma lista e para aceder a elementos, respetivamente.\n",
    ":::"
   ]
  },
  {
   "cell_type": "markdown",
   "metadata": {},
   "source": []
  }
 ],
 "metadata": {
  "kernelspec": {
   "display_name": "Wolfram Language 12",
   "language": "Wolfram Language",
   "name": "wolframlanguage12"
  },
  "language_info": {
   "codemirror_mode": "mathematica",
   "file_extension": ".m",
   "mimetype": "application/vnd.wolfram.m",
   "name": "Wolfram Language",
   "pygments_lexer": "mathematica",
   "version": "12.0"
  },
  "toc": {
   "base_numbering": 1,
   "nav_menu": {},
   "number_sections": false,
   "sideBar": true,
   "skip_h1_title": true,
   "title_cell": "Table of Contents",
   "title_sidebar": "Contents",
   "toc_cell": false,
   "toc_position": {},
   "toc_section_display": true,
   "toc_window_display": false
  }
 },
 "nbformat": 4,
 "nbformat_minor": 4
}
