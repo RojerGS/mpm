{
 "cells": [
  {
   "cell_type": "markdown",
   "metadata": {},
   "source": [
    "# Programação simbólica e mecanismos de substituição\n",
    "\n",
    "Neste capítulo vamos explorar uma das funcionalidades que melhor distingue o Mathematica das outras linguagens de programação que existem, que é o seu poder simbólico e os seus mecanismos de substituição.\n",
    "\n",
    "## Objetivos\n",
    "\n",
    "Os objetivos deste capítulo são\n",
    "\n",
    " - introduzir o conceito de programação simbólica;\n",
    " - introduzir a atribuição deferida;\n",
    " - explicar as diferenças entre atribuição normal e atribuição deferida;\n",
    " - introduzir o conceito de programação por substituição;\n",
    " - utilizar programação por substituição para emular funções;\n",
    " - utilizar programação por substituição para implementar programas completos."
   ]
  },
  {
   "cell_type": "code",
   "execution_count": null,
   "metadata": {},
   "outputs": [],
   "source": []
  }
 ],
 "metadata": {
  "kernelspec": {
   "display_name": "Wolfram Language 12",
   "language": "Wolfram Language",
   "name": "wolframlanguage12"
  },
  "language_info": {
   "codemirror_mode": "mathematica",
   "file_extension": ".m",
   "mimetype": "application/vnd.wolfram.m",
   "name": "Wolfram Language",
   "pygments_lexer": "mathematica",
   "version": "12.0"
  },
  "toc": {
   "base_numbering": 1,
   "nav_menu": {},
   "number_sections": false,
   "sideBar": true,
   "skip_h1_title": true,
   "title_cell": "Table of Contents",
   "title_sidebar": "Contents",
   "toc_cell": false,
   "toc_position": {},
   "toc_section_display": true,
   "toc_window_display": false
  }
 },
 "nbformat": 4,
 "nbformat_minor": 4
}
