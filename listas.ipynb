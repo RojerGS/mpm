{
 "cells": [
  {
   "cell_type": "markdown",
   "metadata": {},
   "source": [
    "# Listas, vetores, matrizes e tensores\n",
    "\n",
    "As listas são uma estrutura de dados fundamental em muitas linguagens de programação e o Mathematica não é exceção. Neste capítulo vamos explorar esta estrutura de dados, algumas funções relacionadas com listas e como utilizar listas para representar vetores, matrizes e tensores de outras dimensões.\n",
    "\n",
    "## Objetivos\n",
    "\n",
    "Os objetivos deste capítulo são\n",
    "\n",
    " - aprender a definir listas de forma literal;\n",
    " - aprender a construir, modificar e manipular listas;\n",
    " - introduzir uma série de funções do Mathematica para trabalhar com listas;\n",
    " - introduzir a utilização de listas para representar vetores, matrizes e tensores;\n",
    " - introduzir o conceito de programação vetorial;\n",
    " - escrever programas vetoriais."
   ]
  },
  {
   "cell_type": "code",
   "execution_count": null,
   "metadata": {},
   "outputs": [],
   "source": []
  }
 ],
 "metadata": {
  "kernelspec": {
   "display_name": "Wolfram Language 12",
   "language": "Wolfram Language",
   "name": "wolframlanguage12"
  },
  "language_info": {
   "codemirror_mode": "mathematica",
   "file_extension": ".m",
   "mimetype": "application/vnd.wolfram.m",
   "name": "Wolfram Language",
   "pygments_lexer": "mathematica",
   "version": "12.0"
  },
  "toc": {
   "base_numbering": 1,
   "nav_menu": {},
   "number_sections": false,
   "sideBar": true,
   "skip_h1_title": true,
   "title_cell": "Table of Contents",
   "title_sidebar": "Contents",
   "toc_cell": false,
   "toc_position": {},
   "toc_section_display": true,
   "toc_window_display": false
  }
 },
 "nbformat": 4,
 "nbformat_minor": 4
}
